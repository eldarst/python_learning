{
 "cells": [
  {
   "cell_type": "markdown",
   "metadata": {
    "pycharm": {
     "name": "#%% md\n"
    }
   },
   "source": [
    "# HW1 + HW2"
   ]
  },
  {
   "cell_type": "markdown",
   "metadata": {
    "pycharm": {
     "name": "#%% md\n"
    }
   },
   "source": [
    "## Задание № 1\n",
    "\n",
    "Напишите функцию, которой на вход подаются \n",
    "- начальное целое значение (по умолчанию 1000) \n",
    "- конечное целое значение (по умолчанию 5000). \n",
    "\n",
    "Программа должна вывести список всех чисел между начальным (включительно) и конечным (тоже включительно), в записи которых только чётные числа."
   ]
  },
  {
   "cell_type": "code",
   "execution_count": 18,
   "outputs": [
    {
     "name": "stdout",
     "output_type": "stream",
     "text": [
      "40\n",
      "42\n",
      "44\n",
      "46\n",
      "48\n"
     ]
    }
   ],
   "source": [
    "def show_even(l = 1000, r = 5000):\n",
    "     start = min(l, r)\n",
    "     end = max(l, r)\n",
    "     for i in range(start, end, 2):\n",
    "          print(i)\n",
    "\n",
    "show_even(50, 40)"
   ],
   "metadata": {
    "collapsed": false,
    "pycharm": {
     "name": "#%%\n"
    }
   }
  },
  {
   "cell_type": "markdown",
   "metadata": {
    "pycharm": {
     "name": "#%% md\n"
    }
   },
   "source": [
    "## Задание № 2\n",
    "\n",
    "Напишите функцию от двух аргументов $n$, $m$, которая выводит каждый $m$-е из первых $n$ строк треугольника Паскаля.\n",
    "\n",
    "Примеры вызовов: \n",
    "```python\n",
    "    pascal_triangle(10)\n",
    "```\n",
    "должен вывести первые 10 строк;\n",
    "\n",
    "\n",
    "```python\n",
    "    pascal_triangle(10, step = 3)\n",
    "```\n",
    "должен вывести 1, 4, 7, 10 строки.\n",
    "\n",
    "```python\n",
    "    pascal_triangle(10, 3)\n",
    "```\n",
    "Ошибка TypeError                                 \n",
    "\n",
    "__Подсказка__: может понадобится функция __zip__. Она позволяет итерироваться сразу по нескольким итерируемым объектам:\n",
    "\n",
    "```python\n",
    "a = [10, 20, 30, 40]\n",
    "b = ['a', 'b', 'c', 'd', 'e']\n",
    "c = [1.0, 3.0, 5.0, 8.0, 9.0, 11.0]\n",
    "for i, j, k in zip(a, b, c):\n",
    "     print(i, j, k)\n",
    "```"
   ]
  },
  {
   "cell_type": "code",
   "execution_count": 19,
   "metadata": {
    "pycharm": {
     "name": "#%%\n"
    }
   },
   "outputs": [
    {
     "name": "stdout",
     "output_type": "stream",
     "text": [
      "10 a 1.0\n",
      "20 b 3.0\n",
      "30 c 5.0\n",
      "40 d 8.0\n"
     ]
    }
   ],
   "source": [
    "a = [10, 20, 30, 40]\n",
    "b = ['a', 'b', 'c', 'd', 'e']\n",
    "c = [1.0, 3.0, 5.0, 8.0, 9.0, 11.0]\n",
    "for i, j, k in zip(a, b, c):\n",
    "     print(i, j, k)"
   ]
  },
  {
   "cell_type": "code",
   "execution_count": 43,
   "outputs": [],
   "source": [
    "def pascal_triangle(rows, step = 1):\n",
    "     row = [1]\n",
    "     for i in range(rows):\n",
    "          if i % step == 0:\n",
    "               print(row)\n",
    "          row = [sum(x) for x in zip([0]+row, row+[0])]"
   ],
   "metadata": {
    "collapsed": false,
    "pycharm": {
     "name": "#%%\n"
    }
   }
  },
  {
   "cell_type": "code",
   "execution_count": 44,
   "outputs": [
    {
     "name": "stdout",
     "output_type": "stream",
     "text": [
      "[1]\n",
      "[1, 1]\n",
      "[1, 2, 1]\n",
      "[1, 3, 3, 1]\n",
      "[1, 4, 6, 4, 1]\n",
      "[1, 5, 10, 10, 5, 1]\n",
      "[1, 6, 15, 20, 15, 6, 1]\n",
      "[1, 7, 21, 35, 35, 21, 7, 1]\n",
      "[1, 8, 28, 56, 70, 56, 28, 8, 1]\n",
      "[1, 9, 36, 84, 126, 126, 84, 36, 9, 1]\n"
     ]
    }
   ],
   "source": [
    "pascal_triangle(10)"
   ],
   "metadata": {
    "collapsed": false,
    "pycharm": {
     "name": "#%%\n"
    }
   }
  },
  {
   "cell_type": "code",
   "execution_count": 45,
   "outputs": [
    {
     "name": "stdout",
     "output_type": "stream",
     "text": [
      "[1]\n",
      "[1, 3, 3, 1]\n",
      "[1, 6, 15, 20, 15, 6, 1]\n",
      "[1, 9, 36, 84, 126, 126, 84, 36, 9, 1]\n"
     ]
    }
   ],
   "source": [
    "pascal_triangle(10, step = 3)"
   ],
   "metadata": {
    "collapsed": false,
    "pycharm": {
     "name": "#%%\n"
    }
   }
  },
  {
   "cell_type": "code",
   "execution_count": 50,
   "outputs": [
    {
     "name": "stdout",
     "output_type": "stream",
     "text": [
      "[1]\n",
      "[1, 3, 3, 1]\n",
      "[1, 6, 15, 20, 15, 6, 1]\n",
      "[1, 9, 36, 84, 126, 126, 84, 36, 9, 1]\n"
     ]
    }
   ],
   "source": [
    "pascal_triangle(10, 3)"
   ],
   "metadata": {
    "collapsed": false,
    "pycharm": {
     "name": "#%%\n"
    }
   }
  },
  {
   "cell_type": "markdown",
   "metadata": {
    "pycharm": {
     "name": "#%% md\n"
    }
   },
   "source": [
    "## Задание № 3\n",
    "\n",
    "Напишите функцию, принимающую произвольное число произвольных аргументов и возвращающая словарь с парами \n",
    "```\n",
    "<название_типа данных>: <количество элементов этого типа данных среди переданных аргументов> \n",
    "```"
   ]
  },
  {
   "cell_type": "code",
   "execution_count": 86,
   "outputs": [],
   "source": [
    "def get_type_dictionary(*args):\n",
    "     res = {}\n",
    "     for el in args:\n",
    "          res[type(el)] = res.get(type(el), 0) + 1\n",
    "     return res"
   ],
   "metadata": {
    "collapsed": false,
    "pycharm": {
     "name": "#%%\n"
    }
   }
  },
  {
   "cell_type": "code",
   "execution_count": 87,
   "outputs": [
    {
     "data": {
      "text/plain": "{int: 4, str: 2, list: 1, set: 1}"
     },
     "execution_count": 87,
     "metadata": {},
     "output_type": "execute_result"
    }
   ],
   "source": [
    "get_type_dictionary(1,2,3,\"234\",32,\"234\", [1,3], {23,4})"
   ],
   "metadata": {
    "collapsed": false,
    "pycharm": {
     "name": "#%%\n"
    }
   }
  },
  {
   "cell_type": "code",
   "execution_count": 88,
   "outputs": [
    {
     "data": {
      "text/plain": "{int: 3, dict: 2, str: 2}"
     },
     "execution_count": 88,
     "metadata": {},
     "output_type": "execute_result"
    }
   ],
   "source": [
    "get_type_dictionary(1,2,3,{'1':4, '2':6}, {a:a**2 for a in range(4)}, 'skdf', 'sdkf')"
   ],
   "metadata": {
    "collapsed": false,
    "pycharm": {
     "name": "#%%\n"
    }
   }
  },
  {
   "cell_type": "markdown",
   "metadata": {
    "pycharm": {
     "name": "#%% md\n"
    }
   },
   "source": [
    "## Задание № 4\n",
    "Напишите собственную реализацию стандартных тригонометрических (и не только) функций - $cos, sin, ln, e$\n",
    "\n",
    "- Напишите функции my_sin(), my_cos(), ... - аргументы - **углы**, не радианы\n",
    "- Проверьте, чтобы считалось и от комплексного аргумента\n",
    "- Сравните (удобным вам способом) полученные вами результаты с результатами стандартных методов"
   ]
  },
  {
   "cell_type": "code",
   "execution_count": 208,
   "outputs": [],
   "source": [
    "import math\n",
    "def my_sin(angle):\n",
    "     x = angle*3.14159/180\n",
    "     t=x\n",
    "     sum=x\n",
    "     for i in range(1,20):\n",
    "          t=(t*(-1)*x**2)/(2*i*(2*i+1))\n",
    "          sum=sum+t\n",
    "     return sum\n",
    "\n",
    "def my_cos(angle):\n",
    "     x=angle*3.14159/180\n",
    "     t = 1\n",
    "     sum = 1\n",
    "     for i in range(1,20):\n",
    "          t=t*(-1)*x**2/(2*i*(2*i-1))\n",
    "          sum=sum+t\n",
    "     return sum\n",
    "\n",
    "def my_ln(n):\n",
    "     e = 2.718281828459045\n",
    "     return n**(1/e)\n",
    "\n",
    "def my_exp(x):\n",
    "     e = 2.718281828459045\n",
    "     return e**(x)\n"
   ],
   "metadata": {
    "collapsed": false,
    "pycharm": {
     "name": "#%%\n"
    }
   }
  },
  {
   "cell_type": "code",
   "execution_count": 182,
   "outputs": [
    {
     "name": "stdout",
     "output_type": "stream",
     "text": [
      "0.7071063120935573\n",
      "0.7071067811865475\n",
      "0.7071072502792262\n",
      "0.7071067811865476\n"
     ]
    }
   ],
   "source": [
    "print(my_sin(45))\n",
    "print(math.sin(math.radians(45)))\n",
    "print(my_cos(45))\n",
    "print(math.cos(math.radians(45)))"
   ],
   "metadata": {
    "collapsed": false,
    "pycharm": {
     "name": "#%%\n"
    }
   }
  },
  {
   "cell_type": "code",
   "execution_count": 209,
   "outputs": [
    {
     "name": "stdout",
     "output_type": "stream",
     "text": [
      "2.3328103913131115\n",
      "2.302585092994046\n",
      "(0.631551409132304+1.1419164216021642j)\n",
      "(0.11876788457694579+0.06488319105786541j)\n",
      "(3.9923240484412714+6.217676312367968j)\n",
      "(3.992324048441272+6.217676312367968j)\n"
     ]
    }
   ],
   "source": [
    "import cmath\n",
    "print(my_ln(10))\n",
    "print(math.log(10))\n",
    "a = -2\n",
    "b = 0.5\n",
    "s = a + b*1j\n",
    "print(my_ln(s))\n",
    "print(cmath.exp(s))\n",
    "print(my_exp(2+1j))\n",
    "print(cmath.exp(2+1j))"
   ],
   "metadata": {
    "collapsed": false,
    "pycharm": {
     "name": "#%%\n"
    }
   }
  },
  {
   "cell_type": "code",
   "execution_count": null,
   "metadata": {
    "pycharm": {
     "name": "#%%\n"
    }
   },
   "outputs": [],
   "source": [
    "import math\n",
    "import cmath\n",
    "# перевод из градусов в радианы\n",
    "print(math.radians(180))\n",
    "# косинус\n",
    "print(math.cos(math.radians(60))) \n",
    "# cинус\n",
    "print(math.sin(math.radians(45)))  \n",
    "# и так далее"
   ]
  },
  {
   "cell_type": "markdown",
   "metadata": {
    "pycharm": {
     "name": "#%% md\n"
    }
   },
   "source": [
    "## Задание № 5\n",
    "\n",
    "На вход поступает целое число $n$.\n",
    "\n",
    "Выведите $n$-ое число Фибоначчи."
   ]
  },
  {
   "cell_type": "code",
   "execution_count": 308,
   "outputs": [
    {
     "name": "stdout",
     "output_type": "stream",
     "text": [
      "89\n"
     ]
    }
   ],
   "source": [
    "n = int(input(\"Введите натуральное число n:\"))\n",
    "f = [0,1,1]\n",
    "if n < 4:\n",
    "     print(f[n-1])\n",
    "else :\n",
    "     for i in range(n - 3):\n",
    "          f[0] = f[1]\n",
    "          f[1] = f[2]\n",
    "          f[2] = f[0] + f[1]\n",
    "     print(f[2])"
   ],
   "metadata": {
    "collapsed": false,
    "pycharm": {
     "name": "#%%\n"
    }
   }
  },
  {
   "cell_type": "markdown",
   "metadata": {
    "pycharm": {
     "name": "#%% md\n"
    }
   },
   "source": [
    "### Как организовать ввод данных?"
   ]
  },
  {
   "cell_type": "code",
   "execution_count": null,
   "metadata": {
    "pycharm": {
     "name": "#%%\n"
    }
   },
   "outputs": [],
   "source": [
    "string = input()"
   ]
  },
  {
   "cell_type": "code",
   "execution_count": null,
   "metadata": {
    "pycharm": {
     "name": "#%%\n"
    }
   },
   "outputs": [],
   "source": [
    "string"
   ]
  },
  {
   "cell_type": "code",
   "execution_count": null,
   "metadata": {
    "pycharm": {
     "name": "#%%\n"
    }
   },
   "outputs": [],
   "source": [
    "type(string)"
   ]
  },
  {
   "cell_type": "markdown",
   "metadata": {
    "pycharm": {
     "name": "#%% md\n"
    }
   },
   "source": [
    "### А если заранее знаем, что ожидаем число?"
   ]
  },
  {
   "cell_type": "code",
   "execution_count": null,
   "metadata": {
    "pycharm": {
     "name": "#%%\n"
    }
   },
   "outputs": [],
   "source": [
    "n = int(input(\"Тут можно написать осмысленное сообщение. Например, 'Введите натуральное число n:'\"))"
   ]
  },
  {
   "cell_type": "code",
   "execution_count": null,
   "metadata": {
    "pycharm": {
     "name": "#%%\n"
    }
   },
   "outputs": [],
   "source": [
    "n, type(n)"
   ]
  },
  {
   "cell_type": "markdown",
   "metadata": {
    "pycharm": {
     "name": "#%% md\n"
    }
   },
   "source": [
    "## Задача 6\n",
    "\n",
    "Напишите функцию, принимающую на вход два списка и возвращающая список элементов, входящих в первый и не входящих во второй."
   ]
  },
  {
   "cell_type": "code",
   "execution_count": 332,
   "metadata": {
    "pycharm": {
     "name": "#%%\n"
    }
   },
   "outputs": [],
   "source": [
    "def strange_intersection(lst1=None, lst2=None):\n",
    "     lst1 = list(lst1 or [])\n",
    "     s2 = set(lst2 or [])\n",
    "     return list(x for x in lst1 if x not in s2)"
   ]
  },
  {
   "cell_type": "code",
   "execution_count": 336,
   "outputs": [
    {
     "data": {
      "text/plain": "[1, 2, 2, 1, 3]"
     },
     "execution_count": 336,
     "metadata": {},
     "output_type": "execute_result"
    }
   ],
   "source": [
    "strange_intersection([1,2,2,1,3,4,5,6], [4,5,6,7])"
   ],
   "metadata": {
    "collapsed": false,
    "pycharm": {
     "name": "#%%\n"
    }
   }
  },
  {
   "cell_type": "markdown",
   "metadata": {
    "pycharm": {
     "name": "#%% md\n"
    }
   },
   "source": [
    "## Задача 7\n",
    "\n",
    "Напишите функцию для слияния нескольких словарей в один."
   ]
  },
  {
   "cell_type": "code",
   "execution_count": 383,
   "metadata": {
    "pycharm": {
     "name": "#%%\n"
    }
   },
   "outputs": [],
   "source": [
    "def merge_dicts(*args):\n",
    "     res = dict()\n",
    "     for x in args:\n",
    "          res.update(x)\n",
    "     return res"
   ]
  },
  {
   "cell_type": "code",
   "execution_count": 384,
   "outputs": [
    {
     "data": {
      "text/plain": "{'dfir': 1, 'kdfj': 2, 'dis': 3, 'dd': 3}"
     },
     "execution_count": 384,
     "metadata": {},
     "output_type": "execute_result"
    }
   ],
   "source": [
    "merge_dicts({\"dfir\":1, \"kdfj\":2}, {\"dis\":3, \"dd\":3})"
   ],
   "metadata": {
    "collapsed": false,
    "pycharm": {
     "name": "#%%\n"
    }
   }
  },
  {
   "cell_type": "markdown",
   "metadata": {
    "pycharm": {
     "name": "#%% md\n"
    }
   },
   "source": [
    "## Задача 8\n",
    "\n",
    "Напишите функцию, принимающую в качестве единственного аргумента строку (оформите проверку этого условия в теле функции) и возвращающую <font style=\"color:green\"><strong>True</strong></font>, если строка является палиндромом, и <font style=\"color:green\"><strong>False</strong></font> в противоположном случае. "
   ]
  },
  {
   "cell_type": "code",
   "execution_count": null,
   "metadata": {
    "pycharm": {
     "name": "#%%\n"
    }
   },
   "outputs": [],
   "source": [
    "def isPalindrome(s):\n",
    "    return s == s[::-1]"
   ]
  },
  {
   "cell_type": "markdown",
   "metadata": {
    "pycharm": {
     "name": "#%% md\n"
    }
   },
   "source": [
    "## Задача 9\n",
    "\n",
    "Напишите функцию, принимающую на вход два аргумента:\n",
    "\n",
    "1. Натуральное число $n$\n",
    "2. Натуральное число $k$, по умолчанию $1$\n",
    "\n",
    "В качестве ответа верните сумму \n",
    "$\n",
    "\\underbrace{n + nn - nnn + nnnn + nnnnn - nnnnnn + \\dots}_{k}\n",
    "$"
   ]
  },
  {
   "cell_type": "code",
   "execution_count": 286,
   "metadata": {
    "pycharm": {
     "name": "#%%\n"
    }
   },
   "outputs": [],
   "source": [
    "def cool_sum(n, k = 1):\n",
    "     return sum([n**pow if pow % 3 != 0 else (-1) * n**pow for pow in range(1,k+1)])"
   ]
  },
  {
   "cell_type": "code",
   "execution_count": 287,
   "outputs": [
    {
     "data": {
      "text/plain": "5"
     },
     "execution_count": 287,
     "metadata": {},
     "output_type": "execute_result"
    }
   ],
   "source": [
    "cool_sum(5)"
   ],
   "metadata": {
    "collapsed": false,
    "pycharm": {
     "name": "#%%\n"
    }
   }
  },
  {
   "cell_type": "code",
   "execution_count": 288,
   "outputs": [
    {
     "data": {
      "text/plain": "30"
     },
     "execution_count": 288,
     "metadata": {},
     "output_type": "execute_result"
    }
   ],
   "source": [
    "cool_sum(5, 2)"
   ],
   "metadata": {
    "collapsed": false,
    "pycharm": {
     "name": "#%%\n"
    }
   }
  },
  {
   "cell_type": "code",
   "execution_count": 289,
   "outputs": [
    {
     "data": {
      "text/plain": "-95"
     },
     "execution_count": 289,
     "metadata": {},
     "output_type": "execute_result"
    }
   ],
   "source": [
    "cool_sum(5, 3)"
   ],
   "metadata": {
    "collapsed": false,
    "pycharm": {
     "name": "#%%\n"
    }
   }
  },
  {
   "cell_type": "code",
   "execution_count": 290,
   "outputs": [
    {
     "data": {
      "text/plain": "530"
     },
     "execution_count": 290,
     "metadata": {},
     "output_type": "execute_result"
    }
   ],
   "source": [
    "cool_sum(5, 4)"
   ],
   "metadata": {
    "collapsed": false,
    "pycharm": {
     "name": "#%%\n"
    }
   }
  },
  {
   "cell_type": "markdown",
   "metadata": {
    "pycharm": {
     "name": "#%% md\n"
    }
   },
   "source": [
    "## Задача 10\n",
    "\n",
    "Напишите функцию, которая принимает на вход путь до папки и возвращающа список **файлов** в папке"
   ]
  },
  {
   "cell_type": "code",
   "execution_count": 4,
   "metadata": {
    "pycharm": {
     "name": "#%%\n"
    }
   },
   "outputs": [],
   "source": [
    "from os import listdir\n",
    "from os.path import isfile, join"
   ]
  },
  {
   "cell_type": "code",
   "execution_count": 8,
   "metadata": {
    "pycharm": {
     "name": "#%%\n"
    }
   },
   "outputs": [],
   "source": [
    "isfile?"
   ]
  },
  {
   "cell_type": "code",
   "execution_count": 22,
   "metadata": {
    "pycharm": {
     "name": "#%%\n"
    }
   },
   "outputs": [],
   "source": [
    "join??"
   ]
  },
  {
   "cell_type": "code",
   "execution_count": 67,
   "metadata": {
    "pycharm": {
     "name": "#%%\n"
    }
   },
   "outputs": [],
   "source": [
    "listdir?"
   ]
  },
  {
   "cell_type": "code",
   "execution_count": 77,
   "outputs": [],
   "source": [
    "def list_directory(path):\n",
    "     files = listdir(path)\n",
    "     return list(file for file in files if isfile(join(path, file)))\n"
   ],
   "metadata": {
    "collapsed": false,
    "pycharm": {
     "name": "#%%\n"
    }
   }
  },
  {
   "cell_type": "code",
   "execution_count": 78,
   "outputs": [
    {
     "data": {
      "text/plain": "['10_Исключения_и_менеджеры_контекста.zip',\n 'GENERICS в .NET.pdf',\n '2022-09-13 (2).png',\n 'presentation (8).pdf',\n 'Unity_4MFoK2N1zV.png',\n '2022-09-13 (13).png',\n 'TasksToPass.zip',\n 'ПРМатProgm22.pdf',\n 'Housing.csv',\n 'hw8.pdf',\n 'Middle Angular Developer.pdf',\n 'transcript.tex',\n 'datebayo.pdf',\n 'УП Роевые БПЛА_даа.pdf',\n 'IMG_20220510_142630.jpg',\n 'Code_HBr3xP2UaV.png',\n 'Tex-sample-a5.pdf',\n 'TEST_3K.docx',\n 'presentation (4).pdf',\n 'Снимок экрана 2022-05-10 в 13.15.16.png',\n 'Датасеты.ods',\n '09_Snoop_Dogg_For_All_My_Niggaz.mp3',\n 'Unity_oov9njNcZG.png',\n 'Ф_Райтманн_Динамические_системы_и_аттракторы (2).pdf',\n '02 - Operators, Data Structures, Control Structures (2).ipynb',\n 'image_2022-12-04_22-24-20.png',\n 'Буклет_УП.pdf',\n 'aleksandr_odegov.pdf',\n 'Без имени.png',\n '3 (2).ipynb',\n 'Снимок экрана (363).png',\n '2022_06_28 11_46 Office Lens.pdf',\n '.DS_Store',\n 'Unity_2Cfqc1W6Xv.png',\n 'Jupyter_Markdown_Introduction_to_Magic (2).ipynb',\n 'image_2022-12-14_21-05-12.png',\n '06 - Numpy, scipy, matplotlib, PEP8.ipynb',\n '2022_hw6.ipynb',\n 'Zhaanbaev_Eldar_Tickets_2022.pdf',\n 'Снимок экрана 2022-08-08 в 17.45.57 (2).png',\n 'presentation (5).pdf',\n 'Отчет_НИР_Кутькина.Т.Ю.pdf',\n '07 - Pandas и SQLAlchemy.zip',\n 'Снимок экрана 2022-08-01 в 12.40.26.png',\n 'Diploma.pdf',\n 'python_hw4 (2).zip',\n 'в.png',\n '2022-09-13 (12).png',\n 'presentation (9).pdf',\n 'image_2022-10-15_16-04-08.png',\n 'Буклет_компания.pdf',\n '2022-09-13 (3).png',\n '2022-09-13 (8).png',\n 'presentation (2).pdf',\n 'Invitation_to_the_speakingclub-1 (1).pdf',\n '2022-09-13 (19).png',\n 'image_2022-12-16_00-10-58.png',\n 'GENERICS в .NET (2).pdf',\n 'presentation.pdf',\n 'Снимок экрана (364).png',\n 'Parallel .NET (1).pdf',\n 'Генерация_рэо.pdf',\n 'lagejunior2010.pdf',\n '4 (2).ipynb',\n 'NewCourseWork final with signs.pdf',\n '2022-09-13 (4).png',\n '10.9.pdf',\n '2022-09-13 (15).png',\n 'Снимок экрана 2022-04-14 в 12.57.40.png',\n 'Basics_of_Modern_Mathematical_Statistics_Exercises_and_Solutions.pdf',\n 'First-Class Functions.zip',\n 'presentation (11).pdf',\n 'Samvel_Arutyunyan.pdf',\n '08 - ООП.ZIP',\n '2022-07-30_21-27-17.png',\n 'eldar-zhaanbaev-job.e.yandex-academy (2).ovpn',\n 'ritov.pdf',\n 'words (2).png',\n 'th1_1.pdf',\n 'Снимок экрана 2022-05-10 в 13.15.16 (2).png',\n '2022_hw5.ipynb',\n 'Запись-003.aac',\n '2 (2).ipynb',\n 'Nurov_Resume.pdf',\n 'presentation (10).pdf',\n 'Снимок экрана 2022-05-14 в 13.10.08.png',\n '2022-09-13 (14).png',\n '2022-09-13 (5).png',\n '11 - threading, multiprocessing.zip',\n 'Stat_Ermakov_18_2021.pdf',\n 'вы.png',\n 'Снимок экрана 2022-08-08 в 17.45.57.png',\n 'Proizvodstvennaya.pdf',\n 'Скриншот 07-08-2022 180539.png',\n 'Снимок экрана 2022-09-04 в 13.46.31.png',\n '05 - Строки и файлы.zip',\n 'presentation (3).pdf',\n 'Проект Scratch (7).sb3',\n '2022_hw7.ipynb',\n '2022-09-13 (21).png',\n '16bitsAllocatedExample.dcm',\n 'Снимок экрана от 2022-08-03 17-14-02.png',\n 'Designing Data-Intensive Applications.pdf',\n '2022_11_01 00_44 Office Lens.pdf',\n '1 (2).png',\n 'GYNV245.pdf',\n 'File0004.pdf',\n 'Screen Shot 2022-08-05 at 10.38.51 PM.png',\n 'words.png',\n 'KirillPopov_var5 (2).pdf',\n 'EP_Homework_1.pdf',\n 'image_2022-08-06_19-14-56.png',\n 'Снимок экрана 2022-04-14 в 12.56.09.png',\n 'res (2).png',\n 'image_2022-09-29_20-38-54.png',\n 'Athamov_Abdulloh_Review_2.pdf',\n 'Andrey_Chubin_CV.pdf',\n 'Designing Data-intensive applications in Russian.pdf',\n 'ID_000d69988_intraparenchymal_subarachnoid (2).dcm',\n 'image_2022-10-15_16-05-19.png',\n 'presentation (13).pdf',\n 'image_2022-10-15_11-33-55.png',\n '2022-09-13 (17).png',\n 'PXL_20220630_131702902.jpg',\n '2022-09-13 (6).png',\n '2022_11_01 00_44 Office Lens.jpg',\n 'ArtiomPeysakhovskyCV.pdf',\n 'image_2022-12-14_00-04-00.png',\n 'Eugene Kuroles.pdf',\n '1.ipynb',\n '2022-09-13 (7).png',\n 'Снимок экрана 2022-07-07 в 09.39.12.png',\n 'Introduction_Python.pdf',\n 'stepik-certificate-253-53d373d.pdf',\n '2022-09-13 (16).png',\n 'Athamov_Abdulloh_Review.pdf',\n 'th_1_sol+criteria (1).pdf',\n 'image_2022-08-06_15-22-26.png',\n 'Жаанбаев_НИР.docx',\n 'File0003.pdf',\n 'presentation (12).pdf',\n '1 (2).ipynb',\n 'image_2022-07-31_15-59-55.png',\n '8bitsAllocatedExample.dcm',\n 'image_2022-07-15_19-53-57.png',\n 'res (3).png',\n 'Снимок экрана 2022-07-07 в 10.10.51.png',\n 'Снимок экрана 2022-04-13 в 21.52.44.png',\n '[David_R._Anderson,_Dennis_J._Sweeney,.pdf',\n 'номеразадач.pdf',\n 'Neskorniuk CV 20220529.pdf',\n 'Снимок экрана 2022-07-16 в 17.43.22.png',\n 'image_2022-07-08_17-44-13.png',\n 'KirillPopov_var5.pdf',\n 'doc_2022-07-27_00-03-52.gitlab-ci.yml',\n 'image_2022-08-06_20-59-50.png',\n 'Parallel .NET (2).pdf',\n 'image_2022-07-17_13-38-58.png',\n 'Dr. Dre, Snoop Dogg - Still D.R.E..mp3',\n '3.ipynb',\n 'image_2022-07-13_17-41-58.png',\n 'exampleDicom.dcm',\n '02 - Operators, Data Structures, Control Structures.ipynb',\n '2022-09-13 (20).png',\n 'Снимок экрана 2022-04-14 в 13.24.14.png',\n 'Ф_Райтманн_Динамические_системы_и_аттракторы.pdf',\n '4.png',\n 'NewCourseWork (1).pdf',\n 'Dmitrii-Petrov-CV.pdf',\n 'python_hw3.zip',\n '09 - Ускоряем Python.zip',\n 'eldar-zhaanbaev-job.e.yandex-academy.ovpn',\n 'dataset.zip',\n 'IMG_20220630_134023.jpg',\n '2021_hw1hw2.ipynb',\n '2022-09-13 (11).png',\n 'applsci-12-05504 (2).pdf',\n '5.png',\n '4.ipynb',\n 'Esaul Kaspari cv.pdf',\n 'Jupyter_Markdown_Introduction_to_Magic.ipynb',\n 'image_2022-10-26_23-02-43.png',\n 'Unity_LkpEEDhkrM.png',\n \"M'Dee – 18 (feat. Dequine).mp3\",\n '14 - The Weeknd - Ordinary Life.mp3',\n 'default.js',\n 'hw2.pdf',\n 'hw3.pdf',\n 'Жаанбаев_ПП.docx',\n 'prep.png',\n 'Снимок экрана 2022-08-06 в 13.37.29.png',\n 'image_2022-09-17_22-49-23.png',\n 'Проекты.pdf',\n 'Цацорин_Аннотация.pdf',\n '5.10.pdf',\n 'presentation (6).pdf',\n 'applsci-12-05504.pdf',\n 'presentation (7).pdf',\n 'image_2022-10-15_16-04-03.png',\n '2.png',\n 'hw7.pdf',\n 'hw6.pdf',\n 'Проверочная_1_2.pdf',\n 'front.pdf',\n '2.ipynb',\n 'python_hw4.zip',\n 'img_030.dcm',\n '3.png',\n 'ыв.png',\n 'image_2022-10-31_23-39-34.png',\n 'th2_statements.pdf',\n 'Proizvodstvennaya final with signs(1).pdf',\n '1.png',\n 'PXL_20220630_130440740.jpg',\n '2022-09-13 (10).png',\n 'applsci-12-05504 (3).pdf',\n 'hw4.pdf',\n 'hw5.pdf',\n 'res.png',\n 'Проверочная_1_1.pdf',\n 'prep (2).png',\n 'image_2022-08-12_18-41-56.png',\n '5709-110.pdf',\n '03 - Functions + LaTeX.ipynb',\n 'Снимок экрана 2022-07-07 в 10.03.59.png',\n 'Снимок экрана 2022-04-14 в 12.56.45.png',\n 'Awesome_CV_.pdf',\n 'projects-slides.pdf']"
     },
     "execution_count": 78,
     "metadata": {},
     "output_type": "execute_result"
    }
   ],
   "source": [
    "list_directory(\"/Users/eldarst/Downloads/Telegram Desktop/\")"
   ],
   "metadata": {
    "collapsed": false,
    "pycharm": {
     "name": "#%%\n"
    }
   }
  },
  {
   "cell_type": "code",
   "execution_count": 52,
   "outputs": [
    {
     "data": {
      "text/plain": "['04 - First-Class Functions.ipynb', 'data.txt']"
     },
     "execution_count": 52,
     "metadata": {},
     "output_type": "execute_result"
    }
   ],
   "source": [
    "listdir(\"/Users/eldarst/Downloads/Telegram Desktop/First-Class Functions\")"
   ],
   "metadata": {
    "collapsed": false,
    "pycharm": {
     "name": "#%%\n"
    }
   }
  },
  {
   "cell_type": "markdown",
   "metadata": {
    "pycharm": {
     "name": "#%% md\n"
    }
   },
   "source": [
    "## Задача 11$^{*}$\n",
    "\n",
    "Напишите функцию, которая принимает в качестве параметра строку и возвращающая два значения:\n",
    "\n",
    "1. Самое длинное слово;\n",
    "2. Самое часто встречающееся слово.\n",
    "\n",
    "**Подсказка**: придется посмотреть на функции, работающие со строками и словарями. Например, как разбить строку на слова и как сортировать словарь по значениям (про сортировки подробнее будет далее в лекциях)."
   ]
  },
  {
   "cell_type": "code",
   "execution_count": 109,
   "metadata": {
    "pycharm": {
     "name": "#%%\n"
    }
   },
   "outputs": [],
   "source": [
    "from collections import Counter\n",
    "def count_words(text):\n",
    "     longest = max(text.split(), key=len)\n",
    "     maxim = max(sorted(Counter(text.split()).items()))\n",
    "     print(maxim[0])\n",
    "     print(longest)"
   ]
  },
  {
   "cell_type": "code",
   "execution_count": 110,
   "outputs": [
    {
     "name": "stdout",
     "output_type": "stream",
     "text": [
      "there\n",
      "machineee\n"
     ]
    }
   ],
   "source": [
    "count_words(\"hello there hi there machineee\")"
   ],
   "metadata": {
    "collapsed": false,
    "pycharm": {
     "name": "#%%\n"
    }
   }
  },
  {
   "cell_type": "markdown",
   "metadata": {
    "pycharm": {
     "name": "#%% md\n"
    }
   },
   "source": [
    "## Задача 12\n",
    "\n",
    "Напишите функцию, принимающую в качетсве аргумента последовательность, и возвращающую <font style=\"color:green\"><strong>True</strong></font>, если все элементы в последовательности уникальны, и <font style=\"color:green\"><strong>False</strong></font> в противоположном случае. "
   ]
  },
  {
   "cell_type": "code",
   "execution_count": 79,
   "metadata": {
    "pycharm": {
     "name": "#%%\n"
    }
   },
   "outputs": [],
   "source": [
    "def is_unique(elements):\n",
    "     return len(set(elements)) == len(elements)"
   ]
  },
  {
   "cell_type": "code",
   "execution_count": 86,
   "outputs": [
    {
     "data": {
      "text/plain": "True"
     },
     "execution_count": 86,
     "metadata": {},
     "output_type": "execute_result"
    }
   ],
   "source": [
    "is_unique([1,2,4,5])"
   ],
   "metadata": {
    "collapsed": false,
    "pycharm": {
     "name": "#%%\n"
    }
   }
  },
  {
   "cell_type": "code",
   "execution_count": 87,
   "outputs": [
    {
     "data": {
      "text/plain": "False"
     },
     "execution_count": 87,
     "metadata": {},
     "output_type": "execute_result"
    }
   ],
   "source": [
    "is_unique([1,2,4,5,2])"
   ],
   "metadata": {
    "collapsed": false,
    "pycharm": {
     "name": "#%%\n"
    }
   }
  },
  {
   "cell_type": "code",
   "execution_count": 89,
   "outputs": [
    {
     "data": {
      "text/plain": "False"
     },
     "execution_count": 89,
     "metadata": {},
     "output_type": "execute_result"
    }
   ],
   "source": [
    "is_unique((1,2,4,5,2))"
   ],
   "metadata": {
    "collapsed": false,
    "pycharm": {
     "name": "#%%\n"
    }
   }
  },
  {
   "cell_type": "code",
   "execution_count": 88,
   "outputs": [
    {
     "data": {
      "text/plain": "True"
     },
     "execution_count": 88,
     "metadata": {},
     "output_type": "execute_result"
    }
   ],
   "source": [
    "is_unique(range(1,10))"
   ],
   "metadata": {
    "collapsed": false,
    "pycharm": {
     "name": "#%%\n"
    }
   }
  }
 ],
 "metadata": {
  "kernelspec": {
   "display_name": "Python 3",
   "language": "python",
   "name": "python3"
  },
  "language_info": {
   "codemirror_mode": {
    "name": "ipython",
    "version": 3
   },
   "file_extension": ".py",
   "mimetype": "text/x-python",
   "name": "python",
   "nbconvert_exporter": "python",
   "pygments_lexer": "ipython3",
   "version": "3.7.3"
  }
 },
 "nbformat": 4,
 "nbformat_minor": 2
}
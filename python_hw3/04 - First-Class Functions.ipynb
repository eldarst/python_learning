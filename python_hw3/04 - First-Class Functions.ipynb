{
 "cells": [
  {
   "cell_type": "markdown",
   "metadata": {},
   "source": [
    "# Оглавление:\n",
    "* [Функции высших порядков](#first-bullet)\n",
    "    * [lambda()](#lambda-bullet)\n",
    "    * [map()](#map-bullet)\n",
    "    * [filter()](#filter-bullet)\n",
    "    * [reduce()](#reduce-bullet)\n",
    "    * [zip()](#zip-bullet)\n",
    "* [itertools и functools](#itertools-functools)\n",
    "    * [Генерация комбинаторных объектов itertools](#combinatoric-objects)\n",
    "    * [partial и accumulate](#partial-accumulate)\n",
    "* [Итераторы и генераторы](#iterators-generators) "
   ]
  },
  {
   "cell_type": "code",
   "execution_count": null,
   "metadata": {},
   "outputs": [],
   "source": [
    "sum?"
   ]
  },
  {
   "cell_type": "code",
   "execution_count": null,
   "metadata": {},
   "outputs": [],
   "source": [
    "min?"
   ]
  },
  {
   "cell_type": "markdown",
   "metadata": {},
   "source": [
    "# Функции высших порядков <a class=\"anchor\" id=\"first-bullet\"></a>\n",
    "## Лямбда-выражения <a class=\"anchor\" id=\"lambda-bullet\"></a>\n",
    "\n",
    "Для определения простых функций (~ однострочные) можно использовать следующий синтаксис:\n",
    "```python\n",
    "lambda <аргументы>: <выражение>\n",
    "```\n",
    "\n",
    "- <аргументы> - список аргуметов (через запятую)\n",
    "- <выражение> - некое действие над <аргументами>    \n",
    "\n",
    "Создается анонимная функция (без имени).\n",
    "Такие функции используются только при создании."
   ]
  },
  {
   "cell_type": "markdown",
   "metadata": {},
   "source": [
    "Можно присвоить результат работы функции __lambda__ переменной"
   ]
  },
  {
   "cell_type": "code",
   "execution_count": null,
   "metadata": {},
   "outputs": [],
   "source": [
    "f = lambda a,b,c : a**2 + b**2 + c**2\n",
    "type(f)"
   ]
  },
  {
   "cell_type": "code",
   "execution_count": null,
   "metadata": {},
   "outputs": [],
   "source": [
    "f(3,4,5)"
   ]
  },
  {
   "cell_type": "markdown",
   "metadata": {},
   "source": [
    "Но всю мощь можно ощутить в комбинации с другими полезными функциями:\n",
    "## map() <a class=\"anchor\" id=\"map-bullet\"></a>\n",
    "2 аргумента: функция и коллекция (на самом деле `итерируемый` объект. А может даже и не один!). \n",
    "\n",
    "Функция применяется к каждому элементу коллекции и возвращает новую коллекцию."
   ]
  },
  {
   "cell_type": "code",
   "execution_count": null,
   "metadata": {},
   "outputs": [],
   "source": [
    "map?"
   ]
  },
  {
   "cell_type": "code",
   "execution_count": null,
   "metadata": {},
   "outputs": [],
   "source": [
    "str_digits = ['1', '2', '3', '4', '5', '6', '7']\n",
    " \n",
    "int_digits = []\n",
    "for str_digit in str_digits:\n",
    "    int_digits.append(int(str_digit))\n",
    "\n",
    "print(int_digits)"
   ]
  },
  {
   "cell_type": "markdown",
   "metadata": {},
   "source": [
    "То же самое с помощью метода __map()__\n",
    "\n",
    "__NB__: Функция __map()__ в Python - ленивая, т.е. ничего не будет считаться, пока программист не попросит.\n",
    "Копируем результат работы функции __map()__, вызывая __list()__"
   ]
  },
  {
   "cell_type": "code",
   "execution_count": null,
   "metadata": {},
   "outputs": [],
   "source": [
    "int_digits_map = list(map(int, str_digits))\n",
    "print(int_digits_map)"
   ]
  },
  {
   "cell_type": "markdown",
   "metadata": {},
   "source": [
    "__NB__: вызывать можно не только __list()__. Можно __set()__, __tuple()__, ...\n",
    "\n",
    "А если функции пользовательские?"
   ]
  },
  {
   "cell_type": "code",
   "execution_count": null,
   "metadata": {},
   "outputs": [],
   "source": [
    "# sub-zero level\n",
    "def dbl(x):\n",
    "    return 2*x\n",
    "\n",
    "dbl_digits = []\n",
    "str_digits = ['1', '2', '3', '4', '5', '6', '7']\n",
    "for str_digit in str_digits:\n",
    "    dbl_digits.append(dbl(str_digit))\n",
    "print(dbl_digits)"
   ]
  },
  {
   "cell_type": "code",
   "execution_count": null,
   "metadata": {},
   "outputs": [],
   "source": [
    "# low level\n",
    "# list comprehension\n",
    "print([dbl(str_digit) for str_digit in str_digits])"
   ]
  },
  {
   "cell_type": "code",
   "execution_count": null,
   "metadata": {},
   "outputs": [],
   "source": [
    "# mid level\n",
    "print(list(map(dbl, str_digits)))"
   ]
  },
  {
   "cell_type": "markdown",
   "metadata": {},
   "source": [
    "C __lambda__-выражением:"
   ]
  },
  {
   "cell_type": "code",
   "execution_count": null,
   "metadata": {},
   "outputs": [],
   "source": [
    "#top level\n",
    "print(list(map(lambda x: 2*x, str_digits)))"
   ]
  },
  {
   "cell_type": "code",
   "execution_count": null,
   "metadata": {},
   "outputs": [],
   "source": [
    "print(list(map(lambda x: 2*x, range(1, 8))))"
   ]
  },
  {
   "cell_type": "markdown",
   "metadata": {},
   "source": [
    "Стало локанично и более читаемо! Однако ...\n",
    "\n",
    "Не борщите:"
   ]
  },
  {
   "cell_type": "code",
   "execution_count": null,
   "metadata": {},
   "outputs": [],
   "source": [
    "print(list(map(lambda x,f=lambda x,f:(f(x-1,f)+f(x-2,f)) if x>1 else 1:f(x,f), range(10))))"
   ]
  },
  {
   "cell_type": "code",
   "execution_count": null,
   "metadata": {},
   "outputs": [],
   "source": [
    "from functools import reduce\n",
    "print(list(filter(None,map(lambda y:y*reduce(lambda x,y:x*y!=0,\n",
    "map(lambda x,y=y:y%x,range(2,int(pow(y,0.5)+1))),1),range(2,1000)))))"
   ]
  },
  {
   "cell_type": "markdown",
   "metadata": {},
   "source": [
    "А точно не только ко спискам?"
   ]
  },
  {
   "cell_type": "code",
   "execution_count": null,
   "metadata": {},
   "outputs": [],
   "source": [
    "ааа = (0,1,2,3,4,5,6,7)\n",
    "print(tuple(map(lambda x: 2*x, ааа)))"
   ]
  },
  {
   "cell_type": "code",
   "execution_count": null,
   "metadata": {},
   "outputs": [],
   "source": [
    "dict0 = {1:\"aaaa\", 2:\"bbbb\", 5:\"ffff\"}\n",
    "dict1 = dict(map(lambda kv: (kv[0], 2 * kv[1]), dict0.items()))\n",
    "dict1"
   ]
  },
  {
   "cell_type": "code",
   "execution_count": null,
   "metadata": {},
   "outputs": [],
   "source": [
    "# может всё-таки так?\n",
    "dict2 = {k: dbl(v) for k, v in dict0.items()}\n",
    "dict2"
   ]
  },
  {
   "cell_type": "markdown",
   "metadata": {},
   "source": [
    "Можно применить к нескольким спискам. Тогда количество аргументов функции-аргумента должно равняться количеству коллекций."
   ]
  },
  {
   "cell_type": "code",
   "execution_count": null,
   "metadata": {},
   "outputs": [],
   "source": [
    "l1 = [1,2,3]\n",
    "l2 = [4,5,6]\n",
    " \n",
    "new_list = list(map(lambda x,y: 2* x + 3* y - 5, l1, l2))\n",
    "new_list"
   ]
  },
  {
   "cell_type": "markdown",
   "metadata": {},
   "source": [
    "Если количество элементов в списках не совпадает?\n",
    "\n",
    "Выполнение закончится на минимальной коллекции."
   ]
  },
  {
   "cell_type": "code",
   "execution_count": null,
   "metadata": {},
   "outputs": [],
   "source": [
    "l1 = [1,2,3,7]\n",
    "l2 = [4,5]\n",
    " \n",
    "new_list = list(map(lambda x,y: 2* x + 3* y - 5, l1, l2))\n",
    "new_list"
   ]
  },
  {
   "cell_type": "markdown",
   "metadata": {},
   "source": [
    "## filter() <a class=\"anchor\" id=\"filter-bullet\"></a>\n",
    "Фильтрация элементов последовательности\n",
    "```python\n",
    "filter(<логическая_функция>, <последовательность>)\n",
    "```\n",
    "\n",
    "    <логическая_функция> - что-то приводимое к boolean значениям."
   ]
  },
  {
   "cell_type": "code",
   "execution_count": null,
   "metadata": {},
   "outputs": [],
   "source": [
    "filter?"
   ]
  },
  {
   "cell_type": "code",
   "execution_count": null,
   "metadata": {},
   "outputs": [],
   "source": [
    "nums = [-2.0, 8, 44, 0, -0.00000001, 10, 3.14]\n",
    "nums_positive = list(filter(lambda x: x > 0, nums))\n",
    "nums_positive"
   ]
  },
  {
   "cell_type": "markdown",
   "metadata": {},
   "source": [
    "## reduce() <a class=\"anchor\" id=\"reduce-bullet\"></a>\n",
    "```python\n",
    "from functools import reduce\n",
    "reduce(<функция>, <последовательность>)\n",
    "```\n",
    "\n",
    "reduce() последовательно применяет функцию-аргумент к элементам списка, возвращает единичное значение.\n",
    "\n",
    "```\n",
    "reduce(f, [a, b, c]) = f(f(a, b), c)\n",
    "```\n",
    "\n",
    "__NB__: начиная с Python 3 функция __reduce()__ назходится в модуле __functools__"
   ]
  },
  {
   "cell_type": "code",
   "execution_count": null,
   "metadata": {},
   "outputs": [],
   "source": [
    "reduce?"
   ]
  },
  {
   "cell_type": "code",
   "execution_count": null,
   "metadata": {},
   "outputs": [],
   "source": [
    "sum_all = reduce(lambda x,y: x + y, nums)\n",
    "sum_all"
   ]
  },
  {
   "cell_type": "markdown",
   "metadata": {},
   "source": [
    "## zip()  <a class=\"anchor\" id=\"zip-bullet\"></a>\n",
    "Функция __zip()__ объединяет в кортежи элементы из последовательностей переданных в качестве аргументов.\n",
    "\n",
    "```python\n",
    "zip(iterA, iterB, ...) = (iterA[0], iterB[0], ...), (iterA[1], iterB[1], ...), …\n",
    "```\n",
    "\n",
    "Закончит выполнение, когда закончится самый короткий список."
   ]
  },
  {
   "cell_type": "code",
   "execution_count": null,
   "metadata": {},
   "outputs": [],
   "source": [
    "l1 = [None, 1, 'str', 3.14]\n",
    "str1 = \"7890\"\n",
    "tuple1 = (None, True, 2.018, 'rts')\n",
    "\n",
    "zip_res = list(zip(l1, str1, tuple1))\n",
    "zip_res"
   ]
  },
  {
   "cell_type": "code",
   "execution_count": null,
   "metadata": {},
   "outputs": [],
   "source": [
    "l1 = [None, 1, 'str']\n",
    "str1 = \"7890\"\n",
    "tuple1 = (None, True, 2.018, 'rts', \"add\", 1 + 2j)\n",
    "\n",
    "zip_res = list(zip(l1, str1, tuple1))\n",
    "zip_res"
   ]
  },
  {
   "cell_type": "markdown",
   "metadata": {},
   "source": [
    "## enumerate()\n",
    "\n",
    "возвращает кортежи из номера элемента (при нумерации с нуля) и значения очередного элемента."
   ]
  },
  {
   "cell_type": "code",
   "execution_count": null,
   "metadata": {},
   "outputs": [],
   "source": [
    "# %load data.txt\n",
    "Здесь что-то есть\n",
    "\n",
    "И здесь\n",
    "И здесь\n",
    "\n",
    "И здесь"
   ]
  },
  {
   "cell_type": "code",
   "execution_count": null,
   "metadata": {},
   "outputs": [],
   "source": [
    "f = open('data.txt', 'r', encoding='utf8')\n",
    "for i, line in enumerate(f):\n",
    "    if line.strip() == '':\n",
    "        print('Пустая строка в строке под номером', i)"
   ]
  },
  {
   "cell_type": "markdown",
   "metadata": {},
   "source": [
    "## any, all\n",
    "\n",
    "возвращают истину, если хотя бы один или все элементы iterable истинны соответственно."
   ]
  },
  {
   "cell_type": "code",
   "execution_count": null,
   "metadata": {},
   "outputs": [],
   "source": [
    "print(all(map(lambda x: abs(int(x)) <= 100, input().split())))"
   ]
  },
  {
   "cell_type": "markdown",
   "metadata": {},
   "source": [
    "# itertools, functools <a class=\"anchor\" id=\"itertools-functools\"></a>\n",
    "\n",
    "## Генерация комбинаторных объектов itertools <a class=\"anchor\" id=\"combinatoric-objects\"></a>\n",
    "\n",
    "### itertools.combinations(iterable, size) \n",
    "\n",
    "генерирует все подмножества множества iterable размером size в виде кортежей (a.k.a сочетания)."
   ]
  },
  {
   "cell_type": "code",
   "execution_count": null,
   "metadata": {},
   "outputs": [],
   "source": [
    "from itertools import combinations\n",
    " \n",
    "nums = list(map(int, input().split()))\n",
    "combs = combinations(range(len(nums)), 3)\n",
    "print(max(map(lambda x: nums[x[0]] * nums[x[1]] * nums[x[2]], combs)))"
   ]
  },
  {
   "cell_type": "markdown",
   "metadata": {},
   "source": [
    "Подумайте как сделать это эффективнее?\n",
    "\n",
    "### itertools.permutations(iterable) \n",
    "\n",
    "генерирует все перестановки iterable. Существует вариант функции с двумя параметрами, второй параметр является размером подмножества. Тогда генерируются все перестановки всех подмножеств заданного размера."
   ]
  },
  {
   "cell_type": "code",
   "execution_count": null,
   "metadata": {},
   "outputs": [],
   "source": [
    "from itertools import permutations\n",
    "list(permutations([1, 2, 3]))"
   ]
  },
  {
   "cell_type": "code",
   "execution_count": null,
   "metadata": {},
   "outputs": [],
   "source": [
    "list(permutations([1, 2, 3], 2))"
   ]
  },
  {
   "cell_type": "markdown",
   "metadata": {},
   "source": [
    "### itertools.combinations_with_replacement(iterable, size) \n",
    "\n",
    "генерирует все подмножества iterable размером size с повторениями, т.е. одно и то же число может входить в подмножество несколько раз."
   ]
  },
  {
   "cell_type": "code",
   "execution_count": null,
   "metadata": {},
   "outputs": [],
   "source": [
    "from itertools import combinations_with_replacement\n",
    "list(combinations_with_replacement([1, 2, 3], 3))"
   ]
  },
  {
   "cell_type": "markdown",
   "metadata": {},
   "source": [
    "## partial, accumulate <a class=\"anchor\" id=\"partial-accumulate\"></a>\n",
    "\n",
    "### functools.partial \n",
    "предназначена для оборачивания существующих функций с подстановкой некоторых параметров.\n",
    "\n",
    "Частичное (partial) применение некоторых аргументов, позволяет уменьшить арность функции (количество аргументов).\n",
    "В итоге, на выходе мы получим объект с упрощённой сигнатурой."
   ]
  },
  {
   "cell_type": "code",
   "execution_count": null,
   "metadata": {},
   "outputs": [],
   "source": [
    "from functools import partial\n",
    " \n",
    "partial?"
   ]
  },
  {
   "cell_type": "code",
   "execution_count": null,
   "metadata": {},
   "outputs": [],
   "source": [
    "binStrToInt = partial(int, base=2)\n",
    "print(binStrToInt('10010'))"
   ]
  },
  {
   "cell_type": "markdown",
   "metadata": {},
   "source": [
    "### itertools.accumulate(iterable, func) \n",
    "возвращает iterable со всеми промежуточными значениями, т.е. для списка [A, B, C] accumulate вернет значения A, f(A, B), f(f(A, B), C). \n",
    "\n",
    "Например, можно узнать максимальный элемент для каждого префикса (некоторого количества первых элементов) заданной последовательности:\n"
   ]
  },
  {
   "cell_type": "code",
   "execution_count": null,
   "metadata": {},
   "outputs": [],
   "source": [
    "from itertools import accumulate\n",
    " \n",
    "print(*accumulate(map(int, input().split()), max))"
   ]
  },
  {
   "cell_type": "markdown",
   "metadata": {},
   "source": [
    "# Итераторы и генераторы <a class=\"anchor\" id=\"iterators-generators\"></a>\n",
    "\n",
    "```python\n",
    "    __next__\n",
    "```"
   ]
  },
  {
   "cell_type": "code",
   "execution_count": null,
   "metadata": {},
   "outputs": [],
   "source": [
    "myList = [1, 2, 3]\n",
    "for i in iter(myList):\n",
    "    print(i)"
   ]
  },
  {
   "cell_type": "code",
   "execution_count": null,
   "metadata": {},
   "outputs": [],
   "source": [
    "for i in myList:\n",
    "    print(i)"
   ]
  },
  {
   "cell_type": "markdown",
   "metadata": {},
   "source": [
    "Для создания итераторов в Питоне используется специальный вид функций, называемых **генераторами**. \n",
    "\n",
    "В обычной функции <font style=\"color:green\"><strong>return</strong></font> прекращает работу функции. \n",
    "\n",
    "В генераторе вместо <font style=\"color:green\"><strong>return</strong></font> используется оператор <font style=\"color:green\"><strong>yield</strong></font>, который также возвращает значение, но не прекращает выполнение функции, а приостанавливает его до тех пор, пока не потребуется следующее значение итератора. \n",
    "\n",
    "При этом работа функции продолжится с того места и в том состоянии, в котором она находилась на момент вызова <font style=\"color:green\"><strong>yield</strong></font>."
   ]
  },
  {
   "cell_type": "code",
   "execution_count": null,
   "metadata": {},
   "outputs": [],
   "source": [
    "def myRange(n):\n",
    "    i = 0\n",
    "    while i < n:\n",
    "        yield i\n",
    "        i += 1\n",
    "        \n",
    "for i in myRange(10):\n",
    "    print(i)"
   ]
  },
  {
   "cell_type": "markdown",
   "metadata": {},
   "source": [
    "Генераторы могут иметь и сложную рекурсивную структуру. \n",
    "\n",
    "Например, мы можем написать генератор, который будет выдавать все числа заданной длины, цифры в которых не убывают и старшая цифра не превосходит заданного параметра:"
   ]
  },
  {
   "cell_type": "code",
   "execution_count": null,
   "metadata": {},
   "outputs": [],
   "source": [
    "def genDecDigs(cntDigits, maxDigit):\n",
    "    if cntDigits > 0:\n",
    "        for nowDigit in range(maxDigit + 1):\n",
    "            for tail in genDecDigs(cntDigits - 1, nowDigit):\n",
    "                yield nowDigit * 10**(cntDigits - 1) + tail\n",
    "    else:\n",
    "        yield 0\n",
    "            \n",
    "print(list(genDecDigs(2, 3)))\n",
    "#print(*genDecDigs(2, 3))"
   ]
  }
 ],
 "metadata": {
  "kernelspec": {
   "display_name": "Python 3",
   "language": "python",
   "name": "python3"
  },
  "language_info": {
   "codemirror_mode": {
    "name": "ipython",
    "version": 3
   },
   "file_extension": ".py",
   "mimetype": "text/x-python",
   "name": "python",
   "nbconvert_exporter": "python",
   "pygments_lexer": "ipython3",
   "version": "3.7.3"
  }
 },
 "nbformat": 4,
 "nbformat_minor": 2
}

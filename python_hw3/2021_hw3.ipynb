{
 "cells": [
  {
   "cell_type": "markdown",
   "metadata": {
    "pycharm": {
     "name": "#%% md\n"
    }
   },
   "source": [
    "## Задача 1: функция __zip()__ через __map()__"
   ]
  },
  {
   "cell_type": "code",
   "execution_count": 123,
   "outputs": [],
   "source": [
    "def zip_by_map(*args):\n",
    "    size = min(map(lambda x: len(x), args))\n",
    "    res = []\n",
    "    for i in range(size):\n",
    "        lst = tuple(map(lambda x: x[i], args))\n",
    "        res.append(lst)\n",
    "    return res"
   ],
   "metadata": {
    "collapsed": false,
    "pycharm": {
     "name": "#%%\n"
    }
   }
  },
  {
   "cell_type": "code",
   "execution_count": 124,
   "outputs": [
    {
     "data": {
      "text/plain": "[(None, '7', None), (1, '8', True), ('str', '9', 2.018), (3.14, '0', 'rts')]"
     },
     "execution_count": 124,
     "metadata": {},
     "output_type": "execute_result"
    }
   ],
   "source": [
    "l1 = [None, 1, 'str', 3.14]\n",
    "str1 = \"7890\"\n",
    "tuple1 = (None, True, 2.018, 'rts')\n",
    "\n",
    "zip_res = list(zip_by_map(l1, str1, tuple1))\n",
    "zip_res"
   ],
   "metadata": {
    "collapsed": false,
    "pycharm": {
     "name": "#%%\n"
    }
   }
  },
  {
   "cell_type": "code",
   "execution_count": 66,
   "outputs": [
    {
     "data": {
      "text/plain": "[(None, '7', None, True)]"
     },
     "execution_count": 66,
     "metadata": {},
     "output_type": "execute_result"
    }
   ],
   "source": [
    "l1 = [None, 1, 'str', 3.14]\n",
    "str1 = \"7890\"\n",
    "tuple1 = (None, True, 2.018, 'rts')\n",
    "tuple4 = (True,)\n",
    "\n",
    "zip_res = list(zip(l1, str1, tuple1, tuple4))\n",
    "zip_res"
   ],
   "metadata": {
    "collapsed": false,
    "pycharm": {
     "name": "#%%\n"
    }
   }
  },
  {
   "cell_type": "markdown",
   "metadata": {
    "pycharm": {
     "name": "#%% md\n"
    }
   },
   "source": [
    "## Задача 2: поиск минимального положительного элемента в списке\n",
    "\n",
    "Написать функцию, возвращающую минимальный положительный элемент в списке."
   ]
  },
  {
   "cell_type": "code",
   "execution_count": 43,
   "outputs": [],
   "source": [
    "def min_positive(nums):\n",
    "    if all(x <= 0 for x in nums):\n",
    "        return 'No such element'\n",
    "    return min(filter(lambda x: x > 0, nums))"
   ],
   "metadata": {
    "collapsed": false,
    "pycharm": {
     "name": "#%%\n"
    }
   }
  },
  {
   "cell_type": "code",
   "execution_count": 44,
   "outputs": [
    {
     "data": {
      "text/plain": "3.14"
     },
     "execution_count": 44,
     "metadata": {},
     "output_type": "execute_result"
    }
   ],
   "source": [
    "nums = [-2.0, 8, 44, 0, -0.00000001, 10, 3.14]\n",
    "min_positive(nums)"
   ],
   "metadata": {
    "collapsed": false,
    "pycharm": {
     "name": "#%%\n"
    }
   }
  },
  {
   "cell_type": "markdown",
   "metadata": {
    "pycharm": {
     "name": "#%% md\n"
    }
   },
   "source": [
    "## Задача 3: поиск НОД всех чисел в iterable\n",
    "\n",
    "На вход подаются натуральные числа (через пробел), необходимо вывести НОД всех введенных чисел."
   ]
  },
  {
   "cell_type": "code",
   "execution_count": 59,
   "outputs": [
    {
     "name": "stdout",
     "output_type": "stream",
     "text": [
      "3\n"
     ]
    }
   ],
   "source": [
    "def gcd(a, b):\n",
    "    if b == 0:\n",
    "        return a\n",
    "    elif a == 0:\n",
    "        return b\n",
    "    else:\n",
    "        return abs(gcd(b, a % b))\n",
    "\n",
    "numbers = list(map(int,input(\"Введите натуральные числа через пробел:\").split()))\n",
    "ans = numbers[0]\n",
    "for num in numbers[1:]:\n",
    "    ans = gcd(ans, num)\n",
    "\n",
    "print(ans)"
   ],
   "metadata": {
    "collapsed": false,
    "pycharm": {
     "name": "#%%\n"
    }
   }
  },
  {
   "cell_type": "markdown",
   "metadata": {
    "pycharm": {
     "name": "#%% md\n"
    }
   },
   "source": [
    "## Как сортировать?\n",
    "\n",
    "Есть 2 способа:\n",
    "1. Метод sort, применяемый к списку (изменяется содержимое). Только ко списку.\n",
    "```python\n",
    "myList.sort()\n",
    "# в обратном порядке\n",
    "myList.sort(reverse=True)\n",
    "```\n",
    "2. Метод sorted (возвращает отсортированный список, но не изменяет значение своего параметра). В качестве аргумента - не только список, а кортежи, строки, iterable\n",
    "```python\n",
    "sortedList = sorted(myList)\n",
    "# в обратном порядке\n",
    "sortedList = sorted(myList, reverse=True)\n",
    "```\n",
    "\n",
    "Сортировку можно применять к спискам, все элементы которых сравнимы между собой.\n",
    "\n",
    "### Именованный параметр key\n",
    "\n",
    "Значением этого параметра должна быть функция, которая применяется к каждому элементу списка и затем сравнение элементов происходит по значению этой функции (оно называется ключом).\n",
    "```python\n",
    "# сортировка и вывод списка строк по длине\n",
    "'\\n'.join(sorted(strings, key=len))\n",
    "```"
   ]
  },
  {
   "cell_type": "markdown",
   "metadata": {
    "pycharm": {
     "name": "#%% md\n"
    }
   },
   "source": [
    "## Задача 4: о сортировке точек на плоскости, заданных парой целых координат $x$ и $y$ по неубыванию расстояния от начала координат.\n",
    "\n",
    "1. Вводится число $n$;\n",
    "2. Далее вводятся $n$ точек на плоскости (числ через пробел);\n",
    "3. Вывести строки в порядке неубывания расстояния до центра координат."
   ]
  },
  {
   "cell_type": "code",
   "execution_count": 120,
   "outputs": [
    {
     "name": "stdout",
     "output_type": "stream",
     "text": [
      "[(0, 0), (0, 1), (-3, -3), (-4, 2), (10, 1)]\n",
      "[(0, 1), (-4, 2), (0, 0), (10, 1), (-3, -3)]\n"
     ]
    }
   ],
   "source": [
    "def distance_to_center(coord):\n",
    "    return (coord[0] ** 2 + coord[1] ** 2) **(1/2)\n",
    "\n",
    "n = int(input('n = '))\n",
    "coordinates = list(map(int, input().split()))\n",
    "if len(coordinates) == 2 * n:\n",
    "    pairs = list(zip(coordinates[::2], coordinates[1::2]))\n",
    "    print(sorted(pairs,key=distance_to_center))\n",
    "    print(pairs)\n",
    "else:\n",
    "    print('Invalid input')"
   ],
   "metadata": {
    "collapsed": false,
    "pycharm": {
     "name": "#%%\n"
    }
   }
  },
  {
   "cell_type": "markdown",
   "source": [
    "n = 5\n",
    "0 1 -4 2 0 0 10 1 -3 -3"
   ],
   "metadata": {
    "collapsed": false,
    "pycharm": {
     "name": "#%% md\n"
    }
   }
  },
  {
   "cell_type": "markdown",
   "metadata": {
    "pycharm": {
     "name": "#%% md\n"
    }
   },
   "source": [
    "## Задача 5: Стоимость поездок \n",
    "\n",
    "В городе есть несколько человек, каждый из которых хочет проехать некоторое число километров. Также в городе есть несколько машин такси ($=$ количество человек), каждый из которых берет определенную сумму за перевозку ($\\frac{\\text{руб.}}{\\text{км}}$).\n",
    "Необходимо сопоставить каждому человеку номер такси, чтобы суммарная цена поездок была минимальна.\n",
    "\n",
    "1. В  первой строке через пробелы вводятся положительные числа $-$ км, которые хотят проехать будущие пассажиры;\n",
    "2. Во второй строке через пробелы вводятся положительные числа $-$ стоимости (за 1 км) проезда таксистов соответственно;\n",
    "3. Вывести минимальную суммарную цену поездок и соответствующие каждому пассажиру номера такси (списком).\n",
    "\n",
    "**Пример входных данных:**\n",
    "\n",
    "4 5 6 1 2 3 <br>\n",
    "100 150 200 400 70 95\n",
    "\n",
    "**Пример выходных данных:**\n",
    "\n",
    "2545 <br>\n",
    "0 5 4 3 2 1"
   ]
  },
  {
   "cell_type": "code",
   "execution_count": 10,
   "outputs": [
    {
     "name": "stdout",
     "output_type": "stream",
     "text": [
      "2545\n",
      "[0, 5, 4, 3, 2, 1]\n"
     ]
    }
   ],
   "source": [
    "distances = list(map(int, input('Enter distances: ').split()))\n",
    "prices = list(map(int, input('Enter prices: ').split()))\n",
    "size = len(distances)\n",
    "\n",
    "sorted_taxi_drivers = sorted(list((prices[i], i) for i in range(len(prices))), key= lambda x: x[0])\n",
    "sorted_passengers = sorted(list((distances[i],i) for i in range(len(distances))), key = lambda x: x[0], reverse=True)\n",
    "\n",
    "result = a = [0] * size\n",
    "sum = 0\n",
    "\n",
    "for i in range(size):\n",
    "    result[sorted_taxi_drivers[i][1]] = sorted_passengers[i][1]\n",
    "    sum += sorted_taxi_drivers[i][0] * sorted_passengers[i][0]\n",
    "\n",
    "print(sum)\n",
    "print(result)"
   ],
   "metadata": {
    "collapsed": false,
    "pycharm": {
     "name": "#%%\n"
    }
   }
  }
 ],
 "metadata": {
  "kernelspec": {
   "display_name": "Python 3",
   "language": "python",
   "name": "python3"
  },
  "language_info": {
   "codemirror_mode": {
    "name": "ipython",
    "version": 3
   },
   "file_extension": ".py",
   "mimetype": "text/x-python",
   "name": "python",
   "nbconvert_exporter": "python",
   "pygments_lexer": "ipython3",
   "version": "3.7.3"
  }
 },
 "nbformat": 4,
 "nbformat_minor": 2
}
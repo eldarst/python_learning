{
 "cells": [
  {
   "cell_type": "markdown",
   "metadata": {
    "pycharm": {
     "name": "#%% md\n"
    }
   },
   "source": [
    "# Python Pandas Demo\n",
    "\n",
    "### Описание данных\n",
    "\n",
    "В датасете `datazon_sales_new.csv` содержатся данные о продажах мобильных телефонов в онлайн-магазине Datazon\n",
    "\n",
    "Описание колонок в датасете `datazon_sales_new.csv`:\n",
    "\n",
    "- `date` — дата продажи\n",
    "- `article_id` — идентификатор товара\n",
    "- `country_code` — код страны\n",
    "- `sold_units` — количество проданных товаров"
   ]
  },
  {
   "cell_type": "markdown",
   "metadata": {
    "pycharm": {
     "name": "#%% md\n"
    }
   },
   "source": [
    "### Задание 1\n",
    "\n",
    "Выполните представленные ниже действия, а также вспомогательные действия, которые вы посчитаете нужными для выполнения заданий\n",
    "\n",
    "С помощью библиотеки `pandas` (импортирована под алиасом `pd`), прочитайте данные из csv-файла `datazon_sales_new.csv` и запишите датафрейм в переменную `sales_df`"
   ]
  },
  {
   "cell_type": "code",
   "execution_count": null,
   "metadata": {
    "pycharm": {
     "name": "#%%\n"
    }
   },
   "outputs": [],
   "source": [
    "import pandas as pd\n",
    "\n",
    "# свой код напишите ниже\n",
    "# sales_df = # напишите код для чтения данных из файла, используя библиотеку pandas\n",
    "sales_df = pd.read_csv('datazon_sales_new.csv', delimiter=',')"
   ]
  },
  {
   "cell_type": "code",
   "execution_count": null,
   "metadata": {
    "pycharm": {
     "name": "#%%\n"
    }
   },
   "outputs": [],
   "source": [
    "sales_df"
   ]
  },
  {
   "cell_type": "markdown",
   "metadata": {
    "pycharm": {
     "name": "#%% md\n"
    }
   },
   "source": [
    "### Задание 2\n",
    "\n",
    "В колонке `sold_units` для некоторых строк содержится значение `'unknown'`. Произведите замену этого значения на 0 и запишите результат в ту же колонку"
   ]
  },
  {
   "cell_type": "markdown",
   "metadata": {
    "pycharm": {
     "name": "#%% md\n"
    }
   },
   "source": [
    "#### Что делать?\n",
    "\n",
    "    1. В pandas есть два вида структур данных: Series и DataFrame.\n",
    "    2. DataFrame — двухмерная структура, состоящая из колонок и строк. У колонок есть имена, а у строк — индексы.\n",
    "    3. В руководстве по pandas основной акцент будет сделан на DataFrames. Причина проста: с большей частью аналитических методов логичнее работать в двухмерной структуре.sales_df"
   ]
  },
  {
   "cell_type": "markdown",
   "metadata": {
    "pycharm": {
     "name": "#%% md\n"
    }
   },
   "source": [
    "##### Вывод определенных колонок из dataframe\n",
    "\n",
    "    sales_df[['date', 'sold_units']]\n",
    "    \n",
    "    date\tarticle_id\tcountry_code\tsold_units\n",
    "    \n",
    "    \n",
    "##### Фильтрация определенных значений в dataframe\n",
    "    sales_df[sales_df.sold_units == 'unknown']"
   ]
  },
  {
   "cell_type": "code",
   "execution_count": null,
   "metadata": {
    "pycharm": {
     "name": "#%%\n"
    }
   },
   "outputs": [],
   "source": [
    "sales_df[['date', 'sold_units']]"
   ]
  },
  {
   "cell_type": "markdown",
   "metadata": {
    "pycharm": {
     "name": "#%% md\n"
    }
   },
   "source": [
    "получить объекты Series вместе DataFrames. Это можно сделать с помощью одного из способов:\n",
    "\n",
    "    sales_df.sold_units\n",
    "    sales_df['sold_units']"
   ]
  },
  {
   "cell_type": "code",
   "execution_count": null,
   "metadata": {
    "pycharm": {
     "name": "#%%\n"
    }
   },
   "outputs": [],
   "source": [
    "sales_df.sold_units"
   ]
  },
  {
   "cell_type": "code",
   "execution_count": null,
   "metadata": {
    "pycharm": {
     "name": "#%%\n"
    }
   },
   "outputs": [],
   "source": [
    "sales_df['sold_units']"
   ]
  },
  {
   "cell_type": "code",
   "execution_count": null,
   "metadata": {
    "scrolled": false,
    "pycharm": {
     "name": "#%%\n"
    }
   },
   "outputs": [],
   "source": [
    "# выведем те записи, в которых надо заменить ''unknown'' на 0\n",
    "sales_df[(sales_df.sold_units == 'unknown') & (sales_df.country_code == 'USA')]"
   ]
  },
  {
   "cell_type": "markdown",
   "metadata": {
    "pycharm": {
     "name": "#%% md\n"
    }
   },
   "source": [
    "##### Замена\n",
    "Функция <a href=\"https://pandas.pydata.org/pandas-docs/stable/reference/api/pandas.DataFrame.replace.html\">replace</a>\n",
    "$-$ replace a string or substring in a column of a dataframe in python pandas with an alternative string\n",
    "\n",
    "Функция <a href=\"https://pandas.pydata.org/pandas-docs/stable/reference/api/pandas.DataFrame.loc.html\">loc</a> $-$ получить доступ к значениям данных, помещенным в конкретную строку или столбец, на основе значения индекса, переданного функции.\n",
    "\n"
   ]
  },
  {
   "cell_type": "code",
   "execution_count": null,
   "metadata": {
    "pycharm": {
     "name": "#%%\n"
    }
   },
   "outputs": [],
   "source": [
    "# напишите код\n",
    "sales_df['sold_units'] = sales_df['sold_units'].replace('unknown', 0)\n",
    "sales_df[sales_df.sold_units == 0]"
   ]
  },
  {
   "cell_type": "code",
   "execution_count": null,
   "metadata": {
    "pycharm": {
     "name": "#%%\n"
    }
   },
   "outputs": [],
   "source": [
    "sales_df.loc[sales_df['sold_units'] == 'unknown', 'sold_units'] = 0\n",
    "sales_df[sales_df.sold_units == 0]"
   ]
  },
  {
   "cell_type": "code",
   "execution_count": null,
   "metadata": {
    "pycharm": {
     "name": "#%%\n"
    }
   },
   "outputs": [],
   "source": [
    "# Replace function in python to replace a substring with another \n",
    "\n",
    "# sales_df['sold_units'] = map(lambda x: x.replace(\"unknown\",\"0\"), sales_df['sold_units'])\n",
    "# sales_df['sold_units']"
   ]
  },
  {
   "cell_type": "markdown",
   "metadata": {
    "pycharm": {
     "name": "#%% md\n"
    }
   },
   "source": [
    "### Задание 3\n",
    "\n",
    "Создайте датафрейм `total_sales_by_country`, в котором для каждой страны будет посчитана сумма продаж за всё время наблюдений. Колонку с суммой продаж назовите `total_sold_units`\n",
    "\n",
    "Обратите внимание, что в переменной `total_sales_by_country` должна хранится структура данных типа `pandas.core.frame.DataFrame`, а индексы датафрейма должны быть целыми числами\n",
    "\n",
    "Пример данных, которые должны хранится в `total_sales_by_country`:"
   ]
  },
  {
   "cell_type": "code",
   "execution_count": null,
   "metadata": {
    "pycharm": {
     "name": "#%%\n"
    }
   },
   "outputs": [],
   "source": [
    "# Это пример ожидаемых данных\n",
    "pd.DataFrame({'country_code': ['AUS', 'BEL'], 'total_sold_units': [590, 286]})"
   ]
  },
  {
   "cell_type": "code",
   "execution_count": null,
   "metadata": {
    "scrolled": true,
    "pycharm": {
     "name": "#%%\n"
    }
   },
   "outputs": [],
   "source": [
    "sales_df.head()"
   ]
  },
  {
   "cell_type": "code",
   "execution_count": null,
   "metadata": {
    "pycharm": {
     "name": "#%%\n"
    }
   },
   "outputs": [],
   "source": [
    "# напишите код\n",
    "\n",
    "# перевести string в integer\n",
    "sales_df['sold_units'] = sales_df['sold_units'].astype(int)\n",
    "\n",
    "# groupby \n",
    "# as_index=False позволит вернуть именно dataframe\n",
    "df2 = sales_df.groupby('country_code', as_index=False)['sold_units'].sum()\n",
    "df2"
   ]
  },
  {
   "cell_type": "markdown",
   "metadata": {
    "pycharm": {
     "name": "#%% md\n"
    }
   },
   "source": [
    "##### Аггрегирование\n",
    "\n",
    "https://habr.com/ru/post/501214/"
   ]
  },
  {
   "cell_type": "code",
   "execution_count": null,
   "metadata": {
    "pycharm": {
     "name": "#%%\n"
    }
   },
   "outputs": [],
   "source": [
    "df1 = sales_df.groupby('country_code', as_index=False).agg({'sold_units': 'sum'})\n",
    "df1"
   ]
  },
  {
   "cell_type": "markdown",
   "metadata": {
    "pycharm": {
     "name": "#%% md\n"
    }
   },
   "source": [
    "##### Переназвать\n",
    "\n",
    "    df.rename(columns = d, inplace = False)\n",
    "    Where d is a dictionary, and the keys are the columns you want to change. The values are the new names for these columns.\n",
    "    The code inplace = False means the result would be stored in a *new* DataFrame instead of the original one.\n"
   ]
  },
  {
   "cell_type": "code",
   "execution_count": null,
   "metadata": {
    "pycharm": {
     "name": "#%%\n"
    }
   },
   "outputs": [],
   "source": [
    "df1 = df1.rename(columns = {'sold_units':'total_sold_units'}, inplace = False)\n",
    "df1"
   ]
  },
  {
   "cell_type": "markdown",
   "metadata": {
    "pycharm": {
     "name": "#%% md\n"
    }
   },
   "source": [
    "### Задание 4\n",
    "\n",
    "Создайте датафрейм `sales_2020_by_country`, в котором для каждой страны будет посчитана сумма продаж за 2020 год. Колонку с суммой продаж назовите `sold_units_2020`\n",
    "\n",
    "Обратите внимание, что в переменной `sales_2020_by_country` должна хранится структура данных типа `pandas.core.frame.DataFrame`, а индексы датафрейма должны быть целыми числами\n",
    "\n",
    "Пример данных, которые должны хранится в `sales_2020_by_country`:"
   ]
  },
  {
   "cell_type": "code",
   "execution_count": null,
   "metadata": {
    "pycharm": {
     "name": "#%%\n"
    }
   },
   "outputs": [],
   "source": [
    "# Это пример ожидаемых данных\n",
    "pd.DataFrame({'country_code': ['AUS', 'BEL'], 'sold_units_2020': [269, 112]})"
   ]
  },
  {
   "cell_type": "markdown",
   "metadata": {
    "pycharm": {
     "name": "#%% md\n"
    }
   },
   "source": [
    "Если вдруг надо строке конвертировать в дату:"
   ]
  },
  {
   "cell_type": "code",
   "execution_count": null,
   "metadata": {
    "pycharm": {
     "name": "#%%\n"
    }
   },
   "outputs": [],
   "source": [
    "sales_df['date'] =  pd.to_datetime(sales_df['date'], infer_datetime_format=True)\n",
    "sales_df"
   ]
  },
  {
   "cell_type": "markdown",
   "metadata": {
    "pycharm": {
     "name": "#%% md\n"
    }
   },
   "source": [
    "Индексирование в Pandas:\n",
    "https://pandas.pydata.org/pandas-docs/stable/user_guide/indexing.html"
   ]
  },
  {
   "cell_type": "code",
   "execution_count": null,
   "metadata": {
    "pycharm": {
     "name": "#%%\n"
    }
   },
   "outputs": [],
   "source": [
    "# напишите код\n",
    "\n",
    "# сортировка по дате\n",
    "df4 = sales_df[(sales_df['date'] >= '2020-01-01') & (sales_df['date'] <= '2020-12-31')]\n",
    "\n",
    "# группируем по стране\n",
    "df4 = df4.groupby('country_code', as_index=False)['sold_units'].sum()\n",
    "\n",
    "# переименовываем столбец\n",
    "df4 = df4.rename(columns = {'sold_units':'sales_2020_by_country'}, inplace = False)\n",
    "df4"
   ]
  },
  {
   "cell_type": "markdown",
   "metadata": {
    "pycharm": {
     "name": "#%% md\n"
    }
   },
   "source": [
    "### Задание 5\n",
    "\n",
    "Объедините данные из датафреймов `total_sales_by_country` и `sales_2020_by_country` и запишите объединенный датафрейм в переменную `merged_sales` \n",
    "\n",
    "Пример данных, которые должны хранится в `merged_sales`:"
   ]
  },
  {
   "cell_type": "code",
   "execution_count": null,
   "metadata": {
    "pycharm": {
     "name": "#%%\n"
    }
   },
   "outputs": [],
   "source": [
    "# Это пример ожидаемых данных\n",
    "pd.DataFrame({'country_code': ['AUS', 'BEL'], 'total_sold_units': [590, 286], 'sold_units_2020': [269, 112]})"
   ]
  },
  {
   "cell_type": "markdown",
   "metadata": {
    "pycharm": {
     "name": "#%% md\n"
    }
   },
   "source": [
    "##### Merge\n",
    "\n",
    "Здесь необходимо сделать <a href=\"https://pandas.pydata.org/pandas-docs/stable/user_guide/merging.html#database-style-dataframe-or-named-series-joining-merging\">merge</a>\n",
    "\n",
    "    left: A DataFrame or named Series object.\n",
    "\n",
    "    right: Another DataFrame or named Series object.\n",
    "\n",
    "    on: Column or index level names to join on. Must be found in both the left and right DataFrame and/or Series objects. If not passed and left_index and right_index are False, the intersection of the columns in the DataFrames and/or Series will be inferred to be the join keys.\n",
    "\n",
    "    left_on: Columns or index levels from the left DataFrame or Series to use as keys. Can either be column names, index level names, or arrays with length equal to the length of the DataFrame or Series.\n",
    "\n",
    "    right_on: Columns or index levels from the right DataFrame or Series to use as keys. Can either be column names, index level names, or arrays with length equal to the length of the DataFrame or Series.\n",
    "\n",
    "##### Ещё более подробно о Merge, join, concatenate and compare\n",
    "\n",
    "<a href=\"https://pandas.pydata.org/pandas-docs/stable/user_guide/merging.html#merge-join-concatenate-and-compare\">Полезная ссылка на документацию</a>\n"
   ]
  },
  {
   "cell_type": "code",
   "execution_count": null,
   "metadata": {
    "pycharm": {
     "name": "#%%\n"
    }
   },
   "outputs": [],
   "source": [
    "# напишите код\n",
    "\n",
    "# merge df2 и df4 по country_code\n",
    "\n",
    "merged_sales = pd.merge(df2, df4, left_on='country_code', right_on='country_code')\n",
    "merged_sales"
   ]
  },
  {
   "cell_type": "markdown",
   "metadata": {
    "pycharm": {
     "name": "#%% md\n"
    }
   },
   "source": [
    "### Задание 6\n",
    "\n",
    "Посчитайте в датафрейме `merged_sales` колонку `share_2020_in_total_sales`, в которой будет отображен процент продаж в 2020 году относительно общей величины продаж для каждой страны \n",
    "\n",
    "Пример данных, которые должны хранится в `merged_sales`:"
   ]
  },
  {
   "cell_type": "code",
   "execution_count": null,
   "metadata": {
    "pycharm": {
     "name": "#%%\n"
    }
   },
   "outputs": [],
   "source": [
    "# Это пример ожидаемых данных\n",
    "pd.DataFrame({'country_code': ['AUS', 'BEL'], 'total_sold_units': [590, 286], 'sold_units_2020': [269, 112],\n",
    "              'share_2020_in_total_sales': [0.455932, 0.391608]})\n"
   ]
  },
  {
   "cell_type": "markdown",
   "metadata": {
    "pycharm": {
     "name": "#%% md\n"
    }
   },
   "source": [
    "##### Как делать?\n",
    "\n",
    "Применить <a href=\"https://pandas.pydata.org/docs/reference/api/pandas.DataFrame.apply.html#pandas-dataframe-apply\">apply</a>\n",
    "\n",
    "\n",
    "<strong>func:</strong>function<br>\n",
    "\n",
    "    Function to apply to each column or row.\n",
    "\n",
    "<strong>axis:</strong>{0 or ‘index’, 1 or ‘columns’}, default 0<br>\n",
    "Axis along which the function is applied:\n",
    "\n",
    "    0 or ‘index’: apply function to each column.\n",
    "\n",
    "    1 or ‘columns’: apply function to each row."
   ]
  },
  {
   "cell_type": "code",
   "execution_count": null,
   "metadata": {
    "pycharm": {
     "name": "#%%\n"
    }
   },
   "outputs": [],
   "source": [
    "# напишите код\n",
    "\n",
    "merged_sales['share_2020_in_total_sales'] = merged_sales.apply(lambda row: row.sales_2020_by_country / row.sold_units, axis=1)\n",
    "merged_sales"
   ]
  },
  {
   "cell_type": "markdown",
   "metadata": {
    "pycharm": {
     "name": "#%% md\n"
    }
   },
   "source": [
    "можно проще:"
   ]
  },
  {
   "cell_type": "code",
   "execution_count": null,
   "metadata": {
    "pycharm": {
     "name": "#%%\n"
    }
   },
   "outputs": [],
   "source": [
    "merged_sales['share_2020_in_total_sales'] = merged_sales['sales_2020_by_country']/ merged_sales['sold_units']\n",
    "merged_sales"
   ]
  }
 ],
 "metadata": {
  "kernelspec": {
   "display_name": "Python 3",
   "language": "python",
   "name": "python3"
  },
  "language_info": {
   "codemirror_mode": {
    "name": "ipython",
    "version": 3
   },
   "file_extension": ".py",
   "mimetype": "text/x-python",
   "name": "python",
   "nbconvert_exporter": "python",
   "pygments_lexer": "ipython3",
   "version": "3.7.3"
  }
 },
 "nbformat": 4,
 "nbformat_minor": 4
}
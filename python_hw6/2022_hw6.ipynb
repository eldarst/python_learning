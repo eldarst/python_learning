{
 "cells": [
  {
   "cell_type": "markdown",
   "metadata": {
    "pycharm": {
     "name": "#%% md\n"
    }
   },
   "source": [
    "# Кинопрокат\n",
    "Таблица `mkrf_movies` содержит информацию из реестра прокатных удостоверений. У одного фильма может быть несколько прокатных удостоверений. \n",
    "\n",
    "- `title` — название фильма;\n",
    "- `puNumber` — номер прокатного удостоверения;\n",
    "- `show_start_date` — дата премьеры фильма;\n",
    "- `type` — тип фильма;\n",
    "- `film_studio` — студия-производитель;\n",
    "- `production_country` — страна-производитель;\n",
    "- `director` — режиссёр;\n",
    "- `producer` — продюсер;\n",
    "- `age_restriction` — возрастная категория;\n",
    "- `refundable_support` *—* объём возвратных средств государственной поддержки;\n",
    "- `nonrefundable_support` *—* объём невозвратных средств государственной поддержки;\n",
    "- `financing_source` *—* источник государственного финансирования;\n",
    "- `budget` *—* общий бюджет фильма;\n",
    "- `ratings` *—* рейтинг фильма на КиноПоиске;\n",
    "- `genres` *—* жанр фильма.\n",
    "\n",
    "Обратите внимание, что столбец `budget` **уже включает в себя полный объём государственной поддержки. Данные в этом столбце указаны только для тех фильмов, которые получили государственную поддержку. \n",
    "\n",
    "Таблица `mkrf_shows` содержит сведения о показах фильмов в российских кинотеатрах.\n",
    "\n",
    "- `puNumber` — номер прокатного удостоверения;\n",
    "- `box_office` — сборы в рублях."
   ]
  },
  {
   "cell_type": "markdown",
   "metadata": {
    "pycharm": {
     "name": "#%% md\n"
    }
   },
   "source": [
    "# Задание № 0\n",
    "\n",
    "С помощью библиотеки pandas (импортирована под алиасом pd)\n",
    "* прочитайте данные из csv-файлов mkrf_movies.csv и mkrf_shows\n",
    "* запишите датафреймы в переменные movies_df и shows_df соответственно"
   ]
  },
  {
   "cell_type": "code",
   "execution_count": 130,
   "metadata": {
    "pycharm": {
     "name": "#%%\n"
    }
   },
   "outputs": [],
   "source": [
    "import numpy as np\n",
    "import pandas as pd\n",
    "\n",
    "movies_df = pd.read_csv('mkrf_movies.csv')\n",
    "shows_df = pd.read_csv('mkrf_shows.csv')"
   ]
  },
  {
   "cell_type": "markdown",
   "metadata": {
    "pycharm": {
     "name": "#%% md\n"
    }
   },
   "source": [
    "# Задание № 1\n",
    "\n",
    "### Опишите проблемы типов имеющихся данных и варианты исправления"
   ]
  },
  {
   "cell_type": "markdown",
   "metadata": {
    "pycharm": {
     "name": "#%% md\n"
    }
   },
   "source": [
    "### Исследуйте дубликаты и пропуски. Какова их природа в этом наборе данных? Можно ли это исправить?\n",
    "\n",
    "Использовать методы\n",
    "* duplicated и/или смежные (drop_duplicates)\n",
    "* isna() и/или смежные\n",
    "\n",
    "Ссылки:\n",
    "\n",
    "https://pandas.pydata.org/docs/reference/api/pandas.DataFrame.duplicated.html\n",
    "\n",
    "https://pandas.pydata.org/docs/reference/api/pandas.DataFrame.drop_duplicates.html\n",
    "\n",
    "\n",
    "Что может ещё понадобиться:\n",
    "\n",
    "* Преобразование к численным типам данных. Для этого можно\n",
    "    * воспользоваться методом **to_numeric**, аналогичным **to_datetime**, в связке с методом **apply**\n",
    "    * воспользоваться методом astype('int64')\n",
    "* Сброс данных (drop)\n",
    "    \n",
    "Ссылки:\n",
    "\n",
    "https://pandas.pydata.org/docs/reference/api/pandas.to_numeric.html\n",
    "\n",
    "https://pandas.pydata.org/docs/reference/api/pandas.DataFrame.apply.html\n",
    "\n",
    "https://pandas.pydata.org/docs/reference/api/pandas.DataFrame.astype.html#pandas.DataFrame.astype\n",
    "\n",
    "https://pandas.pydata.org/docs/reference/api/pandas.DataFrame.drop.html"
   ]
  },
  {
   "cell_type": "code",
   "execution_count": 13,
   "metadata": {
    "pycharm": {
     "name": "#%%\n"
    }
   },
   "outputs": [
    {
     "data": {
      "text/plain": "                                             title   puNumber  \\\n0                                 Открытый простор  221048915   \n1                             Особо важное задание  111013716   \n2                                     Особо опасен  221038416   \n3                                     Особо опасен  221026916   \n4                                     Особо опасен  221030815   \n...                                            ...        ...   \n7481     Сад художника: Американский импрессионизм  126008019   \n7482                               Звериная ярость  121037819   \n7483     Щенячий патруль: Скорей спешим на помощь!  124010819   \n7484      Машины песенки. Серия \"Испанские мотивы\"  124010619   \n7485  Машины песенки. Серия \"Когда цветут кактусы\"  124010719   \n\n               show_start_date             type  \\\n0    2015-11-27 12:00:00+00:00   Художественный   \n1    2016-09-13 12:00:00+00:00   Художественный   \n2    2016-10-10 12:00:00+00:00   Художественный   \n3    2016-06-10 12:00:00+00:00   Художественный   \n4    2015-07-29 12:00:00+00:00   Художественный   \n...                        ...              ...   \n7481 2019-12-23 12:00:00+00:00           Прочие   \n7482 2019-12-24 12:00:00+00:00   Художественный   \n7483 2019-12-28 12:00:00+00:00   Художественный   \n7484 2019-12-30 12:00:00+00:00     Анимационный   \n7485 2019-12-30 12:00:00+00:00     Анимационный   \n\n                                            film_studio  \\\n0     Тачстоун Пикчерз, Кобальт Пикчерз, Бикон Пикче...   \n1                                 Киностудия \"Мосфильм\"   \n2     Юниверсал Пикчерз, Кикстарт Продакшнз, Марк Пл...   \n3     Юниверсал Пикчерз, Кикстарт Продакшнз, Марк Пл...   \n4     Юниверсал Пикчерз, Кикстарт Продакшнз, Марк Пл...   \n...                                                 ...   \n7481                               Севен Артс Продакшнз   \n7482  Дэниел Гродник Продакшнз, Вандерфилм Медиа Кор...   \n7483           Никелодеон Анимейшн Студиос, Спин Мастер   \n7484           Анимаккорд Лтд., ООО Студия \"АНИМАККОРД\"   \n7485           Анимаккорд Лтд., ООО Студия \"АНИМАККОРД\"   \n\n           production_country           director  \\\n0                         США      Кевин Костнер   \n1                        СССР          Е.Матвеев   \n2                         США  Тимур Бекмамбетов   \n3                         США  Тимур Бекмамбетов   \n4                         США  Тимур Бекмамбетов   \n...                       ...                ...   \n7481           Великобритания        Фил Грабски   \n7482                      США         Ник Пауэлл   \n7483             США - Канада   Чарльз Е.Бастьен   \n7484  Республика Кипр, Россия           А.Беляев   \n7485  Республика Кипр, Россия           И.Трусов   \n\n                                               producer  \\\n0             Дэвид Валдес, Кевин Костнер, Джейк Эбертс   \n1                                                   NaN   \n2     Джим Лемли, Джейсон Нетер, Марк Е.Платт, Яйн Смит   \n3     Джим Лемли, Джейсон Нетер, Марк Е.Платт, Яйн Смит   \n4     Джим Лемли, Джейсон Нетер, Марк Е.Платт, Яйн Смит   \n...                                                 ...   \n7481                                        Фил Грабски   \n7482  Джефф Боулер, Дэниэл Гродник, Луильо Руис, Брэ...   \n7483                                     Дженнифер Додж   \n7484                                          Д.Ловейко   \n7485                                          Д.Ловейко   \n\n                             age_restriction  refundable_support  \\\n0                «18+» - запрещено для детей                 NaN   \n1              «6+» - для детей старше 6 лет                 NaN   \n2                «18+» - запрещено для детей                 NaN   \n3                «18+» - запрещено для детей                 NaN   \n4                «18+» - запрещено для детей                 NaN   \n...                                      ...                 ...   \n7481         «12+» - для детей старше 12 лет                 NaN   \n7482         «16+» - для детей старше 16 лет                 NaN   \n7483  «0+» - для любой зрительской аудитории                 NaN   \n7484  «0+» - для любой зрительской аудитории                 NaN   \n7485  «0+» - для любой зрительской аудитории                 NaN   \n\n      nonrefundable_support  budget financing_source ratings  \\\n0                       NaN     NaN              NaN     7.2   \n1                       NaN     NaN              NaN     6.6   \n2                       NaN     NaN              NaN     6.8   \n3                       NaN     NaN              NaN     6.8   \n4                       NaN     NaN              NaN     6.8   \n...                     ...     ...              ...     ...   \n7481                    NaN     NaN              NaN     NaN   \n7482                    NaN     NaN              NaN     5.4   \n7483                    NaN     NaN              NaN     NaN   \n7484                    NaN     NaN              NaN     NaN   \n7485                    NaN     NaN              NaN     6.3   \n\n                         genres  \n0        боевик,драма,мелодрама  \n1                 драма,военный  \n2     фантастика,боевик,триллер  \n3     фантастика,боевик,триллер  \n4     фантастика,боевик,триллер  \n...                         ...  \n7481                        NaN  \n7482             боевик,триллер  \n7483                        NaN  \n7484                        NaN  \n7485            комедия,вестерн  \n\n[7486 rows x 15 columns]",
      "text/html": "<div>\n<style scoped>\n    .dataframe tbody tr th:only-of-type {\n        vertical-align: middle;\n    }\n\n    .dataframe tbody tr th {\n        vertical-align: top;\n    }\n\n    .dataframe thead th {\n        text-align: right;\n    }\n</style>\n<table border=\"1\" class=\"dataframe\">\n  <thead>\n    <tr style=\"text-align: right;\">\n      <th></th>\n      <th>title</th>\n      <th>puNumber</th>\n      <th>show_start_date</th>\n      <th>type</th>\n      <th>film_studio</th>\n      <th>production_country</th>\n      <th>director</th>\n      <th>producer</th>\n      <th>age_restriction</th>\n      <th>refundable_support</th>\n      <th>nonrefundable_support</th>\n      <th>budget</th>\n      <th>financing_source</th>\n      <th>ratings</th>\n      <th>genres</th>\n    </tr>\n  </thead>\n  <tbody>\n    <tr>\n      <th>0</th>\n      <td>Открытый простор</td>\n      <td>221048915</td>\n      <td>2015-11-27 12:00:00+00:00</td>\n      <td>Художественный</td>\n      <td>Тачстоун Пикчерз, Кобальт Пикчерз, Бикон Пикче...</td>\n      <td>США</td>\n      <td>Кевин Костнер</td>\n      <td>Дэвид Валдес, Кевин Костнер, Джейк Эбертс</td>\n      <td>«18+» - запрещено для детей</td>\n      <td>NaN</td>\n      <td>NaN</td>\n      <td>NaN</td>\n      <td>NaN</td>\n      <td>7.2</td>\n      <td>боевик,драма,мелодрама</td>\n    </tr>\n    <tr>\n      <th>1</th>\n      <td>Особо важное задание</td>\n      <td>111013716</td>\n      <td>2016-09-13 12:00:00+00:00</td>\n      <td>Художественный</td>\n      <td>Киностудия \"Мосфильм\"</td>\n      <td>СССР</td>\n      <td>Е.Матвеев</td>\n      <td>NaN</td>\n      <td>«6+» - для детей старше 6 лет</td>\n      <td>NaN</td>\n      <td>NaN</td>\n      <td>NaN</td>\n      <td>NaN</td>\n      <td>6.6</td>\n      <td>драма,военный</td>\n    </tr>\n    <tr>\n      <th>2</th>\n      <td>Особо опасен</td>\n      <td>221038416</td>\n      <td>2016-10-10 12:00:00+00:00</td>\n      <td>Художественный</td>\n      <td>Юниверсал Пикчерз, Кикстарт Продакшнз, Марк Пл...</td>\n      <td>США</td>\n      <td>Тимур Бекмамбетов</td>\n      <td>Джим Лемли, Джейсон Нетер, Марк Е.Платт, Яйн Смит</td>\n      <td>«18+» - запрещено для детей</td>\n      <td>NaN</td>\n      <td>NaN</td>\n      <td>NaN</td>\n      <td>NaN</td>\n      <td>6.8</td>\n      <td>фантастика,боевик,триллер</td>\n    </tr>\n    <tr>\n      <th>3</th>\n      <td>Особо опасен</td>\n      <td>221026916</td>\n      <td>2016-06-10 12:00:00+00:00</td>\n      <td>Художественный</td>\n      <td>Юниверсал Пикчерз, Кикстарт Продакшнз, Марк Пл...</td>\n      <td>США</td>\n      <td>Тимур Бекмамбетов</td>\n      <td>Джим Лемли, Джейсон Нетер, Марк Е.Платт, Яйн Смит</td>\n      <td>«18+» - запрещено для детей</td>\n      <td>NaN</td>\n      <td>NaN</td>\n      <td>NaN</td>\n      <td>NaN</td>\n      <td>6.8</td>\n      <td>фантастика,боевик,триллер</td>\n    </tr>\n    <tr>\n      <th>4</th>\n      <td>Особо опасен</td>\n      <td>221030815</td>\n      <td>2015-07-29 12:00:00+00:00</td>\n      <td>Художественный</td>\n      <td>Юниверсал Пикчерз, Кикстарт Продакшнз, Марк Пл...</td>\n      <td>США</td>\n      <td>Тимур Бекмамбетов</td>\n      <td>Джим Лемли, Джейсон Нетер, Марк Е.Платт, Яйн Смит</td>\n      <td>«18+» - запрещено для детей</td>\n      <td>NaN</td>\n      <td>NaN</td>\n      <td>NaN</td>\n      <td>NaN</td>\n      <td>6.8</td>\n      <td>фантастика,боевик,триллер</td>\n    </tr>\n    <tr>\n      <th>...</th>\n      <td>...</td>\n      <td>...</td>\n      <td>...</td>\n      <td>...</td>\n      <td>...</td>\n      <td>...</td>\n      <td>...</td>\n      <td>...</td>\n      <td>...</td>\n      <td>...</td>\n      <td>...</td>\n      <td>...</td>\n      <td>...</td>\n      <td>...</td>\n      <td>...</td>\n    </tr>\n    <tr>\n      <th>7481</th>\n      <td>Сад художника: Американский импрессионизм</td>\n      <td>126008019</td>\n      <td>2019-12-23 12:00:00+00:00</td>\n      <td>Прочие</td>\n      <td>Севен Артс Продакшнз</td>\n      <td>Великобритания</td>\n      <td>Фил Грабски</td>\n      <td>Фил Грабски</td>\n      <td>«12+» - для детей старше 12 лет</td>\n      <td>NaN</td>\n      <td>NaN</td>\n      <td>NaN</td>\n      <td>NaN</td>\n      <td>NaN</td>\n      <td>NaN</td>\n    </tr>\n    <tr>\n      <th>7482</th>\n      <td>Звериная ярость</td>\n      <td>121037819</td>\n      <td>2019-12-24 12:00:00+00:00</td>\n      <td>Художественный</td>\n      <td>Дэниел Гродник Продакшнз, Вандерфилм Медиа Кор...</td>\n      <td>США</td>\n      <td>Ник Пауэлл</td>\n      <td>Джефф Боулер, Дэниэл Гродник, Луильо Руис, Брэ...</td>\n      <td>«16+» - для детей старше 16 лет</td>\n      <td>NaN</td>\n      <td>NaN</td>\n      <td>NaN</td>\n      <td>NaN</td>\n      <td>5.4</td>\n      <td>боевик,триллер</td>\n    </tr>\n    <tr>\n      <th>7483</th>\n      <td>Щенячий патруль: Скорей спешим на помощь!</td>\n      <td>124010819</td>\n      <td>2019-12-28 12:00:00+00:00</td>\n      <td>Художественный</td>\n      <td>Никелодеон Анимейшн Студиос, Спин Мастер</td>\n      <td>США - Канада</td>\n      <td>Чарльз Е.Бастьен</td>\n      <td>Дженнифер Додж</td>\n      <td>«0+» - для любой зрительской аудитории</td>\n      <td>NaN</td>\n      <td>NaN</td>\n      <td>NaN</td>\n      <td>NaN</td>\n      <td>NaN</td>\n      <td>NaN</td>\n    </tr>\n    <tr>\n      <th>7484</th>\n      <td>Машины песенки. Серия \"Испанские мотивы\"</td>\n      <td>124010619</td>\n      <td>2019-12-30 12:00:00+00:00</td>\n      <td>Анимационный</td>\n      <td>Анимаккорд Лтд., ООО Студия \"АНИМАККОРД\"</td>\n      <td>Республика Кипр, Россия</td>\n      <td>А.Беляев</td>\n      <td>Д.Ловейко</td>\n      <td>«0+» - для любой зрительской аудитории</td>\n      <td>NaN</td>\n      <td>NaN</td>\n      <td>NaN</td>\n      <td>NaN</td>\n      <td>NaN</td>\n      <td>NaN</td>\n    </tr>\n    <tr>\n      <th>7485</th>\n      <td>Машины песенки. Серия \"Когда цветут кактусы\"</td>\n      <td>124010719</td>\n      <td>2019-12-30 12:00:00+00:00</td>\n      <td>Анимационный</td>\n      <td>Анимаккорд Лтд., ООО Студия \"АНИМАККОРД\"</td>\n      <td>Республика Кипр, Россия</td>\n      <td>И.Трусов</td>\n      <td>Д.Ловейко</td>\n      <td>«0+» - для любой зрительской аудитории</td>\n      <td>NaN</td>\n      <td>NaN</td>\n      <td>NaN</td>\n      <td>NaN</td>\n      <td>6.3</td>\n      <td>комедия,вестерн</td>\n    </tr>\n  </tbody>\n</table>\n<p>7486 rows × 15 columns</p>\n</div>"
     },
     "execution_count": 13,
     "metadata": {},
     "output_type": "execute_result"
    }
   ],
   "source": [
    "movies_df"
   ]
  },
  {
   "cell_type": "code",
   "execution_count": 11,
   "outputs": [
    {
     "name": "stdout",
     "output_type": "stream",
     "text": [
      "<class 'pandas.core.frame.DataFrame'>\n",
      "RangeIndex: 7486 entries, 0 to 7485\n",
      "Data columns (total 15 columns):\n",
      " #   Column                 Non-Null Count  Dtype  \n",
      "---  ------                 --------------  -----  \n",
      " 0   title                  7486 non-null   object \n",
      " 1   puNumber               7486 non-null   object \n",
      " 2   show_start_date        7486 non-null   object \n",
      " 3   type                   7486 non-null   object \n",
      " 4   film_studio            7468 non-null   object \n",
      " 5   production_country     7484 non-null   object \n",
      " 6   director               7477 non-null   object \n",
      " 7   producer               6918 non-null   object \n",
      " 8   age_restriction        7486 non-null   object \n",
      " 9   refundable_support     332 non-null    float64\n",
      " 10  nonrefundable_support  332 non-null    float64\n",
      " 11  budget                 332 non-null    float64\n",
      " 12  financing_source       332 non-null    object \n",
      " 13  ratings                6519 non-null   object \n",
      " 14  genres                 6510 non-null   object \n",
      "dtypes: float64(3), object(12)\n",
      "memory usage: 877.4+ KB\n"
     ]
    }
   ],
   "source": [
    "movies_df.info()"
   ],
   "metadata": {
    "collapsed": false,
    "pycharm": {
     "name": "#%%\n"
    }
   }
  },
  {
   "cell_type": "code",
   "execution_count": 131,
   "outputs": [
    {
     "name": "stderr",
     "output_type": "stream",
     "text": [
      "/var/folders/25/hkg7hrfn7130z9vkbc1z1h580000gn/T/ipykernel_8438/2919454165.py:6: SettingWithCopyWarning: \n",
      "A value is trying to be set on a copy of a slice from a DataFrame\n",
      "\n",
      "See the caveats in the documentation: https://pandas.pydata.org/pandas-docs/stable/user_guide/indexing.html#returning-a-view-versus-a-copy\n",
      "  movies_df['ratings'].loc[movies_df['ratings'] > 10] = movies_df['ratings'].loc[movies_df['ratings'] > 10] / 10\n"
     ]
    }
   ],
   "source": [
    "# Решаем проблемы типизации\n",
    "movies_df['show_start_date'] = pd.to_datetime(movies_df['show_start_date'])\n",
    "movies_df['puNumber'] = movies_df['puNumber'].apply(pd.to_numeric, errors='coerce')\n",
    "movies_df['ratings'] = movies_df['ratings'].str.strip('%')\n",
    "movies_df['ratings'] = movies_df['ratings'].apply(pd.to_numeric, errors='coerce')\n",
    "movies_df['ratings'].loc[movies_df['ratings'] > 10] = movies_df['ratings'].loc[movies_df['ratings'] > 10] / 10"
   ],
   "metadata": {
    "collapsed": false,
    "pycharm": {
     "name": "#%%\n"
    }
   }
  },
  {
   "cell_type": "code",
   "execution_count": 26,
   "outputs": [
    {
     "name": "stdout",
     "output_type": "stream",
     "text": [
      "<class 'pandas.core.frame.DataFrame'>\n",
      "Int64Index: 7486 entries, 0 to 7485\n",
      "Data columns (total 15 columns):\n",
      " #   Column                 Non-Null Count  Dtype              \n",
      "---  ------                 --------------  -----              \n",
      " 0   title                  7486 non-null   object             \n",
      " 1   puNumber               7485 non-null   float64            \n",
      " 2   show_start_date        7486 non-null   datetime64[ns, UTC]\n",
      " 3   type                   7486 non-null   object             \n",
      " 4   film_studio            7468 non-null   object             \n",
      " 5   production_country     7484 non-null   object             \n",
      " 6   director               7477 non-null   object             \n",
      " 7   producer               6918 non-null   object             \n",
      " 8   age_restriction        7486 non-null   object             \n",
      " 9   refundable_support     332 non-null    float64            \n",
      " 10  nonrefundable_support  332 non-null    float64            \n",
      " 11  budget                 332 non-null    float64            \n",
      " 12  financing_source       332 non-null    object             \n",
      " 13  ratings                6490 non-null   float64            \n",
      " 14  genres                 6510 non-null   object             \n",
      "dtypes: datetime64[ns, UTC](1), float64(5), object(9)\n",
      "memory usage: 935.8+ KB\n"
     ]
    }
   ],
   "source": [
    "# Полных дубликатов нет\n",
    "movies_df_dup = movies_df.drop_duplicates()\n",
    "movies_df_dup.info()"
   ],
   "metadata": {
    "collapsed": false,
    "pycharm": {
     "name": "#%%\n"
    }
   }
  },
  {
   "cell_type": "code",
   "execution_count": 28,
   "outputs": [
    {
     "name": "stdout",
     "output_type": "stream",
     "text": [
      "title 714\n",
      "puNumber 2\n",
      "show_start_date 5521\n",
      "type 7478\n",
      "film_studio 1995\n",
      "production_country 6535\n",
      "director 2674\n",
      "producer 2136\n",
      "age_restriction 7481\n",
      "refundable_support 7451\n",
      "nonrefundable_support 7410\n",
      "budget 7195\n",
      "financing_source 7482\n",
      "ratings 7405\n",
      "genres 6743\n",
      "                                             title     puNumber  \\\n",
      "0                                 Открытый простор  221048915.0   \n",
      "1                             Особо важное задание  111013716.0   \n",
      "2                                     Особо опасен  221038416.0   \n",
      "3                                     Особо опасен  221026916.0   \n",
      "4                                     Особо опасен  221030815.0   \n",
      "...                                            ...          ...   \n",
      "7481     Сад художника: Американский импрессионизм  126008019.0   \n",
      "7482                               Звериная ярость  121037819.0   \n",
      "7483     Щенячий патруль: Скорей спешим на помощь!  124010819.0   \n",
      "7484      Машины песенки. Серия \"Испанские мотивы\"  124010619.0   \n",
      "7485  Машины песенки. Серия \"Когда цветут кактусы\"  124010719.0   \n",
      "\n",
      "               show_start_date             type  \\\n",
      "0    2015-11-27 12:00:00+00:00   Художественный   \n",
      "1    2016-09-13 12:00:00+00:00   Художественный   \n",
      "2    2016-10-10 12:00:00+00:00   Художественный   \n",
      "3    2016-06-10 12:00:00+00:00   Художественный   \n",
      "4    2015-07-29 12:00:00+00:00   Художественный   \n",
      "...                        ...              ...   \n",
      "7481 2019-12-23 12:00:00+00:00           Прочие   \n",
      "7482 2019-12-24 12:00:00+00:00   Художественный   \n",
      "7483 2019-12-28 12:00:00+00:00   Художественный   \n",
      "7484 2019-12-30 12:00:00+00:00     Анимационный   \n",
      "7485 2019-12-30 12:00:00+00:00     Анимационный   \n",
      "\n",
      "                                            film_studio  \\\n",
      "0     Тачстоун Пикчерз, Кобальт Пикчерз, Бикон Пикче...   \n",
      "1                                 Киностудия \"Мосфильм\"   \n",
      "2     Юниверсал Пикчерз, Кикстарт Продакшнз, Марк Пл...   \n",
      "3     Юниверсал Пикчерз, Кикстарт Продакшнз, Марк Пл...   \n",
      "4     Юниверсал Пикчерз, Кикстарт Продакшнз, Марк Пл...   \n",
      "...                                                 ...   \n",
      "7481                               Севен Артс Продакшнз   \n",
      "7482  Дэниел Гродник Продакшнз, Вандерфилм Медиа Кор...   \n",
      "7483           Никелодеон Анимейшн Студиос, Спин Мастер   \n",
      "7484           Анимаккорд Лтд., ООО Студия \"АНИМАККОРД\"   \n",
      "7485           Анимаккорд Лтд., ООО Студия \"АНИМАККОРД\"   \n",
      "\n",
      "           production_country           director  \\\n",
      "0                         США      Кевин Костнер   \n",
      "1                        СССР          Е.Матвеев   \n",
      "2                         США  Тимур Бекмамбетов   \n",
      "3                         США  Тимур Бекмамбетов   \n",
      "4                         США  Тимур Бекмамбетов   \n",
      "...                       ...                ...   \n",
      "7481           Великобритания        Фил Грабски   \n",
      "7482                      США         Ник Пауэлл   \n",
      "7483             США - Канада   Чарльз Е.Бастьен   \n",
      "7484  Республика Кипр, Россия           А.Беляев   \n",
      "7485  Республика Кипр, Россия           И.Трусов   \n",
      "\n",
      "                                               producer  \\\n",
      "0             Дэвид Валдес, Кевин Костнер, Джейк Эбертс   \n",
      "1                                                   NaN   \n",
      "2     Джим Лемли, Джейсон Нетер, Марк Е.Платт, Яйн Смит   \n",
      "3     Джим Лемли, Джейсон Нетер, Марк Е.Платт, Яйн Смит   \n",
      "4     Джим Лемли, Джейсон Нетер, Марк Е.Платт, Яйн Смит   \n",
      "...                                                 ...   \n",
      "7481                                        Фил Грабски   \n",
      "7482  Джефф Боулер, Дэниэл Гродник, Луильо Руис, Брэ...   \n",
      "7483                                     Дженнифер Додж   \n",
      "7484                                          Д.Ловейко   \n",
      "7485                                          Д.Ловейко   \n",
      "\n",
      "                             age_restriction  refundable_support  \\\n",
      "0                «18+» - запрещено для детей                 NaN   \n",
      "1              «6+» - для детей старше 6 лет                 NaN   \n",
      "2                «18+» - запрещено для детей                 NaN   \n",
      "3                «18+» - запрещено для детей                 NaN   \n",
      "4                «18+» - запрещено для детей                 NaN   \n",
      "...                                      ...                 ...   \n",
      "7481         «12+» - для детей старше 12 лет                 NaN   \n",
      "7482         «16+» - для детей старше 16 лет                 NaN   \n",
      "7483  «0+» - для любой зрительской аудитории                 NaN   \n",
      "7484  «0+» - для любой зрительской аудитории                 NaN   \n",
      "7485  «0+» - для любой зрительской аудитории                 NaN   \n",
      "\n",
      "      nonrefundable_support  budget financing_source  ratings  \\\n",
      "0                       NaN     NaN              NaN      7.2   \n",
      "1                       NaN     NaN              NaN      6.6   \n",
      "2                       NaN     NaN              NaN      6.8   \n",
      "3                       NaN     NaN              NaN      6.8   \n",
      "4                       NaN     NaN              NaN      6.8   \n",
      "...                     ...     ...              ...      ...   \n",
      "7481                    NaN     NaN              NaN      NaN   \n",
      "7482                    NaN     NaN              NaN      5.4   \n",
      "7483                    NaN     NaN              NaN      NaN   \n",
      "7484                    NaN     NaN              NaN      NaN   \n",
      "7485                    NaN     NaN              NaN      6.3   \n",
      "\n",
      "                         genres  \n",
      "0        боевик,драма,мелодрама  \n",
      "1                 драма,военный  \n",
      "2     фантастика,боевик,триллер  \n",
      "3     фантастика,боевик,триллер  \n",
      "4     фантастика,боевик,триллер  \n",
      "...                         ...  \n",
      "7481                        NaN  \n",
      "7482             боевик,триллер  \n",
      "7483                        NaN  \n",
      "7484                        NaN  \n",
      "7485            комедия,вестерн  \n",
      "\n",
      "[7484 rows x 15 columns]\n"
     ]
    }
   ],
   "source": [
    "# Смущает лишь дупликаты puNumber\n",
    "for column in movies_df:\n",
    "    print(column, movies_df[column].duplicated().sum())"
   ],
   "metadata": {
    "collapsed": false,
    "pycharm": {
     "name": "#%%\n"
    }
   }
  },
  {
   "cell_type": "code",
   "execution_count": 30,
   "outputs": [],
   "source": [
    "movies_df_without_duplicates = movies_df.drop_duplicates(subset=['puNumber'])"
   ],
   "metadata": {
    "collapsed": false,
    "pycharm": {
     "name": "#%%\n"
    }
   }
  },
  {
   "cell_type": "code",
   "execution_count": 32,
   "outputs": [
    {
     "data": {
      "text/plain": "       puNumber    box_office\n0     111000113  2.450000e+03\n1     111000115  6.104000e+04\n2     111000116  1.530300e+08\n3     111000117  1.226096e+07\n4     111000118  1.636841e+08\n...         ...           ...\n3153  224014814  1.530000e+03\n3154  224021411  9.270000e+03\n3155  224022410  4.000000e+02\n3156  224023210  3.600000e+02\n3157  224026410  4.000000e+02\n\n[3158 rows x 2 columns]",
      "text/html": "<div>\n<style scoped>\n    .dataframe tbody tr th:only-of-type {\n        vertical-align: middle;\n    }\n\n    .dataframe tbody tr th {\n        vertical-align: top;\n    }\n\n    .dataframe thead th {\n        text-align: right;\n    }\n</style>\n<table border=\"1\" class=\"dataframe\">\n  <thead>\n    <tr style=\"text-align: right;\">\n      <th></th>\n      <th>puNumber</th>\n      <th>box_office</th>\n    </tr>\n  </thead>\n  <tbody>\n    <tr>\n      <th>0</th>\n      <td>111000113</td>\n      <td>2.450000e+03</td>\n    </tr>\n    <tr>\n      <th>1</th>\n      <td>111000115</td>\n      <td>6.104000e+04</td>\n    </tr>\n    <tr>\n      <th>2</th>\n      <td>111000116</td>\n      <td>1.530300e+08</td>\n    </tr>\n    <tr>\n      <th>3</th>\n      <td>111000117</td>\n      <td>1.226096e+07</td>\n    </tr>\n    <tr>\n      <th>4</th>\n      <td>111000118</td>\n      <td>1.636841e+08</td>\n    </tr>\n    <tr>\n      <th>...</th>\n      <td>...</td>\n      <td>...</td>\n    </tr>\n    <tr>\n      <th>3153</th>\n      <td>224014814</td>\n      <td>1.530000e+03</td>\n    </tr>\n    <tr>\n      <th>3154</th>\n      <td>224021411</td>\n      <td>9.270000e+03</td>\n    </tr>\n    <tr>\n      <th>3155</th>\n      <td>224022410</td>\n      <td>4.000000e+02</td>\n    </tr>\n    <tr>\n      <th>3156</th>\n      <td>224023210</td>\n      <td>3.600000e+02</td>\n    </tr>\n    <tr>\n      <th>3157</th>\n      <td>224026410</td>\n      <td>4.000000e+02</td>\n    </tr>\n  </tbody>\n</table>\n<p>3158 rows × 2 columns</p>\n</div>"
     },
     "execution_count": 32,
     "metadata": {},
     "output_type": "execute_result"
    }
   ],
   "source": [
    "shows_df"
   ],
   "metadata": {
    "collapsed": false,
    "pycharm": {
     "name": "#%%\n"
    }
   }
  },
  {
   "cell_type": "code",
   "execution_count": 18,
   "outputs": [
    {
     "name": "stdout",
     "output_type": "stream",
     "text": [
      "<class 'pandas.core.frame.DataFrame'>\n",
      "RangeIndex: 3158 entries, 0 to 3157\n",
      "Data columns (total 2 columns):\n",
      " #   Column      Non-Null Count  Dtype  \n",
      "---  ------      --------------  -----  \n",
      " 0   puNumber    3158 non-null   int64  \n",
      " 1   box_office  3158 non-null   float64\n",
      "dtypes: float64(1), int64(1)\n",
      "memory usage: 49.5 KB\n"
     ]
    }
   ],
   "source": [
    "shows_df.info()"
   ],
   "metadata": {
    "collapsed": false,
    "pycharm": {
     "name": "#%%\n"
    }
   }
  },
  {
   "cell_type": "code",
   "execution_count": 21,
   "outputs": [
    {
     "name": "stdout",
     "output_type": "stream",
     "text": [
      "<class 'pandas.core.frame.DataFrame'>\n",
      "Int64Index: 3158 entries, 0 to 3157\n",
      "Data columns (total 2 columns):\n",
      " #   Column      Non-Null Count  Dtype  \n",
      "---  ------      --------------  -----  \n",
      " 0   puNumber    3158 non-null   int64  \n",
      " 1   box_office  3158 non-null   float64\n",
      "dtypes: float64(1), int64(1)\n",
      "memory usage: 74.0 KB\n"
     ]
    }
   ],
   "source": [
    "# Кажется все в порядке\n",
    "shows_df_without_duplicated = shows_df.drop_duplicates(keep='last')\n",
    "shows_df_without_duplicated.info()"
   ],
   "metadata": {
    "collapsed": false,
    "pycharm": {
     "name": "#%%\n"
    }
   }
  },
  {
   "cell_type": "code",
   "execution_count": 34,
   "outputs": [
    {
     "name": "stdout",
     "output_type": "stream",
     "text": [
      "puNumber 0\n",
      "box_office 220\n"
     ]
    }
   ],
   "source": [
    "# Ничего интересного\n",
    "for column in shows_df:\n",
    "    print(column, shows_df[column].duplicated().sum())"
   ],
   "metadata": {
    "collapsed": false,
    "pycharm": {
     "name": "#%%\n"
    }
   }
  },
  {
   "cell_type": "markdown",
   "metadata": {
    "pycharm": {
     "name": "#%% md\n"
    }
   },
   "source": [
    "# Задание № 2\n",
    "\n",
    "### Посчитайте динамику сборов по годам премьер фильмов. В каком году медианная сумма сборов была максимальной?\n",
    "\n",
    "**Было бы здорово визуализировать результаты!**\n",
    "\n",
    "Что может понадобиться:\n",
    "\n",
    "* Сортировки данных методом **sort_values** (с обязательных указанием по какому индексу или столбцу)\n",
    "* Удаление дубликатов методом **drop_duplicates**\n",
    "* Слияние или объединение DataFrame или Series методами **merge** и **join** (первого должно хватить)\n",
    "* Переименование столбка методом **rename**\n",
    "* **Самое важное**: группировка данных методом **groupby**\n",
    "    * обратите особое внимание на аргументы by и as_index\n",
    "    * по сути это операция разбиения данных, применения некоторой функции и объединение результатов\n",
    "    * примеры использтвания будут в смежном файле\n",
    "\n",
    "Ссылки:\n",
    "\n",
    "https://pandas.pydata.org/docs/reference/api/pandas.DataFrame.sort_values.html\n",
    "\n",
    "https://pandas.pydata.org/docs/reference/api/pandas.DataFrame.drop_duplicates.html\n",
    "\n",
    "https://pandas.pydata.org/docs/reference/api/pandas.DataFrame.merge.html\n",
    "\n",
    "https://pandas.pydata.org/docs/reference/api/pandas.DataFrame.join.html\n",
    "\n",
    "https://pandas.pydata.org/docs/reference/api/pandas.DataFrame.rename.html\n",
    "\n",
    "https://pandas.pydata.org/docs/reference/api/pandas.DataFrame.groupby.html\n",
    "\n"
   ]
  },
  {
   "cell_type": "code",
   "execution_count": 85,
   "metadata": {
    "pycharm": {
     "name": "#%%\n"
    }
   },
   "outputs": [
    {
     "data": {
      "text/plain": "                                             title     puNumber  \\\n4456                                    Книга Илая  121000210.0   \n4332                                   Вечный зов.  213000210.0   \n4466                    Последний король Шотландии  221002410.0   \n4409                                Другой мужчина  221009610.0   \n4334                                         Бомж.  211000910.0   \n...                                            ...          ...   \n7479                                        Эколав  111023219.0   \n7467                                 Жёлтый клевер  111022219.0   \n7483     Щенячий патруль: Скорей спешим на помощь!  124010819.0   \n7484      Машины песенки. Серия \"Испанские мотивы\"  124010619.0   \n7485  Машины песенки. Серия \"Когда цветут кактусы\"  124010719.0   \n\n               show_start_date             type  \\\n4456 2010-01-11 12:00:00+00:00   Художественный   \n4332 2010-01-13 12:00:00+00:00   Художественный   \n4466 2010-01-13 12:00:00+00:00   Художественный   \n4409 2010-01-14 12:00:00+00:00   Художественный   \n4334 2010-01-14 12:00:00+00:00   Художественный   \n...                        ...              ...   \n7479 2019-12-26 12:00:00+00:00   Художественный   \n7467 2019-12-27 12:00:00+00:00   Художественный   \n7483 2019-12-28 12:00:00+00:00   Художественный   \n7484 2019-12-30 12:00:00+00:00     Анимационный   \n7485 2019-12-30 12:00:00+00:00     Анимационный   \n\n                                            film_studio  \\\n4456                Элкон Интертейнмент, Силвер Пикчерз   \n4332                                 ОАО \"Леннаучфильм\"   \n4466  Дэ Эн А Филмз, Фокс Серчлайт Пикчерз, Филм Фо,...   \n4409  Готэм Продакшнз, Рэйнмарк Филмз, Илинг Студиос...   \n4334                             ООО \"Студия \"Панорама\"   \n...                                                 ...   \n7479                                               ВГИК   \n7467                      Соломатина Людмила Леонидовна   \n7483           Никелодеон Анимейшн Студиос, Спин Мастер   \n7484           Анимаккорд Лтд., ООО Студия \"АНИМАККОРД\"   \n7485           Анимаккорд Лтд., ООО Студия \"АНИМАККОРД\"   \n\n           production_country                        director  \\\n4456                      США         Алберт Хьюз, Эллен Хьюз   \n4332                   Россия  В.Ефремов, И.Ефремова, В.Лопач   \n4466     Великобритания - США                Кевин МакДональд   \n4409     США - Великобритания                       РичардЭйр   \n4334                   Россия                      А.Богданов   \n...                       ...                             ...   \n7479                   Россия                     Д.Григорьев   \n7467                   Россия         Л.Соломатина (Томилова)   \n7483             США - Канада                Чарльз Е.Бастьен   \n7484  Республика Кипр, Россия                        А.Беляев   \n7485  Республика Кипр, Россия                        И.Трусов   \n\n                                               producer  \\\n4456                     Бродерик Джонсон, Джоэл Силвер   \n4332                                            В.Бажин   \n4466  Лиза Брайер, Андреа Колдервуд, Кристин Рупперт...   \n4409             Ричард Эйр, Майкл Дрейер, Фрэнк Дулгер   \n4334                                ООО \"Форвард-Фильм\"   \n...                                                 ...   \n7479                                               ВГИК   \n7467                            Л.Соломатина (Томилова)   \n7483                                     Дженнифер Додж   \n7484                                          Д.Ловейко   \n7485                                          Д.Ловейко   \n\n                             age_restriction  refundable_support  \\\n4456         «16+» - для детей старше 16 лет                 NaN   \n4332  «0+» - для любой зрительской аудитории                 NaN   \n4466         «16+» - для детей старше 16 лет                 NaN   \n4409         «16+» - для детей старше 16 лет                 NaN   \n4334         «16+» - для детей старше 16 лет                 NaN   \n...                                      ...                 ...   \n7479             «18+» - запрещено для детей                 NaN   \n7467         «12+» - для детей старше 12 лет                 NaN   \n7483  «0+» - для любой зрительской аудитории                 NaN   \n7484  «0+» - для любой зрительской аудитории                 NaN   \n7485  «0+» - для любой зрительской аудитории                 NaN   \n\n      nonrefundable_support  budget financing_source  ratings  \\\n4456                    NaN     NaN              NaN      7.1   \n4332                    NaN     NaN              NaN      8.3   \n4466                    NaN     NaN              NaN      7.7   \n4409                    NaN     NaN              NaN      5.9   \n4334                    NaN     NaN              NaN      6.0   \n...                     ...     ...              ...      ...   \n7479                    NaN     NaN              NaN      NaN   \n7467                    NaN     NaN              NaN      NaN   \n7483                    NaN     NaN              NaN      NaN   \n7484                    NaN     NaN              NaN      NaN   \n7485                    NaN     NaN              NaN      6.3   \n\n                       genres  \n4456  фантастика,боевик,драма  \n4332                    драма  \n4466  триллер,драма,биография  \n4409  триллер,драма,мелодрама  \n4334  боевик,триллер,криминал  \n...                       ...  \n7479                      NaN  \n7467                      NaN  \n7483                      NaN  \n7484                      NaN  \n7485          комедия,вестерн  \n\n[6772 rows x 15 columns]",
      "text/html": "<div>\n<style scoped>\n    .dataframe tbody tr th:only-of-type {\n        vertical-align: middle;\n    }\n\n    .dataframe tbody tr th {\n        vertical-align: top;\n    }\n\n    .dataframe thead th {\n        text-align: right;\n    }\n</style>\n<table border=\"1\" class=\"dataframe\">\n  <thead>\n    <tr style=\"text-align: right;\">\n      <th></th>\n      <th>title</th>\n      <th>puNumber</th>\n      <th>show_start_date</th>\n      <th>type</th>\n      <th>film_studio</th>\n      <th>production_country</th>\n      <th>director</th>\n      <th>producer</th>\n      <th>age_restriction</th>\n      <th>refundable_support</th>\n      <th>nonrefundable_support</th>\n      <th>budget</th>\n      <th>financing_source</th>\n      <th>ratings</th>\n      <th>genres</th>\n    </tr>\n  </thead>\n  <tbody>\n    <tr>\n      <th>4456</th>\n      <td>Книга Илая</td>\n      <td>121000210.0</td>\n      <td>2010-01-11 12:00:00+00:00</td>\n      <td>Художественный</td>\n      <td>Элкон Интертейнмент, Силвер Пикчерз</td>\n      <td>США</td>\n      <td>Алберт Хьюз, Эллен Хьюз</td>\n      <td>Бродерик Джонсон, Джоэл Силвер</td>\n      <td>«16+» - для детей старше 16 лет</td>\n      <td>NaN</td>\n      <td>NaN</td>\n      <td>NaN</td>\n      <td>NaN</td>\n      <td>7.1</td>\n      <td>фантастика,боевик,драма</td>\n    </tr>\n    <tr>\n      <th>4332</th>\n      <td>Вечный зов.</td>\n      <td>213000210.0</td>\n      <td>2010-01-13 12:00:00+00:00</td>\n      <td>Художественный</td>\n      <td>ОАО \"Леннаучфильм\"</td>\n      <td>Россия</td>\n      <td>В.Ефремов, И.Ефремова, В.Лопач</td>\n      <td>В.Бажин</td>\n      <td>«0+» - для любой зрительской аудитории</td>\n      <td>NaN</td>\n      <td>NaN</td>\n      <td>NaN</td>\n      <td>NaN</td>\n      <td>8.3</td>\n      <td>драма</td>\n    </tr>\n    <tr>\n      <th>4466</th>\n      <td>Последний король Шотландии</td>\n      <td>221002410.0</td>\n      <td>2010-01-13 12:00:00+00:00</td>\n      <td>Художественный</td>\n      <td>Дэ Эн А Филмз, Фокс Серчлайт Пикчерз, Филм Фо,...</td>\n      <td>Великобритания - США</td>\n      <td>Кевин МакДональд</td>\n      <td>Лиза Брайер, Андреа Колдервуд, Кристин Рупперт...</td>\n      <td>«16+» - для детей старше 16 лет</td>\n      <td>NaN</td>\n      <td>NaN</td>\n      <td>NaN</td>\n      <td>NaN</td>\n      <td>7.7</td>\n      <td>триллер,драма,биография</td>\n    </tr>\n    <tr>\n      <th>4409</th>\n      <td>Другой мужчина</td>\n      <td>221009610.0</td>\n      <td>2010-01-14 12:00:00+00:00</td>\n      <td>Художественный</td>\n      <td>Готэм Продакшнз, Рэйнмарк Филмз, Илинг Студиос...</td>\n      <td>США - Великобритания</td>\n      <td>РичардЭйр</td>\n      <td>Ричард Эйр, Майкл Дрейер, Фрэнк Дулгер</td>\n      <td>«16+» - для детей старше 16 лет</td>\n      <td>NaN</td>\n      <td>NaN</td>\n      <td>NaN</td>\n      <td>NaN</td>\n      <td>5.9</td>\n      <td>триллер,драма,мелодрама</td>\n    </tr>\n    <tr>\n      <th>4334</th>\n      <td>Бомж.</td>\n      <td>211000910.0</td>\n      <td>2010-01-14 12:00:00+00:00</td>\n      <td>Художественный</td>\n      <td>ООО \"Студия \"Панорама\"</td>\n      <td>Россия</td>\n      <td>А.Богданов</td>\n      <td>ООО \"Форвард-Фильм\"</td>\n      <td>«16+» - для детей старше 16 лет</td>\n      <td>NaN</td>\n      <td>NaN</td>\n      <td>NaN</td>\n      <td>NaN</td>\n      <td>6.0</td>\n      <td>боевик,триллер,криминал</td>\n    </tr>\n    <tr>\n      <th>...</th>\n      <td>...</td>\n      <td>...</td>\n      <td>...</td>\n      <td>...</td>\n      <td>...</td>\n      <td>...</td>\n      <td>...</td>\n      <td>...</td>\n      <td>...</td>\n      <td>...</td>\n      <td>...</td>\n      <td>...</td>\n      <td>...</td>\n      <td>...</td>\n      <td>...</td>\n    </tr>\n    <tr>\n      <th>7479</th>\n      <td>Эколав</td>\n      <td>111023219.0</td>\n      <td>2019-12-26 12:00:00+00:00</td>\n      <td>Художественный</td>\n      <td>ВГИК</td>\n      <td>Россия</td>\n      <td>Д.Григорьев</td>\n      <td>ВГИК</td>\n      <td>«18+» - запрещено для детей</td>\n      <td>NaN</td>\n      <td>NaN</td>\n      <td>NaN</td>\n      <td>NaN</td>\n      <td>NaN</td>\n      <td>NaN</td>\n    </tr>\n    <tr>\n      <th>7467</th>\n      <td>Жёлтый клевер</td>\n      <td>111022219.0</td>\n      <td>2019-12-27 12:00:00+00:00</td>\n      <td>Художественный</td>\n      <td>Соломатина Людмила Леонидовна</td>\n      <td>Россия</td>\n      <td>Л.Соломатина (Томилова)</td>\n      <td>Л.Соломатина (Томилова)</td>\n      <td>«12+» - для детей старше 12 лет</td>\n      <td>NaN</td>\n      <td>NaN</td>\n      <td>NaN</td>\n      <td>NaN</td>\n      <td>NaN</td>\n      <td>NaN</td>\n    </tr>\n    <tr>\n      <th>7483</th>\n      <td>Щенячий патруль: Скорей спешим на помощь!</td>\n      <td>124010819.0</td>\n      <td>2019-12-28 12:00:00+00:00</td>\n      <td>Художественный</td>\n      <td>Никелодеон Анимейшн Студиос, Спин Мастер</td>\n      <td>США - Канада</td>\n      <td>Чарльз Е.Бастьен</td>\n      <td>Дженнифер Додж</td>\n      <td>«0+» - для любой зрительской аудитории</td>\n      <td>NaN</td>\n      <td>NaN</td>\n      <td>NaN</td>\n      <td>NaN</td>\n      <td>NaN</td>\n      <td>NaN</td>\n    </tr>\n    <tr>\n      <th>7484</th>\n      <td>Машины песенки. Серия \"Испанские мотивы\"</td>\n      <td>124010619.0</td>\n      <td>2019-12-30 12:00:00+00:00</td>\n      <td>Анимационный</td>\n      <td>Анимаккорд Лтд., ООО Студия \"АНИМАККОРД\"</td>\n      <td>Республика Кипр, Россия</td>\n      <td>А.Беляев</td>\n      <td>Д.Ловейко</td>\n      <td>«0+» - для любой зрительской аудитории</td>\n      <td>NaN</td>\n      <td>NaN</td>\n      <td>NaN</td>\n      <td>NaN</td>\n      <td>NaN</td>\n      <td>NaN</td>\n    </tr>\n    <tr>\n      <th>7485</th>\n      <td>Машины песенки. Серия \"Когда цветут кактусы\"</td>\n      <td>124010719.0</td>\n      <td>2019-12-30 12:00:00+00:00</td>\n      <td>Анимационный</td>\n      <td>Анимаккорд Лтд., ООО Студия \"АНИМАККОРД\"</td>\n      <td>Республика Кипр, Россия</td>\n      <td>И.Трусов</td>\n      <td>Д.Ловейко</td>\n      <td>«0+» - для любой зрительской аудитории</td>\n      <td>NaN</td>\n      <td>NaN</td>\n      <td>NaN</td>\n      <td>NaN</td>\n      <td>6.3</td>\n      <td>комедия,вестерн</td>\n    </tr>\n  </tbody>\n</table>\n<p>6772 rows × 15 columns</p>\n</div>"
     },
     "execution_count": 85,
     "metadata": {},
     "output_type": "execute_result"
    }
   ],
   "source": [
    "# Отсортированные фильмы по дням премьеры (без дупликатов)\n",
    "premiere_movies = movies_df.sort_values(by='show_start_date')\n",
    "premiere_movies = premiere_movies.drop_duplicates(subset=['title'])\n",
    "premiere_movies"
   ]
  },
  {
   "cell_type": "code",
   "execution_count": 89,
   "outputs": [
    {
     "data": {
      "text/plain": "                                                  title     puNumber  \\\n0                                        Душевная кухня  121000610.0   \n1     Легион_.(Фильм содержит сцены ужасов, насилия ...  121000310.0   \n2                                   Из Парижа с любовью  121001310.0   \n3                                       Золотое сечение  111000610.0   \n4                                          Буду помнить  111000910.0   \n...                                                 ...          ...   \n3098                             Небо измеряется милями  111021919.0   \n3099                        Иван Царевич и Серый Волк 4  114005019.0   \n3100                            Фиксики против кработов  114004819.0   \n3101                    Акрам Хан: Родом из Карри Хауса  126007919.0   \n3102                                      Союз спасения  111022019.0   \n\n               show_start_date             type  \\\n0    2010-01-19 12:00:00+00:00   Художественный   \n1    2010-01-25 12:00:00+00:00   Художественный   \n2    2010-01-26 12:00:00+00:00   Художественный   \n3    2010-01-26 12:00:00+00:00   Художественный   \n4    2010-01-28 12:00:00+00:00   Художественный   \n...                        ...              ...   \n3098 2019-12-19 12:00:00+00:00   Художественный   \n3099 2019-12-20 12:00:00+00:00     Анимационный   \n3100 2019-12-21 12:00:00+00:00     Анимационный   \n3101 2019-12-23 12:00:00+00:00           Прочие   \n3102 2019-12-26 12:00:00+00:00   Художественный   \n\n                                            film_studio production_country  \\\n0     Корасон Интертейнмент, Дорие Филм, Пирамид Про...           Германия   \n1                                            Болд Филмз                США   \n2                                     Европа Корпорейшн            Франция   \n3     ОАО \"ТПО \"Санкт-Петербургская студия документа...             Россия   \n4                                        ООО \"ГРИНСИТИ\"             Россия   \n...                                                 ...                ...   \n3098                                  ООО \"РБ ПРОДАКШН\"             Россия   \n3099          ООО \"Студия анимационного кино \"Мельница\"             Россия   \n3100                                      АО \"Аэроплан\"             Россия   \n3101                                         Свон Филмз     Великобритания   \n3102                                ЗАО \"Дирекция кино\"             Россия   \n\n                                           director  \\\n0                                        Фатих Акин   \n1                                      Скотт Стюарт   \n2                                       Пьер Морель   \n3                                         С.Дебижев   \n4                                        В.Воробьев   \n...                                             ...   \n3098                                       К.Буслов   \n3099                          Д.Шмидт, К.Феоктистов   \n3100  В.Бедошвили, О.Ужинов, И.Пшонкин, Д.Цыбулькин   \n3101                                      Ник Пойнц   \n3102                                      А.Кравчук   \n\n                             producer                  age_restriction  \\\n0              Фатих Акин, Клаус Маек  «16+» - для детей старше 16 лет   \n1       Дэвид Ланкастер, Майкл Литвак      «18+» - запрещено для детей   \n2            Люк Бессон, Индия Осборн  «16+» - для детей старше 16 лет   \n3                А.Тельнов, С.Федотов  «16+» - для детей старше 16 лет   \n4                          А.Сафронов  «16+» - для детей старше 16 лет   \n...                               ...                              ...   \n3098                         К.Буслов  «12+» - для детей старше 12 лет   \n3099           С.Сельянов, А.Боярский    «6+» - для детей старше 6 лет   \n3100  Г.Васильев, С.Саркисов, И.Попов    «6+» - для детей старше 6 лет   \n3101           Поппи Бегум, Ник Пойнц  «12+» - для детей старше 12 лет   \n3102              А.Максимов, К.Эрнст  «12+» - для детей старше 12 лет   \n\n      refundable_support  nonrefundable_support       budget financing_source  \\\n0                    NaN                    NaN          NaN              NaN   \n1                    NaN                    NaN          NaN              NaN   \n2                    NaN                    NaN          NaN              NaN   \n3                    NaN                    NaN          NaN              NaN   \n4                    NaN                    NaN          NaN              NaN   \n...                  ...                    ...          ...              ...   \n3098                 NaN                    NaN          NaN              NaN   \n3099         100000000.0                    0.0  190000000.0        Фонд кино   \n3100          80000000.0             40000000.0  270000000.0        Фонд кино   \n3101                 NaN                    NaN          NaN              NaN   \n3102         100000000.0            400000000.0  980000000.0        Фонд кино   \n\n      ratings                           genres    box_office  \n0         7.1                    драма,комедия  4.200000e+02  \n1         NaN                              NaN  5.600000e+02  \n2         7.3           боевик,триллер,комедия  1.585000e+03  \n3         4.9                      приключения  7.600000e+02  \n4         7.2                          военный  3.217500e+04  \n...       ...                              ...           ...  \n3098      6.5                  военный,история  3.672240e+05  \n3099      6.7  мультфильм,приключения,семейный  5.010692e+08  \n3100      7.5   мультфильм,детский,приключения  3.875905e+08  \n3101      NaN                              NaN  2.195690e+05  \n3102      6.0          история,биография,драма  7.177032e+08  \n\n[3103 rows x 16 columns]",
      "text/html": "<div>\n<style scoped>\n    .dataframe tbody tr th:only-of-type {\n        vertical-align: middle;\n    }\n\n    .dataframe tbody tr th {\n        vertical-align: top;\n    }\n\n    .dataframe thead th {\n        text-align: right;\n    }\n</style>\n<table border=\"1\" class=\"dataframe\">\n  <thead>\n    <tr style=\"text-align: right;\">\n      <th></th>\n      <th>title</th>\n      <th>puNumber</th>\n      <th>show_start_date</th>\n      <th>type</th>\n      <th>film_studio</th>\n      <th>production_country</th>\n      <th>director</th>\n      <th>producer</th>\n      <th>age_restriction</th>\n      <th>refundable_support</th>\n      <th>nonrefundable_support</th>\n      <th>budget</th>\n      <th>financing_source</th>\n      <th>ratings</th>\n      <th>genres</th>\n      <th>box_office</th>\n    </tr>\n  </thead>\n  <tbody>\n    <tr>\n      <th>0</th>\n      <td>Душевная кухня</td>\n      <td>121000610.0</td>\n      <td>2010-01-19 12:00:00+00:00</td>\n      <td>Художественный</td>\n      <td>Корасон Интертейнмент, Дорие Филм, Пирамид Про...</td>\n      <td>Германия</td>\n      <td>Фатих Акин</td>\n      <td>Фатих Акин, Клаус Маек</td>\n      <td>«16+» - для детей старше 16 лет</td>\n      <td>NaN</td>\n      <td>NaN</td>\n      <td>NaN</td>\n      <td>NaN</td>\n      <td>7.1</td>\n      <td>драма,комедия</td>\n      <td>4.200000e+02</td>\n    </tr>\n    <tr>\n      <th>1</th>\n      <td>Легион_.(Фильм содержит сцены ужасов, насилия ...</td>\n      <td>121000310.0</td>\n      <td>2010-01-25 12:00:00+00:00</td>\n      <td>Художественный</td>\n      <td>Болд Филмз</td>\n      <td>США</td>\n      <td>Скотт Стюарт</td>\n      <td>Дэвид Ланкастер, Майкл Литвак</td>\n      <td>«18+» - запрещено для детей</td>\n      <td>NaN</td>\n      <td>NaN</td>\n      <td>NaN</td>\n      <td>NaN</td>\n      <td>NaN</td>\n      <td>NaN</td>\n      <td>5.600000e+02</td>\n    </tr>\n    <tr>\n      <th>2</th>\n      <td>Из Парижа с любовью</td>\n      <td>121001310.0</td>\n      <td>2010-01-26 12:00:00+00:00</td>\n      <td>Художественный</td>\n      <td>Европа Корпорейшн</td>\n      <td>Франция</td>\n      <td>Пьер Морель</td>\n      <td>Люк Бессон, Индия Осборн</td>\n      <td>«16+» - для детей старше 16 лет</td>\n      <td>NaN</td>\n      <td>NaN</td>\n      <td>NaN</td>\n      <td>NaN</td>\n      <td>7.3</td>\n      <td>боевик,триллер,комедия</td>\n      <td>1.585000e+03</td>\n    </tr>\n    <tr>\n      <th>3</th>\n      <td>Золотое сечение</td>\n      <td>111000610.0</td>\n      <td>2010-01-26 12:00:00+00:00</td>\n      <td>Художественный</td>\n      <td>ОАО \"ТПО \"Санкт-Петербургская студия документа...</td>\n      <td>Россия</td>\n      <td>С.Дебижев</td>\n      <td>А.Тельнов, С.Федотов</td>\n      <td>«16+» - для детей старше 16 лет</td>\n      <td>NaN</td>\n      <td>NaN</td>\n      <td>NaN</td>\n      <td>NaN</td>\n      <td>4.9</td>\n      <td>приключения</td>\n      <td>7.600000e+02</td>\n    </tr>\n    <tr>\n      <th>4</th>\n      <td>Буду помнить</td>\n      <td>111000910.0</td>\n      <td>2010-01-28 12:00:00+00:00</td>\n      <td>Художественный</td>\n      <td>ООО \"ГРИНСИТИ\"</td>\n      <td>Россия</td>\n      <td>В.Воробьев</td>\n      <td>А.Сафронов</td>\n      <td>«16+» - для детей старше 16 лет</td>\n      <td>NaN</td>\n      <td>NaN</td>\n      <td>NaN</td>\n      <td>NaN</td>\n      <td>7.2</td>\n      <td>военный</td>\n      <td>3.217500e+04</td>\n    </tr>\n    <tr>\n      <th>...</th>\n      <td>...</td>\n      <td>...</td>\n      <td>...</td>\n      <td>...</td>\n      <td>...</td>\n      <td>...</td>\n      <td>...</td>\n      <td>...</td>\n      <td>...</td>\n      <td>...</td>\n      <td>...</td>\n      <td>...</td>\n      <td>...</td>\n      <td>...</td>\n      <td>...</td>\n      <td>...</td>\n    </tr>\n    <tr>\n      <th>3098</th>\n      <td>Небо измеряется милями</td>\n      <td>111021919.0</td>\n      <td>2019-12-19 12:00:00+00:00</td>\n      <td>Художественный</td>\n      <td>ООО \"РБ ПРОДАКШН\"</td>\n      <td>Россия</td>\n      <td>К.Буслов</td>\n      <td>К.Буслов</td>\n      <td>«12+» - для детей старше 12 лет</td>\n      <td>NaN</td>\n      <td>NaN</td>\n      <td>NaN</td>\n      <td>NaN</td>\n      <td>6.5</td>\n      <td>военный,история</td>\n      <td>3.672240e+05</td>\n    </tr>\n    <tr>\n      <th>3099</th>\n      <td>Иван Царевич и Серый Волк 4</td>\n      <td>114005019.0</td>\n      <td>2019-12-20 12:00:00+00:00</td>\n      <td>Анимационный</td>\n      <td>ООО \"Студия анимационного кино \"Мельница\"</td>\n      <td>Россия</td>\n      <td>Д.Шмидт, К.Феоктистов</td>\n      <td>С.Сельянов, А.Боярский</td>\n      <td>«6+» - для детей старше 6 лет</td>\n      <td>100000000.0</td>\n      <td>0.0</td>\n      <td>190000000.0</td>\n      <td>Фонд кино</td>\n      <td>6.7</td>\n      <td>мультфильм,приключения,семейный</td>\n      <td>5.010692e+08</td>\n    </tr>\n    <tr>\n      <th>3100</th>\n      <td>Фиксики против кработов</td>\n      <td>114004819.0</td>\n      <td>2019-12-21 12:00:00+00:00</td>\n      <td>Анимационный</td>\n      <td>АО \"Аэроплан\"</td>\n      <td>Россия</td>\n      <td>В.Бедошвили, О.Ужинов, И.Пшонкин, Д.Цыбулькин</td>\n      <td>Г.Васильев, С.Саркисов, И.Попов</td>\n      <td>«6+» - для детей старше 6 лет</td>\n      <td>80000000.0</td>\n      <td>40000000.0</td>\n      <td>270000000.0</td>\n      <td>Фонд кино</td>\n      <td>7.5</td>\n      <td>мультфильм,детский,приключения</td>\n      <td>3.875905e+08</td>\n    </tr>\n    <tr>\n      <th>3101</th>\n      <td>Акрам Хан: Родом из Карри Хауса</td>\n      <td>126007919.0</td>\n      <td>2019-12-23 12:00:00+00:00</td>\n      <td>Прочие</td>\n      <td>Свон Филмз</td>\n      <td>Великобритания</td>\n      <td>Ник Пойнц</td>\n      <td>Поппи Бегум, Ник Пойнц</td>\n      <td>«12+» - для детей старше 12 лет</td>\n      <td>NaN</td>\n      <td>NaN</td>\n      <td>NaN</td>\n      <td>NaN</td>\n      <td>NaN</td>\n      <td>NaN</td>\n      <td>2.195690e+05</td>\n    </tr>\n    <tr>\n      <th>3102</th>\n      <td>Союз спасения</td>\n      <td>111022019.0</td>\n      <td>2019-12-26 12:00:00+00:00</td>\n      <td>Художественный</td>\n      <td>ЗАО \"Дирекция кино\"</td>\n      <td>Россия</td>\n      <td>А.Кравчук</td>\n      <td>А.Максимов, К.Эрнст</td>\n      <td>«12+» - для детей старше 12 лет</td>\n      <td>100000000.0</td>\n      <td>400000000.0</td>\n      <td>980000000.0</td>\n      <td>Фонд кино</td>\n      <td>6.0</td>\n      <td>история,биография,драма</td>\n      <td>7.177032e+08</td>\n    </tr>\n  </tbody>\n</table>\n<p>3103 rows × 16 columns</p>\n</div>"
     },
     "execution_count": 89,
     "metadata": {},
     "output_type": "execute_result"
    }
   ],
   "source": [
    "movies_premiere_with_box_office = pd.merge(premiere_movies, shows_df, on='puNumber', how='inner')\n",
    "movies_premiere_with_box_office"
   ],
   "metadata": {
    "collapsed": false,
    "pycharm": {
     "name": "#%%\n"
    }
   }
  },
  {
   "cell_type": "code",
   "execution_count": null,
   "outputs": [],
   "source": [
    "movies_premiere_with_box_office['premiere_year'] = movies_premiere_with_box_office['show_start_date'].dt.year\n",
    "box_office_medians = movies_premiere_with_box_office.groupby('premiere_year')['box_office'].median()\n",
    "box_office_medians.nlargest(3)"
   ],
   "metadata": {
    "collapsed": false,
    "pycharm": {
     "name": "#%%\n"
    }
   }
  },
  {
   "cell_type": "code",
   "execution_count": 87,
   "outputs": [
    {
     "data": {
      "text/plain": "<AxesSubplot: xlabel='premiere_year'>"
     },
     "execution_count": 87,
     "metadata": {},
     "output_type": "execute_result"
    },
    {
     "data": {
      "text/plain": "<Figure size 640x480 with 1 Axes>",
      "image/png": "[encoded data removed]"
     },
     "metadata": {},
     "output_type": "display_data"
    }
   ],
   "source": [
    "box_office_medians.sort_values(ascending=False).plot.bar()"
   ],
   "metadata": {
    "collapsed": false,
    "pycharm": {
     "name": "#%%\n"
    }
   }
  },
  {
   "cell_type": "markdown",
   "metadata": {
    "pycharm": {
     "name": "#%% md\n"
    }
   },
   "source": [
    "# Задание № 3\n",
    "\n",
    "### С помощью сводной таблицы посчитайте среднюю и медианную сумму сборов для каждого года.\n",
    "\n",
    "**Было бы здорово визуализировать результаты!**\n",
    "\n",
    "Что может понадобиться:\n",
    "* См. Задание № 2"
   ]
  },
  {
   "cell_type": "code",
   "execution_count": 105,
   "metadata": {
    "pycharm": {
     "name": "#%%\n"
    }
   },
   "outputs": [
    {
     "data": {
      "text/plain": "premiere_year\n2017    1.360328e+08\n2018    1.045651e+08\n2019    9.136926e+07\n2016    9.100057e+07\n2015    8.494057e+07\n2014    2.668442e+07\n2013    1.619549e+05\n2011    1.293832e+05\n2012    5.433924e+04\n2010    2.313004e+04\nName: box_office, dtype: float64"
     },
     "execution_count": 105,
     "metadata": {},
     "output_type": "execute_result"
    }
   ],
   "source": [
    "merged = movies_df.merge(shows_df,how='inner', on='puNumber')\n",
    "merged['premiere_year'] = merged['show_start_date'].dt.year\n",
    "grouped = merged.groupby('premiere_year')['box_office']\n",
    "mean = grouped.mean().sort_values(ascending=False)\n",
    "mean"
   ]
  },
  {
   "cell_type": "code",
   "execution_count": 106,
   "outputs": [
    {
     "data": {
      "text/plain": "<AxesSubplot: xlabel='premiere_year'>"
     },
     "execution_count": 106,
     "metadata": {},
     "output_type": "execute_result"
    },
    {
     "data": {
      "text/plain": "<Figure size 640x480 with 1 Axes>",
      "image/png": "[encoded data removed]"
     },
     "metadata": {},
     "output_type": "display_data"
    }
   ],
   "source": [
    "mean.plot.bar()"
   ],
   "metadata": {
    "collapsed": false,
    "pycharm": {
     "name": "#%%\n"
    }
   }
  },
  {
   "cell_type": "code",
   "execution_count": 111,
   "outputs": [
    {
     "data": {
      "text/plain": "premiere_year\n2010       1700.000\n2011       3000.000\n2012       5660.000\n2013       3522.500\n2014      18160.000\n2015    4920933.000\n2016    3846679.410\n2017    9968340.000\n2018    8891102.210\n2019    4627798.345\nName: box_office, dtype: float64"
     },
     "execution_count": 111,
     "metadata": {},
     "output_type": "execute_result"
    }
   ],
   "source": [
    "median = grouped.median().sort_values(ascending=False)\n",
    "median"
   ],
   "metadata": {
    "collapsed": false,
    "pycharm": {
     "name": "#%%\n"
    }
   }
  },
  {
   "cell_type": "code",
   "execution_count": 112,
   "outputs": [
    {
     "data": {
      "text/plain": "<AxesSubplot: xlabel='premiere_year'>"
     },
     "execution_count": 112,
     "metadata": {},
     "output_type": "execute_result"
    },
    {
     "data": {
      "text/plain": "<Figure size 640x480 with 1 Axes>",
      "image/png": "[encoded data removed]"
     },
     "metadata": {},
     "output_type": "display_data"
    }
   ],
   "source": [
    "median.plot.bar()"
   ],
   "metadata": {
    "collapsed": false,
    "pycharm": {
     "name": "#%%\n"
    }
   }
  },
  {
   "cell_type": "markdown",
   "metadata": {
    "pycharm": {
     "name": "#%% md\n"
    }
   },
   "source": [
    "# Задание № 4\n",
    "\n",
    "### Выделите имена продюсеров из столбца producer. У кого из них самый высокий средний рейтинг фильмов?\n",
    "\n",
    "\n",
    "Что может понадобиться:\n",
    "* См. Задание № 2"
   ]
  },
  {
   "cell_type": "code",
   "execution_count": 133,
   "metadata": {
    "pycharm": {
     "name": "#%%\n"
    }
   },
   "outputs": [
    {
     "data": {
      "text/plain": "           director_split  ratings\n0         [Кевин Костнер]      7.2\n1             [Е.Матвеев]      6.6\n2     [Тимур Бекмамбетов]      6.8\n3     [Тимур Бекмамбетов]      6.8\n4     [Тимур Бекмамбетов]      6.8\n...                   ...      ...\n7481        [Фил Грабски]      NaN\n7482         [Ник Пауэлл]      5.4\n7483   [Чарльз Е.Бастьен]      NaN\n7484           [А.Беляев]      NaN\n7485           [И.Трусов]      6.3\n\n[7486 rows x 2 columns]",
      "text/html": "<div>\n<style scoped>\n    .dataframe tbody tr th:only-of-type {\n        vertical-align: middle;\n    }\n\n    .dataframe tbody tr th {\n        vertical-align: top;\n    }\n\n    .dataframe thead th {\n        text-align: right;\n    }\n</style>\n<table border=\"1\" class=\"dataframe\">\n  <thead>\n    <tr style=\"text-align: right;\">\n      <th></th>\n      <th>director_split</th>\n      <th>ratings</th>\n    </tr>\n  </thead>\n  <tbody>\n    <tr>\n      <th>0</th>\n      <td>[Кевин Костнер]</td>\n      <td>7.2</td>\n    </tr>\n    <tr>\n      <th>1</th>\n      <td>[Е.Матвеев]</td>\n      <td>6.6</td>\n    </tr>\n    <tr>\n      <th>2</th>\n      <td>[Тимур Бекмамбетов]</td>\n      <td>6.8</td>\n    </tr>\n    <tr>\n      <th>3</th>\n      <td>[Тимур Бекмамбетов]</td>\n      <td>6.8</td>\n    </tr>\n    <tr>\n      <th>4</th>\n      <td>[Тимур Бекмамбетов]</td>\n      <td>6.8</td>\n    </tr>\n    <tr>\n      <th>...</th>\n      <td>...</td>\n      <td>...</td>\n    </tr>\n    <tr>\n      <th>7481</th>\n      <td>[Фил Грабски]</td>\n      <td>NaN</td>\n    </tr>\n    <tr>\n      <th>7482</th>\n      <td>[Ник Пауэлл]</td>\n      <td>5.4</td>\n    </tr>\n    <tr>\n      <th>7483</th>\n      <td>[Чарльз Е.Бастьен]</td>\n      <td>NaN</td>\n    </tr>\n    <tr>\n      <th>7484</th>\n      <td>[А.Беляев]</td>\n      <td>NaN</td>\n    </tr>\n    <tr>\n      <th>7485</th>\n      <td>[И.Трусов]</td>\n      <td>6.3</td>\n    </tr>\n  </tbody>\n</table>\n<p>7486 rows × 2 columns</p>\n</div>"
     },
     "execution_count": 133,
     "metadata": {},
     "output_type": "execute_result"
    }
   ],
   "source": [
    "movies_df['director_split'] = movies_df['director'].str.split(', ')\n",
    "director_ratings = movies_df[['director_split', 'ratings']]\n",
    "director_ratings"
   ]
  },
  {
   "cell_type": "code",
   "execution_count": 134,
   "outputs": [
    {
     "data": {
      "text/plain": "director_split\nЕ.Шиляева                                         9.9\nЭктор Бабенко                                     9.9\nТ.Мирошник                                        9.9\nЕ.Олейник                                         9.8\nЕ.Климович                                        9.8\n                                                 ... \nхореография Питера Райта                          NaN\nхореография Пьера Лакотта по Филиппу Тальони      NaN\nхореография Рудольфа Нуреева по Мариусу Петипа    NaN\nхореография Фредерика Аштона                      NaN\nхореография Фредерика Эштона                      NaN\nName: ratings, Length: 5728, dtype: float64"
     },
     "execution_count": 134,
     "metadata": {},
     "output_type": "execute_result"
    }
   ],
   "source": [
    "director_ratings = director_ratings.explode('director_split')\n",
    "director_ratings.groupby('director_split')['ratings'].mean().sort_values(ascending=False)"
   ],
   "metadata": {
    "collapsed": false,
    "pycharm": {
     "name": "#%%\n"
    }
   }
  }
 ],
 "metadata": {
  "kernelspec": {
   "display_name": "Python 3",
   "language": "python",
   "name": "python3"
  },
  "language_info": {
   "codemirror_mode": {
    "name": "ipython",
    "version": 3
   },
   "file_extension": ".py",
   "mimetype": "text/x-python",
   "name": "python",
   "nbconvert_exporter": "python",
   "pygments_lexer": "ipython3",
   "version": "3.7.3"
  }
 },
 "nbformat": 4,
 "nbformat_minor": 2
}
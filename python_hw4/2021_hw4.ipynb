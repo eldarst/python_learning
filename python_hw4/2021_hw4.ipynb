{
 "cells": [
  {
   "cell_type": "markdown",
   "metadata": {
    "pycharm": {
     "name": "#%% md\n"
    }
   },
   "source": [
    "## Задача 1: Frequency\n",
    "\n",
    "Напишите функцию, подсчитывающую частоту вхождения слов в текстовый файл (передаётся в функцию в качестве аргумента)."
   ]
  },
  {
   "cell_type": "code",
   "execution_count": 52,
   "outputs": [
    {
     "name": "stdout",
     "output_type": "stream",
     "text": [
      "Counter({'the': 268, 'of': 177, 'i': 145, 'and': 122, 'my': 110, 'to': 109, 'a': 92, 'it': 69, 'in': 56, 'had': 52, 'was': 51, 'with': 39, 'this': 37, 'which': 35, 'me': 35, 'at': 34, 'for': 32, 'as': 32, 'not': 30, 'that': 30, 'from': 29, 'by': 27, 'but': 25, 'one': 24, 'upon': 24, 'been': 22, 'no': 19, 'its': 18, 'have': 15, 'or': 15, 'be': 14, 'more': 14, 'into': 14, 'very': 13, 'so': 13, 'than': 12, 'house': 12, 'about': 11, 'even': 11, 'myself': 11, 'wife': 10, 'cat': 10, 'most': 9, 'would': 9, 'is': 9, 'an': 9, 'heart': 9, 'when': 9, 'all': 9, 'day': 9, 'am': 8, 'own': 8, 'these': 8, 'some': 8, 'made': 8, 'now': 8, 'could': 8, 'were': 8, 'came': 8, 'once': 8, 'beast': 8, 'wall': 8, 'soul': 7, 'who': 7, 'him': 7, 'animal': 7, 'pluto': 7, 'he': 7, 'night': 7, 'knew': 7, 'if': 7, 'up': 7, 'cellar': 7, 'yet': 6, 'their': 6, 'reason': 6, 'through': 6, 'length': 6, 'what': 6, 'hand': 6, 'on': 6, 'such': 6, 'fire': 6, 'walls': 6, 'place': 5, 'will': 5, 'them': 5, 'they': 5, 'little': 5, 'horror': 5, 'make': 5, 'large': 5, 'half': 5, 'terror': 5, 'creature': 5, 'then': 5, 'because': 5, 'say': 5, 'hung': 5, 'before': 4, 'mere': 4, 'many': 4, 'less': 4, 'found': 4, 'disposition': 4, 'great': 4, 'character': 4, 'thus': 4, 'there': 4, 'brute': 4, 'she': 4, 'black': 4, 'his': 4, 'went': 4, 'our': 4, 'during': 4, 'violence': 4, 'only': 4, 'however': 4, 'old': 4, 'much': 4, 'seemed': 4, 'body': 4, 'eyes': 4, 'again': 4, 'deed': 4, 'appearance': 4, 'any': 4, 'usual': 4, 'spirit': 4, 'thing': 4, 'possible': 4, 'whole': 4, 'stood': 4, 'having': 4, 'white': 4, 'although': 4, 'did': 4, 'nearly': 4, 'within': 4, 'dread': 4, 'corpse': 4, 'well': 4, 'do': 3, 'without': 3, 'destroyed': 3, 'terrible': 3, 'may': 3, 'far': 3, 'nothing': 3, 'humanity': 3, 'pets': 3, 'time': 3, 'grew': 3, 'dog': 3, 'has': 3, 'frequent': 3, 'man': 3, 'we': 3, 'just': 3, 'her': 3, 'course': 3, 'like': 3, 'home': 3, 'every': 3, 'while': 3, 'morning': 3, 'slept': 3, 'remorse': 3, 'crime': 3, 'feeling': 3, 'soon': 3, 'eye': 3, 'appeared': 3, 'left': 3, 'first': 3, 'perverseness': 3, 'other': 3, 'should': 3, 'itself': 3, 'felt': 3, 'god': 3, 'between': 3, 'against': 3, 'head': 3, 'here': 3, 'fact': 3, 'portion': 3, 'attention': 3, 'immediately': 3, 'plaster': 3, 'readily': 3, 'look': 3, 'sat': 3, 'object': 3, 'hair': 3, 'search': 3, 'prepared': 3, 'degrees': 3, 'hatred': 3, 'former': 3, 'doubt': 3, 'said': 3, 'long': 3, 'blow': 3, 'evil': 3, 'monster': 3, 'hideous': 3, 'whose': 3, 'thoughts': 3, 'murder': 3, 'are': 3, 'constructed': 3, 'easily': 3, 'present': 3, 'bosom': 3, 'party': 3, 'gentlemen': 3, 'pen': 2, 'neither': 2, 'expect': 2, 'nor': 2, 'mad': 2, 'indeed': 2, 'reject': 2, 'purpose': 2, 'household': 2, 'events': 2, 'presented': 2, 'intellect': 2, 'phantasm': 2, 'awe': 2, 'effects': 2, 'animals': 2, 'never': 2, 'happy': 2, 'those': 2, 'affection': 2, 'sagacious': 2, 'trouble': 2, 'nature': 2, 'something': 2, 'friendship': 2, 'find': 2, 'partiality': 2, 'lost': 2, 'rabbits': 2, 'monkey': 2, 'latter': 2, 'degree': 2, 'cats': 2, 'point': 2, 'better': 2, 'remembered': 2, 'name': 2, 'favorite': 2, 'pet': 2, 'alone': 2, 'difficulty': 2, 'manner': 2, 'blush': 2, 'confess': 2, 'experienced': 2, 'feelings': 2, 'use': 2, 'offered': 2, 'still': 2, 'regard': 2, 'maltreating': 2, 'way': 2, 'disease': 2, 'somewhat': 2, 'ill': 2, 'temper': 2, 'haunts': 2, 'avoided': 2, 'presence': 2, 'inflicted': 2, 'teeth': 2, 'fury': 2, 'instantly': 2, 'possessed': 2, 'longer': 2, 'take': 2, 'cut': 2, 'socket': 2, 'shudder': 2, 'atrocity': 2, 'off': 2, 'best': 2, 'feeble': 2, 'remained': 2, 'memory': 2, 'might': 2, 'fled': 2, 'extreme': 2, 'evident': 2, 'dislike': 2, 'part': 2, 'loved': 2, 'final': 2, 'overthrow': 2, 'sure': 2, 'times': 2, 'committing': 2, 'vile': 2, 'action': 2, 'finally': 2, 'neck': 2, 'tree': 2, 'given': 2, 'doing': 2, 'sin': 2, 'beyond': 2, 'done': 2, 'sleep': 2, 'cry': 2, 'bed': 2, 'flames': 2, 'entire': 2, 'above': 2, 'cause': 2, 'wish': 2, 'exception': 2, 'middle': 2, 'crowd': 2, 'minute': 2, 'strange': 2, 'similar': 2, 'approached': 2, 'saw': 2, 'relief': 2, 'impression': 2, 'scarcely': 2, 'garden': 2, 'filled': 2, 'cruelty': 2, 'accomplished': 2, 'deep': 2, 'rid': 2, 'period': 2, 'loss': 2, 'another': 2, 'constituted': 2, 'caused': 2, 'sooner': 2, 'indefinite': 2, 'covering': 2, 'breast': 2, 'arose': 2, 'caresses': 2, 'accompany': 2, 'proceeded': 2, 'became': 2, 'how': 2, 'slow': 2, 'sense': 2, 'otherwise': 2, 'gradually': 2, 'unutterable': 2, 'breath': 2, 'already': 2, 'high': 2, 'followed': 2, 'reader': 2, 'beneath': 2, 'down': 2, 'almost': 2, 'ashamed': 2, 'mark': 2, 'sole': 2, 'originally': 2, 'rigorous': 2, 'image': 2, 'agony': 2, 'death': 2, 'wretchedness': 2, 'out': 2, 'alas': 2, 'rest': 2, 'moment': 2, 'stairs': 2, 'axe': 2, 'descended': 2, 'fell': 2, 'either': 2, 'resolved': 2, 'floor': 2, 'walled': 2, 'bricks': 2, 'carefully': 2, 'brickwork': 2, 'satisfied': 2, 'disturbed': 2, 'looked': 2, 'least': 2, 'next': 2, 'put': 2, 'third': 2, 'premises': 2, 'answered': 2, 'fourth': 2, 'police': 2, 'end': 2, 'arms': 2, 'triumph': 2, 'you': 2, 'voice': 2, 'tomb': 2, 'wild': 1, 'homely': 1, 'narrative': 1, 'solicit': 1, 'belief': 1, 'case': 1, 'where': 1, 'senses': 1, 'evidence': 1, 'surely': 1, 'dream': 1, 'tomorrow': 1, 'die': 1, 'today': 1, 'unburthen': 1, 'immediate': 1, 'world': 1, 'plainly': 1, 'succinctly': 1, 'comment': 1, 'series': 1, 'consequences': 1, 'terrified': 1, 'tortured': 1, 'attempt': 1, 'expound': 1, 'seem': 1, 'barroques': 1, 'hereafter': 1, 'perhaps': 1, 'reduce': 1, 'commonplace': 1, 'calm': 1, 'logical': 1, 'excitable': 1, 'perceive': 1, 'circumstances': 1, 'detail': 1, 'ordinary': 1, 'succession': 1, 'natural': 1, 'causes': 1, 'infancy': 1, 'noted': 1, 'docility': 1, 'tenderness': 1, 'conspicuous': 1, 'jest': 1, 'companions': 1, 'especially': 1, 'fond': 1, 'indulged': 1, 'parents': 1, 'variety': 1, 'spent': 1, 'feeding': 1, 'caressing': 1, 'peculiarity': 1, 'growth': 1, 'manhood': 1, 'derived': 1, 'principal': 1, 'sources': 1, 'pleasure': 1, 'cherished': 1, 'faithful': 1, 'need': 1, 'hardly': 1, 'explaining': 1, 'intensity': 1, 'gratification': 1, 'derivable': 1, 'unselfish': 1, 'selfsacrificing': 1, 'love': 1, 'goes': 1, 'directly': 1, 'occasion': 1, 'test': 1, 'paltry': 1, 'gossamer': 1, 'fidelity': 1, 'married': 1, 'early': 1, 'uncongenial': 1, 'observing': 1, 'domestic': 1, 'opportunity': 1, 'procuring': 1, 'agreeable': 1, 'kind': 1, 'birds': 1, 'goldfish': 1, 'fine': 1, 'small': 1, 'remarkably': 1, 'beautiful': 1, 'entirely': 1, 'astonishing': 1, 'speaking': 1, 'intelligence': 1, 'tinctured': 1, 'superstition': 1, 'allusion': 1, 'ancient': 1, 'popular': 1, 'notion': 1, 'regarded': 1, 'witches': 1, 'disguise': 1, 'ever': 1, 'serious': 1, 'mention': 1, 'matter': 1, 'happens': 1, 'playmate': 1, 'fed': 1, 'attended': 1, 'wherever': 1, 'prevent': 1, 'following': 1, 'streets': 1, 'lasted': 1, 'several': 1, 'years': 1, 'general': 1, 'temperament': 1, 'instrumentality': 1, 'fiend': 1, 'intemperance': 1, 'radical': 1, 'alteration': 1, 'worse': 1, 'moody': 1, 'irritable': 1, 'regardless': 1, 'others': 1, 'suffered': 1, 'intemperate': 1, 'language': 1, 'personal': 1, 'feel': 1, 'change': 1, 'neglected': 1, 'illused': 1, 'retained': 1, 'sufficient': 1, 'restrain': 1, 'scruple': 1, 'accident': 1, 'alcohol': 1, 'becoming': 1, 'consequently': 1, 'peevish': 1, 'began': 1, 'experience': 1, 'returning': 1, 'intoxicated': 1, 'town': 1, 'fancied': 1, 'seized': 1, 'fright': 1, 'slight': 1, 'wound': 1, 'demon': 1, 'original': 1, 'flight': 1, 'fiendish': 1, 'malevolence': 1, 'ginnurtured': 1, 'thrilled': 1, 'fibre': 1, 'frame': 1, 'took': 1, 'waistcoatpocket': 1, 'penknife': 1, 'opened': 1, 'grasped': 1, 'poor': 1, 'throat': 1, 'deliberately': 1, 'burn': 1, 'damnable': 1, 'returned': 1, 'fumes': 1, 'nights': 1, 'debauch': 1, 'sentiment': 1, 'guilty': 1, 'equivocal': 1, 'untouched': 1, 'plunged': 1, 'excess': 1, 'drowned': 1, 'wine': 1, 'meantime': 1, 'slowly': 1, 'recovered': 1, 'true': 1, 'frightful': 1, 'suffer': 1, 'pain': 1, 'expected': 1, 'approach': 1, 'grieved': 1, 'gave': 1, 'irritation': 1, 'irrevocable': 1, 'philosophy': 1, 'takes': 1, 'account': 1, 'lives': 1, 'primitive': 1, 'impulses': 1, 'human': 1, 'indivisible': 1, 'primary': 1, 'faculties': 1, 'sentiments': 1, 'give': 1, 'direction': 1, 'hundred': 1, 'himself': 1, 'silly': 1, 'knows': 1, 'perpetual': 1, 'inclination': 1, 'judgment': 1, 'violate': 1, 'law': 1, 'merely': 1, 'understand': 1, 'unfathomable': 1, 'longing': 1, 'vex': 1, 'offer': 1, 'wrong': 1, 'wrongs': 1, 'sake': 1, 'urged': 1, 'continue': 1, 'consummate': 1, 'injury': 1, 'unoffending': 1, 'cool': 1, 'blood': 1, 'slipped': 1, 'noose': 1, 'limb': 1, 'tears': 1, 'streaming': 1, 'bitterest': 1, 'offence': 1, 'deadly': 1, 'jeopardize': 1, 'immortal': 1, 'reach': 1, 'infinite': 1, 'mercy': 1, 'merciful': 1, 'cruel': 1, 'aroused': 1, 'curtains': 1, 'blazing': 1, 'servant': 1, 'escape': 1, 'conflagration': 1, 'destruction': 1, 'complete': 1, 'worldly': 1, 'wealth': 1, 'swallowed': 1, 'resigned': 1, 'thenceforward': 1, 'despair': 1, 'weakness': 1, 'seeking': 1, 'establish': 1, 'sequence': 1, 'effect': 1, 'disaster': 1, 'detailing': 1, 'chain': 1, 'facts': 1, 'leave': 1, 'link': 1, 'imperfect': 1, 'succeeding': 1, 'visited': 1, 'ruins': 1, 'fallen': 1, 'compartment': 1, 'thick': 1, 'rested': 1, 'plastering': 1, 'measure': 1, 'resisted': 1, 'attributed': 1, 'recently': 1, 'spread': 1, 'dense': 1, 'collected': 1, 'persons': 1, 'examining': 1, 'particular': 1, 'eager': 1, 'words': 1, 'singular': 1, 'expressions': 1, 'excited': 1, 'curiosity': 1, 'graven': 1, 'bas': 1, 'surface': 1, 'figure': 1, 'gigantic': 1, 'accuracy': 1, 'truly': 1, 'marvellous': 1, 'rope': 1, 'beheld': 1, 'apparition': 1, 'wonder': 1, 'reflection': 1, 'aid': 1, 'adjacent': 1, 'alarm': 1, 'whom': 1, 'must': 1, 'thrown': 1, 'open': 1, 'window': 1, 'chamber': 1, 'probably': 1, 'view': 1, 'arousing': 1, 'falling': 1, 'compressed': 1, 'victim': 1, 'substance': 1, 'freshlyspread': 1, 'lime': 1, 'ammonia': 1, 'carcass': 1, 'portraiture': 1, 'accounted': 1, 'altogether': 1, 'conscience': 1, 'startling': 1, 'detailed': 1, 'fail': 1, 'fancy': 1, 'months': 1, 'back': 1, 'halfsentiment': 1, 'regret': 1, 'among': 1, 'habitually': 1, 'frequented': 1, 'same': 1, 'species': 1, 'supply': 1, 'stupified': 1, 'den': 1, 'infamy': 1, 'suddenly': 1, 'drawn': 1, 'reposing': 1, 'immense': 1, 'hogsheads': 1, 'gin': 1, 'rum': 1, 'chief': 1, 'furniture': 1, 'apartment': 1, 'looking': 1, 'steadily': 1, 'top': 1, 'hogshead': 1, 'minutes': 1, 'surprise': 1, 'perceived': 1, 'thereupon': 1, 'touched': 1, 'fully': 1, 'closely': 1, 'resembling': 1, 'respect': 1, 'splotch': 1, 'region': 1, 'touching': 1, 'purred': 1, 'loudly': 1, 'rubbed': 1, 'delighted': 1, 'notice': 1, 'purchase': 1, 'landlord': 1, 'person': 1, 'claim': 1, 'seen': 1, 'continued': 1, 'go': 1, 'evinced': 1, 'permitted': 1, 'occasionally': 1, 'stooping': 1, 'patting': 1, 'reached': 1, 'domesticated': 1, 'arising': 1, 'reverse': 1, 'anticipated': 1, 'know': 1, 'why': 1, 'fondness': 1, 'rather': 1, 'disgusted': 1, 'annoyed': 1, 'disgust': 1, 'annoyance': 1, 'rose': 1, 'bitterness': 1, 'certain': 1, 'shame': 1, 'remembrance': 1, 'preventing': 1, 'physically': 1, 'abusing': 1, 'weeks': 1, 'strike': 1, 'violently': 1, 'loathing': 1, 'flee': 1, 'silently': 1, 'odious': 1, 'pestilence': 1, 'added': 1, 'discovery': 1, 'after': 1, 'brought': 1, 'also': 1, 'deprived': 1, 'circumstance': 1, 'endeared': 1, 'distinguishing': 1, 'trait': 1, 'source': 1, 'simplest': 1, 'purest': 1, 'pleasures': 1, 'aversion': 1, 'increase': 1, 'footsteps': 1, 'pertinacity': 1, 'difficult': 1, 'comprehend': 1, 'whenever': 1, 'crouch': 1, 'chair': 1, 'spring': 1, 'knees': 1, 'loathsome': 1, 'walk': 1, 'get': 1, 'feet': 1, 'throw': 1, 'fastening': 1, 'sharp': 1, 'claws': 1, 'dress': 1, 'clamber': 1, 'longed': 1, 'destroy': 1, 'withheld': 1, 'partly': 1, 'chiefly': 1, 'let': 1, 'absolute': 1, 'exactly': 1, 'physical': 1, 'define': 1, 'yes': 1, 'felons': 1, 'cell': 1, 'inspired': 1, 'heightened': 1, 'merest': 1, 'chimæras': 1, 'conceive': 1, 'called': 1, 'spoken': 1, 'visible': 1, 'difference': 1, 'remember': 1, 'imperceptible': 1, 'struggled': 1, 'fanciful': 1, 'assumed': 1, 'distinctness': 1, 'outline': 1, 'representation': 1, 'loathed': 1, 'dreaded': 1, 'dared': 1, 'ghastly': 1, 'gallows': 1, 'oh': 1, 'mournful': 1, 'engine': 1, 'wretched': 1, 'fellow': 1, 'contemptuously': 1, 'work': 1, 'fashioned': 1, 'insufferable': 1, 'wo': 1, 'blessing': 1, 'started': 1, 'hourly': 1, 'dreams': 1, 'fear': 1, 'hot': 1, 'face': 1, 'vast': 1, 'weight': 1, 'incarnate': 1, 'nightmare': 1, 'power': 1, 'shake': 1, 'incumbent': 1, 'eternally': 1, 'pressure': 1, 'torments': 1, 'remnant': 1, 'good': 1, 'succumbed': 1, 'intimates': 1, 'darkest': 1, 'moodiness': 1, 'increased': 1, 'things': 1, 'mankind': 1, 'sudden': 1, 'ungovernable': 1, 'outbursts': 1, 'blindly': 1, 'abandoned': 1, 'uncomplaining': 1, 'patient': 1, 'sufferers': 1, 'accompanied': 1, 'errand': 1, 'building': 1, 'poverty': 1, 'compelled': 1, 'us': 1, 'inhabit': 1, 'steep': 1, 'throwing': 1, 'headlong': 1, 'exasperated': 1, 'madness': 1, 'uplifting': 1, 'forgetting': 1, 'wrath': 1, 'childish': 1, 'hitherto': 1, 'stayed': 1, 'aimed': 1, 'proved': 1, 'fatal': 1, 'wished': 1, 'arrested': 1, 'goaded': 1, 'interference': 1, 'rage': 1, 'demoniacal': 1, 'withdrew': 1, 'arm': 1, 'grasp': 1, 'buried': 1, 'brain': 1, 'dead': 1, 'spot': 1, 'groan': 1, 'set': 1, 'forthwith': 1, 'deliberation': 1, 'task': 1, 'concealing': 1, 'remove': 1, 'risk': 1, 'being': 1, 'observed': 1, 'neighbors': 1, 'projects': 1, 'entered': 1, 'mind': 1, 'thought': 1, 'cutting': 1, 'fragments': 1, 'destroying': 1, 'dig': 1, 'grave': 1, 'deliberated': 1, 'casting': 1, 'yard': 1, 'packing': 1, 'box': 1, 'merchandize': 1, 'arrangements': 1, 'getting': 1, 'porter': 1, 'hit': 1, 'considered': 1, 'expedient': 1, 'determined': 1, 'monks': 1, 'ages': 1, 'recorded': 1, 'victims': 1, 'adapted': 1, 'loosely': 1, 'lately': 1, 'plastered': 1, 'throughout': 1, 'rough': 1, 'dampness': 1, 'atmosphere': 1, 'prevented': 1, 'hardening': 1, 'moreover': 1, 'projection': 1, 'false': 1, 'chimney': 1, 'fireplace': 1, 'resemble': 1, 'displace': 1, 'insert': 1, 'detect': 1, 'suspicious': 1, 'calculation': 1, 'deceived': 1, 'means': 1, 'crowbar': 1, 'dislodged': 1, 'deposited': 1, 'inner': 1, 'propped': 1, 'position': 1, 'relaid': 1, 'structure': 1, 'procured': 1, 'mortar': 1, 'sand': 1, 'precaution': 1, 'distinguished': 1, 'over': 1, 'new': 1, 'finished': 1, 'right': 1, 'slightest': 1, 'rubbish': 1, 'picked': 1, 'minutest': 1, 'care': 1, 'around': 1, 'triumphantly': 1, 'labor': 1, 'vain': 1, 'step': 1, 'firmly': 1, 'able': 1, 'meet': 1, 'fate': 1, 'crafty': 1, 'alarmed': 1, 'previous': 1, 'anger': 1, 'forebore': 1, 'mood': 1, 'impossible': 1, 'describe': 1, 'imagine': 1, 'blissful': 1, 'absence': 1, 'detested': 1, 'occasioned': 1, 'since': 1, 'introduction': 1, 'soundly': 1, 'tranquilly': 1, 'aye': 1, 'burden': 1, 'second': 1, 'passed': 1, 'tormentor': 1, 'breathed': 1, 'freeman': 1, 'forever': 1, 'behold': 1, 'happiness': 1, 'supreme': 1, 'guilt': 1, 'dark': 1, 'few': 1, 'inquiries': 1, 'instituted': 1, 'discovered': 1, 'future': 1, 'felicity': 1, 'secured': 1, 'assassination': 1, 'unexpectedly': 1, 'investigation': 1, 'secure': 1, 'inscrutability': 1, 'concealment': 1, 'embarrassment': 1, 'whatever': 1, 'officers': 1, 'bade': 1, 'nook': 1, 'corner': 1, 'unexplored': 1, 'quivered': 1, 'muscle': 1, 'beat': 1, 'calmly': 1, 'slumbers': 1, 'innocence': 1, 'walked': 1, 'folded': 1, 'roamed': 1, 'fro': 1, 'thoroughly': 1, 'depart': 1, 'glee': 1, 'too': 1, 'strong': 1, 'restrained': 1, 'burned': 1, 'word': 1, 'render': 1, 'doubly': 1, 'assurance': 1, 'guiltlessness': 1, 'last': 1, 'ascended': 1, 'steps': 1, 'delight': 1, 'allayed': 1, 'your': 1, 'suspicions': 1, 'health': 1, 'courtesy': 1, 'bye': 1, 'rabid': 1, 'desire': 1, 'uttered': 1, 'excellently': 1, 'going': 1, 'solidly': 1, 'together': 1, 'phrenzy': 1, 'bravado': 1, 'rapped': 1, 'heavily': 1, 'cane': 1, 'held': 1, 'behind': 1, 'shield': 1, 'deliver': 1, 'fangs': 1, 'archfiend': 1, 'reverberation': 1, 'blows': 1, 'sunk': 1, 'silence': 1, 'muffled': 1, 'broken': 1, 'sobbing': 1, 'child': 1, 'quickly': 1, 'swelling': 1, 'loud': 1, 'continuous': 1, 'scream': 1, 'utterly': 1, 'anomalous': 1, 'inhuman': 1, 'howl': 1, 'wailing': 1, 'shriek': 1, 'arisen': 1, 'hell': 1, 'conjointly': 1, 'throats': 1, 'dammed': 1, 'demons': 1, 'exult': 1, 'damnation': 1, 'folly': 1, 'speak': 1, 'swooning': 1, 'staggered': 1, 'opposite': 1, 'instant': 1, 'motionless': 1, 'extremity': 1, 'dozen': 1, 'stout': 1, 'toiling': 1, 'bodily': 1, 'greatly': 1, 'decayed': 1, 'clotted': 1, 'gore': 1, 'erect': 1, 'spectators': 1, 'red': 1, 'extended': 1, 'mouth': 1, 'solitary': 1, 'craft': 1, 'seduced': 1, 'informing': 1, 'consigned': 1, 'hangman': 1})\n"
     ]
    }
   ],
   "source": [
    "import string\n",
    "from collections import Counter\n",
    "def count_words(filename):\n",
    "    count = Counter()\n",
    "    with open(filename, 'r') as f:\n",
    "        for line in f.readlines():\n",
    "            line = line.lower().translate(str.maketrans('', '', string.punctuation))\n",
    "            for word in line.split():\n",
    "                count[word] += 1\n",
    "    return count\n",
    "print(count_words('black_cat.txt'))"
   ],
   "metadata": {
    "collapsed": false,
    "pycharm": {
     "name": "#%%\n"
    }
   }
  },
  {
   "cell_type": "markdown",
   "metadata": {
    "pycharm": {
     "name": "#%% md\n"
    }
   },
   "source": [
    "## Задача 2: Sub six\n",
    "\n",
    "Напишите функцию display_words(), принимающую в качестве аргумента имя файла _filename_\n",
    "и записывающую в новый файл _filename6_ слова, длина которых не более 6 символов."
   ]
  },
  {
   "cell_type": "code",
   "execution_count": 50,
   "outputs": [
    {
     "name": "stdout",
     "output_type": "stream",
     "text": [
      "{'deed', 'regard', 'goes', 'longed', 'just', 'secure', 'walls', 'sudden', 'teeth', 'cause', 'merely', 'notice', 'am', 'happy', 'buried', 'gin', 'added', 'thing', 'other', 'oh', 'why', 'den', 'rage', 'surely', 'human', 'reduce', 'after', 'hatred', 'black', 'noted', 'face', 'proved', 'claws', 'since', 'fact', 'seem', 'burden', 'any', 'either', 'thick', 'brute', 'chief', 'weeks', 'fled', 'some', 'senses', 'only', 'guilty', 'has', 'town', 'could', 'rope', 'how', 'almost', 'by', 'small', 'wrath', 'as', 'seized', 'shake', 'may', 'fond', 'within', 'weight', 'urged', 'care', 'sharp', 'drawn', 'was', 'every', 'yard', 'ill', 'way', 'length', 'shame', 'sole', 'knew', 'bade', 'chain', 'bed', 'yet', 'night', 'slowly', 'mad', 'offer', 'mercy', 'well', 'insert', 'gore', 'sin', 'whole', 'purest', 'chair', 'belief', 'arm', 'large', 'man', 'sand', 'eyes', 'tree', 'figure', 'same', 'during', 'hit', 'false', 'love', 'porter', 'fibre', 'pluto', 'regret', 'thrown', 'cool', 'victim', 'slept', 'fancy', 'region', 'most', 'mind', 'over', 'and', 'shriek', 'rum', 'fright', 'whom', 'broken', 'terror', 'agony', 'him', 'murder', 'events', 'aid', 'relief', 'tomb', 'odious', 'strike', 'to', 'injury', 'burned', 'called', 'flee', 'set', 'thus', 'were', 'is', 'merest', 'hell', 'breast', 'at', 'fate', 'you', 'dared', 'my', 'also', 'alone', 'having', 'rapped', 'rid', 'less', 'whose', 'anger', 'began', 'wine', 'cat', 'lasted', 'opened', 'folded', 'howl', 'given', 'wife', 'animal', 'action', 'calm', 'end', 'vast', 'know', 'indeed', 'best', 'far', 'feet', 'spring', 'picked', 'grave', 'beyond', 'fail', 'dress', 'able', 'few', 'little', 'power', 'open', 'police', 'render', 'vile', 'cane', 'when', 'off', 'pets', 'which', 'dog', 'pen', 'reach', 'ever', 'who', 'never', 'wo', 'breath', 'sure', 'caused', 'temper', 'cry', 'into', 'cut', 'trait', 'horror', 'an', 'facts', 'blows', 'tears', 'remove', 'hardly', 'sunk', 'on', 'there', 'desire', 'one', 'wealth', 'name', 'glee', 'behind', 'fumes', 'itself', 'such', 'rough', 'reason', 'loudly', 'craft', 'about', 'feel', 'great', 'rubbed', 'exult', 'spread', 'steep', 'dream', 'vain', 'flames', 'seen', 'noose', 'erect', 'times', 'cell', 'very', 'soon', 'strong', 'steps', 'top', 'reader', 'part', 'but', 'gave', 'should', 'head', 'mark', 'supply', 'dead', 'arms', 'throw', 'burn', 'get', 'bricks', 'went', 'relaid', 'fury', 'middle', 'partly', 'wrong', 'awe', 'point', 'doing', 'then', 'takes', 'deadly', 'in', 'our', 'change', 'fire', 'birds', 'must', 'slight', 'minute', 'being', 'sleep', 'out', 'wild', 'left', 'stood', 'house', 'now', 'latter', 'upon', 'so', 'mouth', 'many', 'fed', 'last', 'errand', 'take', 'period', 'knows', 'sat', 'ruins', 'place', 'he', 'for', 'that', 'aye', 'crafty', 'roamed', 'a', 'fear', 'if', 'up', 'matter', 'felt', 'cruel', 'crouch', 'crowd', 'beast', 'of', 'alarm', 'home', 'dig', 'dense', 'first', 'pain', 'fellow', 'final', 'bodily', 'or', 'box', 'wall', 'became', 'jest', 'floor', 'child', 'have', 'folly', 'even', 'inner', 'behold', 'loved', 'filled', 'down', 'define', 'depart', 'causes', 'party', 'death', 'worse', 'put', 'fro', 'wished', 'i', 'doubt', 'search', 'lost', 'wish', 'flight', 'meet', 'means', 'beat', 'evil', 'be', 'no', 'excess', 'easily', 'seemed', 'effect', 'came', 'engine', 'among', 'rose', 'beheld', 'shield', 'voice', 'bas', 'god', 'work', 'fourth', 'too', 'back', 'passed', 'kind', 'alas', 'throat', 'stout', 'they', 'longer', 'blow', 'loss', 'give', 'again', 'blush', 'wound', 'spirit', 'corner', 'course', 'rabid', 'nights', 'soul', 'demons', 'goaded', 'their', 'moody', 'done', 'calmly', 'dread', 'former', 'body', 'manner', 'series', 'mood', 'firmly', 'high', 'fiend', 'hot', 'neck', 'above', 'nook', 'we', 'doubly', 'notion', 'long', 'words', 'once', 'task', 'own', 'walled', 'with', 'growth', 'been', 'wonder', 'hair', 'ages', 'saw', 'source', 'going', 'grew', 'word', 'spoken', 'degree', 'what', 'would', 'had', 'those', 'mortar', 'case', 'from', 'look', 'us', 'good', 'usual', 'she', 'true', 'all', 'rest', 'felons', 'muscle', 'die', 'here', 'say', 'axe', 'grasp', 'step', 'memory', 'poor', 'window', 'cats', 'vex', 'made', 'might', 'sake', 'graven', 'new', 'her', 'nearly', 'fine', 'need', 'yes', 'dreams', 'reject', 'spot', 'these', 'today', 'while', 'dozen', 'sooner', 'frame', 'the', 'white', 'months', 'bosom', 'pet', 'monkey', 'third', 'escape', 'claim', 'much', 'fatal', 'detail', 'nor', 'than', 'spent', 'walk', 'things', 'me', 'demon', 'eye', 'dark', 'held', 'his', 'socket', 'moment', 'find', 'day', 'view', 'loud', 'others', 'do', 'make', 'second', 'link', 'fallen', 'more', 'will', 'time', 'red', 'detect', 'nature', 'purred', 'cellar', 'deep', 'fully', 'test', 'object', 'knees', 'stayed', 'are', 'use', 'future', 'next', 'feeble', 'rested', 'stairs', 'silly', 'limb', 'entire', 'leave', 'garden', 'did', 'heart', 'right', 'bye', 'before', 'brain', 'lime', 'law', 'hung', 'old', 'fell', 'least', 'scream', 'health', 'not', 'blood', 'suffer', 'truly', 'hand', 'around', 'fangs', 'world', 'lives', 'haunts', 'walked', 'where', 'risk', 'image', 'homely', 'aimed', 'crime', 'looked', 'speak', 'go', 'eager', 'let', 'myself', 'half', 'corpse', 'expect', 'said', 'slow', 'it', 'guilt', 'still', 'arose', 'infamy', 'person', 'years', 'your', 'early', 'arisen', 'this', 'found', 'dammed', 'like', 'better', 'mere', 'hourly', 'groan', 'sense', 'monks', 'paltry', 'wrongs', 'rather', 'them', 'took', 'labor', 'lately', 'its'}\n"
     ]
    }
   ],
   "source": [
    "def display_words(filename):\n",
    "    with open(filename, 'r') as f1, open('filename6.txt', 'w') as f2:\n",
    "        words = set()\n",
    "        for line in f1.readlines():\n",
    "            line = line.lower().translate(str.maketrans('', '', string.punctuation))\n",
    "            words.update(set(filter(lambda x: len(x) <= 6, line.split())))\n",
    "        print(words)\n",
    "        f2.write(' '.join(words))\n",
    "display_words('black_cat.txt')"
   ],
   "metadata": {
    "collapsed": false,
    "pycharm": {
     "name": "#%%\n"
    }
   }
  },
  {
   "cell_type": "markdown",
   "metadata": {
    "pycharm": {
     "name": "#%% md\n"
    }
   },
   "source": [
    "## Задача 3: Black Cat\n",
    "\n",
    "Сгенерировать файл со словами из файла black_cat.txt, начинающимися с символов в верхнем регистре."
   ]
  },
  {
   "cell_type": "code",
   "execution_count": 47,
   "outputs": [],
   "source": [
    "import string\n",
    "def get_upper(filename):\n",
    "    with open(filename, 'r') as f1, open('black_cat_upper.txt', 'w') as f2:\n",
    "        for line in f1.readlines():\n",
    "            line = line.translate(str.maketrans('', '', string.punctuation))\n",
    "            upper_words = list(filter(lambda word: word[0].isupper(),line.split()))\n",
    "            f2.write(' '.join(upper_words))\n",
    "get_upper('black_cat.txt')"
   ],
   "metadata": {
    "collapsed": false,
    "pycharm": {
     "name": "#%%\n"
    }
   }
  },
  {
   "cell_type": "markdown",
   "metadata": {
    "pycharm": {
     "name": "#%% md\n"
    }
   },
   "source": [
    "## Задача 4: JackHouse\n",
    "\n",
    "Имеется файл JackHouse2021.txt, в котором хранится лениво записанное стихотворение Джека.\n",
    "\n",
    "Сгенерируйте на его основе полноценное стихотворение \"Дом, который построил Джек\"."
   ]
  },
  {
   "cell_type": "code",
   "execution_count": 48,
   "outputs": [
    {
     "name": "stdout",
     "output_type": "stream",
     "text": [
      "А это пшеница,\n",
      "Которая в тёмном чулане хранится\n",
      "В доме,\n",
      "Который построил Джек.\n",
      "\n",
      "А это весёлая птица-синица,\n",
      "Которая часто ворует пшеницу,\n",
      "Которая в тёмном чулане хранится\n",
      "В доме,\n",
      "Который построил Джек.\n",
      "\n",
      "Вот кот,\n",
      "Который пугает и ловит синицу,\n",
      "Которая часто ворует пшеницу,\n",
      "Которая в тёмном чулане хранится\n",
      "В доме,\n",
      "Который построил Джек.\n",
      "\n",
      "Вот пёс без хвоста,\n",
      "Который за шиворот треплет кота,\n",
      "Который пугает и ловит синицу,\n",
      "Которая часто ворует пшеницу,\n",
      "Которая в тёмном чулане хранится\n",
      "В доме,\n",
      "Который построил Джек.\n",
      "\n",
      "А это корова безрогая,\n",
      "Лягнувшая старого пса без хвоста,\n",
      "Который за шиворот треплет кота,\n",
      "Который пугает и ловит синицу,\n",
      "Которая часто ворует пшеницу,\n",
      "Которая в тёмном чулане хранится\n",
      "В доме,\n",
      "Который построил Джек.\n",
      "\n",
      "А это старушка, седая и строгая,\n",
      "Которая доит корову безрогую,\n",
      "Лягнувшая старого пса без хвоста,\n",
      "Который за шиворот треплет кота,\n",
      "Который пугает и ловит синицу,\n",
      "Которая часто ворует пшеницу,\n",
      "Которая в тёмном чулане хранится\n",
      "В доме,\n",
      "Который построил Джек.\n",
      "\n",
      "А это ленивый и толстый пастух,\n",
      "Который бранится с коровницей строгою,\n",
      "Которая доит корову безрогую,\n",
      "Лягнувшая старого пса без хвоста,\n",
      "Который за шиворот треплет кота,\n",
      "Который пугает и ловит синицу,\n",
      "Которая часто ворует пшеницу,\n",
      "Которая в тёмном чулане хранится\n",
      "В доме,\n",
      "Который построил Джек.\n",
      "\n",
      "Вот два петуха,\n",
      "Которые будят того пастуха,\n",
      "Который бранится с коровницей строгою,\n",
      "Которая доит корову безрогую,\n",
      "Лягнувшая старого пса без хвоста,\n",
      "Который за шиворот треплет кота,\n",
      "Который пугает и ловит синицу,\n",
      "Которая часто ворует пшеницу,\n",
      "Которая в тёмном чулане хранится\n",
      "В доме,\n",
      "Который построил Джек.\n",
      "\n"
     ]
    }
   ],
   "source": [
    "with open('JackHouse2021.txt', 'r', encoding='utf-8') as f1:\n",
    "    lines = f1.readlines()[3:26]\n",
    "end = 'В доме,\\nКоторый построил Джек.\\n'\n",
    "which_list =[]\n",
    "\n",
    "quote = ''\n",
    "for line in lines:\n",
    "    if line == '\\n':\n",
    "        continue\n",
    "    if len(quote) == 0:\n",
    "        quote += line\n",
    "    else:\n",
    "        which_list.append(line)\n",
    "        print(quote, end = '')\n",
    "        for which in reversed(which_list):\n",
    "            print(which, end = '')\n",
    "        print(end)\n",
    "        quote = ''"
   ],
   "metadata": {
    "collapsed": false,
    "pycharm": {
     "name": "#%%\n"
    }
   }
  },
  {
   "cell_type": "markdown",
   "metadata": {
    "pycharm": {
     "name": "#%% md\n"
    }
   },
   "source": [
    "## Задача 5: Console Quiz\n",
    "\n",
    "Напишите \"консольную\" викторону:\n",
    "\n",
    "    1. Считайте из файла questions.txt список вопросов, вариантов ответов и номеров правильных ответов.\n",
    "    2. При запуске должен появляться вопрос, 4 варианта ответа и поле, куда необходимо ввести ответ пользователя.\n",
    "        2.1 Если пользователь вводит 1, 2, 3 или 4, то должна запускаться проверка правильности ответа;\n",
    "        2.2 Если пользователь вводит 0, то игра должна прекратиться;\n",
    "        2.3 Если другое значение, то должно появиться сообщение об ошибке и просьба снова ввести ответ.\n",
    "    3. В случае, если был дан правильный ответ, пользователю выдаётся следующий вопрос. Если был введён неправильный ответ, то игра начинается заново.\n",
    "    4. Если игрок правильно ответил на все вопросы, то игра заканчивается."
   ]
  },
  {
   "cell_type": "code",
   "execution_count": 14,
   "outputs": [
    {
     "name": "stdout",
     "output_type": "stream",
     "text": [
      " Что не входило в обязанности первых стюардесс?\n",
      "1) заправлять самолет\n",
      "2) носить багаж\n",
      "3) кормить пассажиров\n",
      "4) уничтожать мух\n",
      "Неверный символ. Попробуйте снова!\n",
      "Верно -  3\n",
      "На что опирается в своей деятельности политическая партия?\n",
      "1) на перрон\n",
      "2) на шасси\n",
      "3) на платформу\n",
      "4) на подиум\n",
      "Неверный символ. Попробуйте снова!\n",
      "Верно -  3\n",
      " Возле какой горы впервые был найден драгоценный камень танзанит?\n",
      "1) Килиманджаро\n",
      "2) Мак-Кинли\n",
      "3) Аконкагуа\n",
      "4) Элбрус\n",
      "Game over!\n"
     ]
    }
   ],
   "source": [
    "import random\n",
    "import string\n",
    "with open('qustions.txt', 'r') as f:\n",
    "    lines = f.readlines()\n",
    "\n",
    "full_questions = dict()\n",
    "\n",
    "lines = list(map(lambda x: x.strip(),list(filter(lambda x: x != \"\\n\", lines))))\n",
    "all_questions = list(map(lambda x: x[3:],lines[::6]))\n",
    "correct_answers = lines[5::6]\n",
    "all_answers = []\n",
    "for i in range(len(all_questions)):\n",
    "    start = i * 6 + 1\n",
    "    all_answers.append(lines[start:start + 4])\n",
    "\n",
    "def fill_questions():\n",
    "    full_questions.update({all_questions[i]: (all_answers[i], correct_answers[i]) for i in range(len(all_questions))})\n",
    "\n",
    "fill_questions()\n",
    "\n",
    "def play():\n",
    "    while len(full_questions) > 0:\n",
    "        rand_question, values = random.choice(list(full_questions.items()))\n",
    "        print(rand_question)\n",
    "        for i in range(4):\n",
    "            print(\"{0}) {1}\".format(i + 1, values[0][i]))\n",
    "        full_questions.pop(rand_question)\n",
    "        correct = values[1]\n",
    "        while True:\n",
    "            ans = input('Введите номер ответа: ')\n",
    "            if ans not in {'0', '1', '2', '3', '4'}:\n",
    "                print('Неверный символ. Попробуйте снова!')\n",
    "            elif ans == correct:\n",
    "                print('Верно - ', ans)\n",
    "                break\n",
    "            elif ans == '0':\n",
    "                print('Game over!')\n",
    "                return\n",
    "            else:\n",
    "                fill_questions()\n",
    "                print('Неверный ответ. Начинаем заново.')\n",
    "                break\n",
    "\n",
    "play()"
   ],
   "metadata": {
    "collapsed": false,
    "pycharm": {
     "name": "#%%\n"
    }
   }
  }
 ],
 "metadata": {
  "kernelspec": {
   "display_name": "Python 3",
   "language": "python",
   "name": "python3"
  },
  "language_info": {
   "codemirror_mode": {
    "name": "ipython",
    "version": 3
   },
   "file_extension": ".py",
   "mimetype": "text/x-python",
   "name": "python",
   "nbconvert_exporter": "python",
   "pygments_lexer": "ipython3",
   "version": "3.7.3"
  }
 },
 "nbformat": 4,
 "nbformat_minor": 2
}